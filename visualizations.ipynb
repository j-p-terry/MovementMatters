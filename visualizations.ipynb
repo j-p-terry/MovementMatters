{
 "cells": [
  {
   "cell_type": "code",
   "execution_count": 1,
   "metadata": {
    "collapsed": true
   },
   "outputs": [],
   "source": [
    "import geopandas\n",
    "import pandas as pd\n",
    "import matplotlib.pyplot as plt\n",
    "from mpl_toolkits.basemap import Basemap\n",
    "import numpy as np\n",
    "import seaborn as sb\n",
    "import plotly\n",
    "import dash\n",
    "import plotly.plotly as ply\n",
    "from plotly.graph_objs import *\n",
    "from scipy.io import netcdf\n",
    "%matplotlib inline"
   ]
  },
  {
   "cell_type": "code",
   "execution_count": 2,
   "metadata": {
    "collapsed": true
   },
   "outputs": [],
   "source": [
    "plotly.tools.set_credentials_file(username='jpterry', api_key='jC0hHrhZQhOys3ypgeg8')"
   ]
  },
  {
   "cell_type": "code",
   "execution_count": 3,
   "metadata": {
    "collapsed": true
   },
   "outputs": [],
   "source": [
    "origins = [\"DR_Congo\", \"Afghanistan\", \"Syria\", \"Myanmar\", \"Sudan\"]\n",
    "destinations = [\"USA\", \"UK\", \"France\", \"Canada\", \"Italy\", \"Germany\"]\n",
    "\n",
    "org_codes = [\"COD\", \"AFG\", \"SYR\", \"MMR\", \"SDN\"]\n",
    "dest_codes = [\"USA\", \"GBR\", \"FRA\", \"CAN\", \"ITA\",\"DEU\"]\n",
    "\n",
    "years = [2000 + i for i in range(19)]\n",
    "\n",
    "features = ['destination',\n",
    " 'Origin',\n",
    " 'applied',\n",
    " 'accepted',\n",
    " 'Rejected',\n",
    " 'decisions',\n",
    " 'Year',\n",
    " 'Month',\n",
    " 'Value',\n",
    " 'deaths',\n",
    " 'last_month',\n",
    " 'two_months_ago',\n",
    " 'next_month',\n",
    " 'two_months_later']\n",
    "\n",
    "pairs = []\n",
    "for origin in origins:\n",
    "    for destination in destinations:\n",
    "        pairs.append((origin, destination))"
   ]
  },
  {
   "cell_type": "code",
   "execution_count": 4,
   "metadata": {
    "collapsed": true
   },
   "outputs": [],
   "source": [
    "# Read in data\n",
    "groups = {}\n",
    "for pair in pairs:\n",
    "    groups[pair] = pd.read_csv('./data/grouped_' + str(pair) + '.csv', skipinitialspace=True)\n",
    "    groups[pair] = groups[pair][features]"
   ]
  },
  {
   "cell_type": "code",
   "execution_count": 5,
   "metadata": {
    "collapsed": true
   },
   "outputs": [],
   "source": [
    "sent = np.array([])\n",
    "for origin in origins:\n",
    "    total = 0\n",
    "    for destination in destinations:\n",
    "        total += groups[(origin, destination)].Value.sum()\n",
    "    sent = np.append(sent, total)\n",
    "    \n",
    "avg_sent = np.array([])\n",
    "for origin in origins:\n",
    "    total = 0\n",
    "    for destination in destinations:\n",
    "        total += groups[(origin, destination)].Value.sum()/(groups[pair].Year.max() - groups[pair].Year.min())\n",
    "    avg_sent = np.append(avg_sent, total)"
   ]
  },
  {
   "cell_type": "code",
   "execution_count": 36,
   "metadata": {},
   "outputs": [],
   "source": [
    "dead = np.array([])\n",
    "for origin in origins:\n",
    "    total = 0\n",
    "    for destination in destinations:\n",
    "        total += sum(groups[(origin, destination)].deaths.unique())\n",
    "        \n",
    "    dead = np.append(dead, total)\n",
    "    \n",
    "avg_dead = np.array([])\n",
    "for origin in origins:\n",
    "    total = 0\n",
    "    for destination in destinations:\n",
    "        total += sum(groups[(origin, destination)].deaths.unique())/(groups[pair].Year.max() - groups[pair].Year.min())\n",
    "    avg_dead = np.append(avg_dead, total)"
   ]
  },
  {
   "cell_type": "code",
   "execution_count": 8,
   "metadata": {},
   "outputs": [],
   "source": [
    "this_year = 2000.\n",
    "a = groups[(origin, destination)].query('Year == @this_year').deaths.unique()[0]"
   ]
  },
  {
   "cell_type": "code",
   "execution_count": 9,
   "metadata": {},
   "outputs": [],
   "source": [
    "months = [\"Jan\", \"Feb\", \"Mar\", \"Apr\", \"May\", \"Jun\", \"Jul\", \"Aug\", \"Sept\", \"Oct\", \"Nov\", \"Dec\"]\n",
    "\n",
    "combos = []\n",
    "for year in years:\n",
    "    for month in months:\n",
    "        combos.append((month, year))"
   ]
  },
  {
   "cell_type": "code",
   "execution_count": 37,
   "metadata": {},
   "outputs": [],
   "source": [
    "dead_each_year = []\n",
    "for year in years:\n",
    "    this_year = []\n",
    "    for origin in origins:\n",
    "        total = 0\n",
    "        for destination in destinations:\n",
    "            try:\n",
    "                total += groups[(origin, destination)].query('Year == @year').deaths.unique()[0]\n",
    "                break\n",
    "            except:\n",
    "                total += 0\n",
    "        this_year.append(total)\n",
    "    dead_each_year.append(this_year)"
   ]
  },
  {
   "cell_type": "code",
   "execution_count": null,
   "metadata": {},
   "outputs": [],
   "source": [
    "dead_each_year"
   ]
  },
  {
   "cell_type": "code",
   "execution_count": 38,
   "metadata": {},
   "outputs": [],
   "source": [
    "arrived = np.array([])\n",
    "for destination in destinations:\n",
    "    total = 0\n",
    "    for origin in origins:\n",
    "        total += groups[(origin, destination)].Value.sum()\n",
    "    arrived = np.append(arrived, total)\n",
    "\n",
    "avg_arrived = np.array([])\n",
    "for destination in destinations:\n",
    "    total = 0\n",
    "    for origin in origins:\n",
    "        total += groups[(origin, destination)].Value.sum()/(groups[pair].Year.max() - groups[pair].Year.min())\n",
    "    avg_arrived = np.append(avg_arrived, total)"
   ]
  },
  {
   "cell_type": "code",
   "execution_count": 14,
   "metadata": {},
   "outputs": [
    {
     "data": {
      "text/plain": [
       "(array([ 97774., 337899., 584777.,  11655.,  59188.]),\n",
       " array([ 24909., 101881., 131539.,  23039.,  28454., 781471.]),\n",
       " array([  950240., 10851299., 26695006.,   276607.,  2443237.]),\n",
       " 6)"
      ]
     },
     "execution_count": 14,
     "metadata": {},
     "output_type": "execute_result"
    }
   ],
   "source": [
    "sent, arrived, dead, len(avg_arrived)"
   ]
  },
  {
   "cell_type": "code",
   "execution_count": 16,
   "metadata": {
    "collapsed": true
   },
   "outputs": [],
   "source": [
    "coordinates = {}\n",
    "coordinates[\"Syria\"] = (34.8, 38.997)\n",
    "coordinates[\"DR_Congo\"] = (-4.0383, 21.759)\n",
    "coordinates[\"Afghanistan\"] = (33.939, 67.71)\n",
    "coordinates[\"Sudan\"] = (12.863, 30.218)\n",
    "coordinates[\"Myanmar\"] = (21.9162, 95.956)\n",
    "\n",
    "coordinates[\"USA\"] = (37.09, -95.713)\n",
    "coordinates[\"UK\"] = (55.378, -3.436)\n",
    "coordinates[\"France\"] = (46.228, 2.214)\n",
    "coordinates[\"Germany\"] = (51.166, 10.4515)\n",
    "coordinates[\"Italy\"] = (41.872, 12.5674)\n",
    "coordinates[\"Canada\"] = (56.1304, -106.3468)"
   ]
  },
  {
   "cell_type": "code",
   "execution_count": 17,
   "metadata": {
    "collapsed": true
   },
   "outputs": [],
   "source": [
    "dest_lats = [coordinates[dest][0] for dest in destinations] \n",
    "dest_lons = [coordinates[dest][1] for dest in destinations] \n",
    "org_lats = [coordinates[org][0] for org in origins] \n",
    "org_lons = [coordinates[org][1] for org in origins]"
   ]
  },
  {
   "cell_type": "code",
   "execution_count": 18,
   "metadata": {},
   "outputs": [],
   "source": [
    "org_texts =[origins[i] + 'Total deaths = ' + str(dead[i]) for i in range(len(dead))]"
   ]
  },
  {
   "cell_type": "code",
   "execution_count": 20,
   "metadata": {},
   "outputs": [],
   "source": [
    "sent_each_year_by_orig = []\n",
    "relative_sizes = []\n",
    "for origin in origins:\n",
    "    this_origin = []\n",
    "    these_sizes = []\n",
    "    for year in years:\n",
    "        total = 0\n",
    "        year = int(year)\n",
    "        for destination in destinations:\n",
    "            try:\n",
    "                total += groups[(origin, destination)].query('Year == @year').Value.sum()\n",
    "            except:\n",
    "                total += 0\n",
    "        this_origin.append(total)\n",
    "    for i in range(len(years)):\n",
    "        these_sizes.append(0.5e2*this_origin[i]/max(this_origin))\n",
    "    sent_each_year_by_orig.append(this_origin)\n",
    "    relative_sizes.append(these_sizes)"
   ]
  },
  {
   "cell_type": "code",
   "execution_count": null,
   "metadata": {
    "collapsed": true
   },
   "outputs": [],
   "source": [
    "relative_sizes2 = [[] for i in range(len(years))]\n",
    "for i in range(len(relative_sizes)):\n",
    "    for ii in range(len(relative_sizes[i])):\n",
    "        relative_sizes2[ii].append(relative_sizes[i][ii])"
   ]
  },
  {
   "cell_type": "code",
   "execution_count": 21,
   "metadata": {},
   "outputs": [],
   "source": [
    "sent_each_year = [[] for i in range(len(years))]\n",
    "year_sizes = [[] for i in range(len(years))]\n",
    "for i in range(len(sent_each_year_by_orig)):\n",
    "    for ii in range(len(sent_each_year_by_orig[i])):\n",
    "        sent_each_year[ii].append(sent_each_year_by_orig[i][ii])\n",
    "#         year_sizes[ii].append(relative_sizes[i][ii])\n",
    "for i in range(len(sent_each_year)):\n",
    "    for ii in range(len(sent_each_year[i])):\n",
    "        if max(sent_each_year[i]) != 0:\n",
    "            year_sizes[i].append(50*sent_each_year[i][ii]/max(sent_each_year[i]))\n",
    "        else:\n",
    "            year_sizes[i].append(0)"
   ]
  },
  {
   "cell_type": "code",
   "execution_count": 155,
   "metadata": {},
   "outputs": [],
   "source": [
    "arr_each_year_by_dest = []\n",
    "relative_sizes_arr = []\n",
    "for destination in destinations:\n",
    "    this_dest = []\n",
    "    these_sizes = []\n",
    "    for year in years:\n",
    "        total = 0\n",
    "        year = int(year)\n",
    "        for origin in origins:\n",
    "            try:\n",
    "                total += groups[(origin, destination)].query('Year == @year').Value.sum()\n",
    "            except:\n",
    "                total += 0\n",
    "        this_dest.append(total)\n",
    "    for i in range(len(years)):\n",
    "        these_sizes.append(0.5e2*this_dest[i]/max(this_dest))\n",
    "    arr_each_year_by_dest.append(this_dest)\n",
    "    relative_sizes_arr.append(these_sizes)"
   ]
  },
  {
   "cell_type": "code",
   "execution_count": 156,
   "metadata": {},
   "outputs": [],
   "source": [
    "relative_sizes_arr2 = [[] for i in range(len(years))]\n",
    "for i in range(len(relative_sizes_arr)):\n",
    "    for ii in range(len(relative_sizes_arr[i])):\n",
    "        relative_sizes_arr2[ii].append(relative_sizes_arr[i][ii])"
   ]
  },
  {
   "cell_type": "code",
   "execution_count": 157,
   "metadata": {
    "collapsed": true
   },
   "outputs": [],
   "source": [
    "arr_each_year = [[] for i in range(len(years))]\n",
    "for i in range(len(arr_each_year_by_dest)):\n",
    "    for ii in range(len(arr_each_year_by_dest[i])):\n",
    "        arr_each_year[ii].append(arr_each_year_by_dest[i][ii])\n",
    "#         year_sizes[ii].append(relative_sizes[i][ii])"
   ]
  },
  {
   "cell_type": "code",
   "execution_count": 14,
   "metadata": {},
   "outputs": [
    {
     "data": {
      "text/plain": [
       "(array([ 97774., 337899., 584777.,  11655.,  59188.]),\n",
       " array([ 24909., 101881., 131539.,  23039.,  28454., 781471.]),\n",
       " array([  950240., 10851299., 26695006.,   276607.,  2443237.]),\n",
       " 6)"
      ]
     },
     "execution_count": 14,
     "metadata": {},
     "output_type": "execute_result"
    }
   ],
   "source": [
    "sent, arrived, dead, len(avg_arrived)"
   ]
  },
  {
   "cell_type": "code",
   "execution_count": 23,
   "metadata": {
    "collapsed": true
   },
   "outputs": [],
   "source": [
    "dead_dic = {}\n",
    "for i in range(len(years)-1):\n",
    "    dead_dic[years[i]] = dead_each_year[i]"
   ]
  },
  {
   "cell_type": "code",
   "execution_count": null,
   "metadata": {},
   "outputs": [],
   "source": [
    "dead_dic"
   ]
  },
  {
   "cell_type": "code",
   "execution_count": 24,
   "metadata": {},
   "outputs": [],
   "source": [
    "df = pd.DataFrame(dead_dic, index=origins)"
   ]
  },
  {
   "cell_type": "code",
   "execution_count": 25,
   "metadata": {},
   "outputs": [
    {
     "data": {
      "text/plain": [
       "Syria    1.000000e-16\n",
       "Name: 2010, dtype: float64"
      ]
     },
     "execution_count": 25,
     "metadata": {},
     "output_type": "execute_result"
    }
   ],
   "source": [
    "year = 2010\n",
    "df[df.index == 'Syria'][year]"
   ]
  },
  {
   "cell_type": "code",
   "execution_count": 26,
   "metadata": {},
   "outputs": [],
   "source": [
    "sent_dic = {}\n",
    "for i in range(len(years)-1):\n",
    "    sent_dic[years[i]] = sent_each_year[i]"
   ]
  },
  {
   "cell_type": "code",
   "execution_count": 27,
   "metadata": {},
   "outputs": [],
   "source": [
    "df_s = pd.DataFrame(sent_dic, index=origins)"
   ]
  },
  {
   "cell_type": "code",
   "execution_count": 28,
   "metadata": {},
   "outputs": [
    {
     "data": {
      "text/plain": [
       "2000      2380.0\n",
       "2001      2571.0\n",
       "2002      2030.0\n",
       "2003      1603.0\n",
       "2004      1379.0\n",
       "2005      1436.0\n",
       "2006       937.0\n",
       "2007       960.0\n",
       "2008      1127.0\n",
       "2009      1285.0\n",
       "2010      2077.0\n",
       "2011      4240.0\n",
       "2012      9513.0\n",
       "2013     17884.0\n",
       "2014     47581.0\n",
       "2015    168761.0\n",
       "2016    276351.0\n",
       "2017     42662.0\n",
       "Name: Syria, dtype: float64"
      ]
     },
     "execution_count": 28,
     "metadata": {},
     "output_type": "execute_result"
    }
   ],
   "source": [
    "# filtered_df_s = df_s.loc[:, 2010]\n",
    "df_s.loc[\"Syria\"]"
   ]
  },
  {
   "cell_type": "code",
   "execution_count": 29,
   "metadata": {},
   "outputs": [
    {
     "ename": "NameError",
     "evalue": "name 'filtered_df_s' is not defined",
     "output_type": "error",
     "traceback": [
      "\u001b[0;31m---------------------------------------------------------------------------\u001b[0m",
      "\u001b[0;31mNameError\u001b[0m                                 Traceback (most recent call last)",
      "\u001b[0;32m<ipython-input-29-2d7e7d5aed9a>\u001b[0m in \u001b[0;36m<module>\u001b[0;34m()\u001b[0m\n\u001b[1;32m      1\u001b[0m \u001b[0mi\u001b[0m \u001b[0;34m=\u001b[0m \u001b[0;34m\"Syria\"\u001b[0m\u001b[0;34m\u001b[0m\u001b[0m\n\u001b[0;32m----> 2\u001b[0;31m \u001b[0msent_by_country\u001b[0m \u001b[0;34m=\u001b[0m \u001b[0mfiltered_df_s\u001b[0m\u001b[0;34m[\u001b[0m\u001b[0mfiltered_df_s\u001b[0m\u001b[0;34m.\u001b[0m\u001b[0mindex\u001b[0m \u001b[0;34m==\u001b[0m \u001b[0mi\u001b[0m\u001b[0;34m]\u001b[0m\u001b[0;34m\u001b[0m\u001b[0m\n\u001b[0m",
      "\u001b[0;31mNameError\u001b[0m: name 'filtered_df_s' is not defined"
     ]
    }
   ],
   "source": [
    "# i = \"Syria\"\n",
    "# sent_by_country = filtered_df_s[filtered_df_s.index == i]"
   ]
  },
  {
   "cell_type": "code",
   "execution_count": null,
   "metadata": {},
   "outputs": [],
   "source": [
    "sent_by_country + 2"
   ]
  },
  {
   "cell_type": "markdown",
   "metadata": {},
   "source": [
    "### Start plots"
   ]
  },
  {
   "cell_type": "markdown",
   "metadata": {},
   "source": [
    "#### Interactive Maps"
   ]
  },
  {
   "cell_type": "code",
   "execution_count": 39,
   "metadata": {},
   "outputs": [
    {
     "data": {
      "text/html": [
       "<iframe id=\"igraph\" scrolling=\"no\" style=\"border:none;\" seamless=\"seamless\" src=\"https://plot.ly/~jpterry/4.embed\" height=\"525px\" width=\"100%\"></iframe>"
      ],
      "text/plain": [
       "<plotly.tools.PlotlyDisplay object>"
      ]
     },
     "execution_count": 39,
     "metadata": {},
     "output_type": "execute_result"
    }
   ],
   "source": [
    "data = [dict(\n",
    "        type = 'choropleth',\n",
    "        locations = org_codes,\n",
    "        z = dead,\n",
    "        text = origins,\n",
    "        colorscale = [[0,\"rgb(139,0,0)\"],[0.35,\"rgb(255,0,0)\"],[0.5,\"rgb(255,140,0)\"],\\\n",
    "            [0.6,\"rgb(255,165,0)\"],[0.7,\"rgb(255,255,0)\"], [1, \"rgb(255,255,204)\"]],\n",
    "        autocolorscale = False,\n",
    "        reversescale = True,\n",
    "        marker = dict(\n",
    "            line = dict (\n",
    "                color = 'rgb(180,180,180)',\n",
    "                width = 0.5\n",
    "            ) ),\n",
    "        colorbar = dict(\n",
    "            autotick = False,\n",
    "            tickprefix = '',\n",
    "            title = 'Conflict Deaths'),\n",
    "      ) ]\n",
    "\n",
    "layout = dict(\n",
    "    title = 'Total Conflict Deaths 2000 - 2018',\n",
    "    geo = dict(\n",
    "        showframe = False, \n",
    "        showcoastlines = True,\n",
    "        showcountries = True, \n",
    "        showland = True,\n",
    "        landcolor = \"rgb(229, 229, 229)\",\n",
    "        projection = dict(\n",
    "            type = 'Mercator'\n",
    "        )\n",
    "    )\n",
    ")\n",
    "\n",
    "fig = dict( data=data, layout=layout )\n",
    "ply.iplot(fig, validate=False, filename='deaths_world' )"
   ]
  },
  {
   "cell_type": "code",
   "execution_count": 40,
   "metadata": {},
   "outputs": [
    {
     "data": {
      "text/html": [
       "<iframe id=\"igraph\" scrolling=\"no\" style=\"border:none;\" seamless=\"seamless\" src=\"https://plot.ly/~jpterry/16.embed\" height=\"525px\" width=\"100%\"></iframe>"
      ],
      "text/plain": [
       "<plotly.tools.PlotlyDisplay object>"
      ]
     },
     "execution_count": 40,
     "metadata": {},
     "output_type": "execute_result"
    }
   ],
   "source": [
    "data = [dict(\n",
    "        type = 'choropleth',\n",
    "        locations = org_codes,\n",
    "        z = avg_dead,\n",
    "        text = origins,\n",
    "        colorscale = [[0,\"rgb(139,0,0)\"],[0.35,\"rgb(255,0,0)\"],[0.5,\"rgb(255,140,0)\"],\\\n",
    "            [0.6,\"rgb(255,165,0)\"],[0.7,\"rgb(255,255,0)\"], [1, \"rgb(255,255,204)\"]],\n",
    "        autocolorscale = False,\n",
    "        reversescale = True,\n",
    "        marker = dict(\n",
    "            line = dict (\n",
    "                color = 'rgb(180,180,180)',\n",
    "                width = 0.5\n",
    "            ) ),\n",
    "        colorbar = dict(\n",
    "            autotick = False,\n",
    "            tickprefix = '',\n",
    "            title = 'Conflict Deaths'),\n",
    "      ) ]\n",
    "\n",
    "layout = dict(\n",
    "    title = 'Conflict Deaths per Year',\n",
    "    geo = dict(\n",
    "        showframe = False, \n",
    "        showcoastlines = True,\n",
    "        showcountries = True, \n",
    "        showland = True,\n",
    "        landcolor = \"rgb(229, 229, 229)\",\n",
    "        projection = dict(\n",
    "            type = 'Mercator'\n",
    "        )\n",
    "    )\n",
    ")\n",
    "\n",
    "fig = dict( data=data, layout=layout )\n",
    "ply.iplot(fig, validate=False, filename='avg_deaths_world' )"
   ]
  },
  {
   "cell_type": "code",
   "execution_count": 41,
   "metadata": {},
   "outputs": [
    {
     "data": {
      "text/html": [
       "<iframe id=\"igraph\" scrolling=\"no\" style=\"border:none;\" seamless=\"seamless\" src=\"https://plot.ly/~jpterry/12.embed\" height=\"525px\" width=\"100%\"></iframe>"
      ],
      "text/plain": [
       "<plotly.tools.PlotlyDisplay object>"
      ]
     },
     "execution_count": 41,
     "metadata": {},
     "output_type": "execute_result"
    }
   ],
   "source": [
    "data = [dict(\n",
    "        type = 'choropleth',\n",
    "        locations = org_codes,\n",
    "        z = sent,\n",
    "        text = origins,\n",
    "        colorscale = [[0,\"rgb(255,0,0)\"],[0.35,\"rgb(255,99,71))\"],[0.5,\"rgb(255,140,0)\"],\\\n",
    "            [0.6,\"rgb(255,165,0)\"],[0.7,\"rgb(255,215,0\"],[1,\"rgb(255,255,102)\"]],\n",
    "        autocolorscale = False,\n",
    "        reversescale = True,\n",
    "        marker = dict(\n",
    "            line = dict (\n",
    "                color = 'rgb(180,180,180)',\n",
    "                width = 0.5\n",
    "            ) ),\n",
    "        colorbar = dict(\n",
    "            autotick = False,\n",
    "            tickprefix = '',\n",
    "            title = 'Total Refugees Deaths'),\n",
    "      ) ]\n",
    "\n",
    "layout = dict(\n",
    "    title = 'Total Refugees Sent 2000 - 2018',\n",
    "    geo = dict(\n",
    "        showframe = False, \n",
    "        showcoastlines = True,\n",
    "        showcountries = True, \n",
    "        showland = True,\n",
    "        landcolor = \"rgb(229, 229, 229)\",\n",
    "        projection = dict(\n",
    "            type = 'Mercator'\n",
    "        )\n",
    "    )\n",
    ")\n",
    "\n",
    "data2 = [dict(\n",
    "        type = 'choropleth',\n",
    "        locations = dest_codes,\n",
    "        z = arrived,\n",
    "        text = destinations,\n",
    "        colorscale = [[0,\"rgb(255,0,0)\"],[0.35,\"rgb(255,99,71))\"],[0.5,\"rgb(255,140,0)\"],\\\n",
    "            [0.6,\"rgb(255,165,0)\"],[0.7,\"rgb(255,255,0)\"], [1, \"rgb(255,255,224)\"]],\n",
    "        autocolorscale = False,\n",
    "        reversescale = True,\n",
    "        marker = dict(\n",
    "            line = dict (\n",
    "                color = 'rgb(180,180,180)',\n",
    "                width = 0.5\n",
    "            ) ),\n",
    "        colorbar = dict(\n",
    "            autotick = False,\n",
    "            tickprefix = '',\n",
    "            title = 'Refugees'),\n",
    "      ) ]\n",
    "\n",
    "layout2 = dict(\n",
    "    title = 'Total Refugees Accepted 2000 - 2018',\n",
    "    geo = dict(\n",
    "        showframe = False, \n",
    "        showcoastlines = True,\n",
    "        showcountries = True, \n",
    "        showland = True,\n",
    "        landcolor = \"rgb(229, 229, 229)\",\n",
    "        projection = dict(\n",
    "            type = 'Mercator'\n",
    "        )\n",
    "    )\n",
    ")\n",
    "\n",
    "\n",
    "\n",
    "fig = dict(data=data, layout=layout)\n",
    "fig2 = dict(data=data2, layout=layout2)\n",
    "ply.iplot(fig2, validate=False, filename='total_refugees_accepted' )"
   ]
  },
  {
   "cell_type": "code",
   "execution_count": 42,
   "metadata": {},
   "outputs": [
    {
     "data": {
      "text/html": [
       "<iframe id=\"igraph\" scrolling=\"no\" style=\"border:none;\" seamless=\"seamless\" src=\"https://plot.ly/~jpterry/14.embed\" height=\"525px\" width=\"100%\"></iframe>"
      ],
      "text/plain": [
       "<plotly.tools.PlotlyDisplay object>"
      ]
     },
     "execution_count": 42,
     "metadata": {},
     "output_type": "execute_result"
    }
   ],
   "source": [
    "ply.iplot(fig, validate=False, filename='total_refugees_sent' )"
   ]
  },
  {
   "cell_type": "code",
   "execution_count": 43,
   "metadata": {
    "collapsed": true
   },
   "outputs": [],
   "source": [
    "data = [dict(\n",
    "        type = 'choropleth',\n",
    "        locations = org_codes,\n",
    "        z = avg_sent,\n",
    "        text = origins,\n",
    "        colorscale = [[0,\"rgb(255,0,0)\"],[0.35,\"rgb(255,99,71))\"],[0.5,\"rgb(255,140,0)\"],\\\n",
    "            [0.6,\"rgb(255,165,0)\"],[0.7,\"rgb(255,215,0\"],[1,\"rgb(255,255,102)\"]],\n",
    "        autocolorscale = False,\n",
    "        reversescale = True,\n",
    "        marker = dict(\n",
    "            line = dict (\n",
    "                color = 'rgb(180,180,180)',\n",
    "                width = 0.5\n",
    "            ) ),\n",
    "        colorbar = dict(\n",
    "            autotick = False,\n",
    "            tickprefix = '',\n",
    "            title = 'Refugees Sent per Year'),\n",
    "      ) ]\n",
    "\n",
    "layout = dict(\n",
    "    title = 'Refugees Sent per Year',\n",
    "    geo = dict(\n",
    "        showframe = False, \n",
    "        showcoastlines = True,\n",
    "        showcountries = True, \n",
    "        showland = True,\n",
    "        landcolor = \"rgb(229, 229, 229)\",\n",
    "        projection = dict(\n",
    "            type = 'Mercator'\n",
    "        )\n",
    "    )\n",
    ")"
   ]
  },
  {
   "cell_type": "code",
   "execution_count": 44,
   "metadata": {},
   "outputs": [
    {
     "data": {
      "text/html": [
       "<iframe id=\"igraph\" scrolling=\"no\" style=\"border:none;\" seamless=\"seamless\" src=\"https://plot.ly/~jpterry/10.embed\" height=\"525px\" width=\"100%\"></iframe>"
      ],
      "text/plain": [
       "<plotly.tools.PlotlyDisplay object>"
      ]
     },
     "execution_count": 44,
     "metadata": {},
     "output_type": "execute_result"
    }
   ],
   "source": [
    "fig = dict(data=data, layout=layout)\n",
    "ply.iplot(fig, validate=False, filename='avg_refugees_sent' )"
   ]
  },
  {
   "cell_type": "code",
   "execution_count": 45,
   "metadata": {
    "collapsed": true
   },
   "outputs": [],
   "source": [
    "data = [dict(\n",
    "        type = 'choropleth',\n",
    "        locations = dest_codes,\n",
    "        z = avg_arrived,\n",
    "        text = destinations,\n",
    "        colorscale = [[0,\"rgb(255,0,0)\"],[0.35,\"rgb(255,99,71))\"],[0.5,\"rgb(255,140,0)\"],\\\n",
    "            [0.6,\"rgb(255,165,0)\"],[0.7,\"rgb(255,215,0\"],[1,\"rgb(255,255,102)\"]],\n",
    "        autocolorscale = False,\n",
    "        reversescale = True,\n",
    "        marker = dict(\n",
    "            line = dict (\n",
    "                color = 'rgb(180,180,180)',\n",
    "                width = 0.5\n",
    "            ) ),\n",
    "        colorbar = dict(\n",
    "            autotick = False,\n",
    "            tickprefix = '',\n",
    "            title = 'Refugees Accepted per Year'),\n",
    "      ) ]\n",
    "\n",
    "layout = dict(\n",
    "    title = 'Refugees Accepted per Year',\n",
    "    geo = dict(\n",
    "        showframe = False, \n",
    "        showcoastlines = True,\n",
    "        showcountries = True, \n",
    "        showland = True,\n",
    "        landcolor = \"rgb(229, 229, 229)\",\n",
    "        projection = dict(\n",
    "            type = 'Mercator'\n",
    "        )\n",
    "    )\n",
    ")"
   ]
  },
  {
   "cell_type": "code",
   "execution_count": 46,
   "metadata": {},
   "outputs": [
    {
     "data": {
      "text/html": [
       "<iframe id=\"igraph\" scrolling=\"no\" style=\"border:none;\" seamless=\"seamless\" src=\"https://plot.ly/~jpterry/8.embed\" height=\"525px\" width=\"100%\"></iframe>"
      ],
      "text/plain": [
       "<plotly.tools.PlotlyDisplay object>"
      ]
     },
     "execution_count": 46,
     "metadata": {},
     "output_type": "execute_result"
    }
   ],
   "source": [
    "fig = dict(data=data, layout=layout)\n",
    "ply.iplot(fig, validate=False, filename='avg_refugees_accepted' )"
   ]
  },
  {
   "cell_type": "markdown",
   "metadata": {},
   "source": [
    "#### Refugees each year"
   ]
  },
  {
   "cell_type": "code",
   "execution_count": 151,
   "metadata": {},
   "outputs": [
    {
     "data": {
      "text/html": [
       "<iframe id=\"igraph\" scrolling=\"no\" style=\"border:none;\" seamless=\"seamless\" src=\"https://plot.ly/~jpterry/20.embed\" height=\"525px\" width=\"100%\"></iframe>"
      ],
      "text/plain": [
       "<plotly.tools.PlotlyDisplay object>"
      ]
     },
     "execution_count": 151,
     "metadata": {},
     "output_type": "execute_result"
    }
   ],
   "source": [
    "import plotly.graph_objs as go\n",
    "sent_year = []\n",
    "# colors = ['rgb(239,243,255)','rgb(189,215,231)','rgb(107,174,214)','rgb(33,113,181)']\n",
    "# colors = 'inferno'\n",
    "\n",
    "labels = []\n",
    "for i in range(len(sent_each_year)):\n",
    "    labels.append([])\n",
    "    for ii in range(len(origins)):\n",
    "        labels[i].append(str(sent_each_year[i][ii]) + ' ' + origins[ii])\n",
    "\n",
    "colors = ['red','crimson', 'deeppink', 'fuchsia', 'violet', \\\n",
    "         'darkviolet', 'slateblue', 'darkblue','slategrey', \\\n",
    "          'skyblue', 'darkslategrey',\n",
    "         'mediumseagreen', 'green','lawngreen', 'orange', 'peachpuff',\\\n",
    "         'coral', 'lightcoral']\n",
    "\n",
    "for i in range(len(years)-1):\n",
    "    sent_year.append(go.Scattergeo(\n",
    "        lon = org_lons,\n",
    "        lat = org_lats,\n",
    "        text = labels[i],\n",
    "        name = str(years[i]),\n",
    "        marker = dict(\n",
    "            size = relative_sizes2[i],\n",
    "            color = colors[i]\n",
    "#             line = dict(width = 0)\n",
    "        ),\n",
    "    ) )\n",
    "\n",
    "# cases[0]['text'] = df[ df['Month'] == 9 ]['Value'].map('{:.0f}'.format).astype(str)+' '+\\\n",
    "#     df[ df['Month'] == 9 ]['Country']\n",
    "# cases[0]['mode'] = 'markers+text'\n",
    "# cases[0]['textposition'] = 'bottom center'\n",
    "\n",
    "inset = [\n",
    "    go.Choropleth(\n",
    "#         locationmode = 'country codes',\n",
    "        locations = org_codes,\n",
    "        z = sent_each_year,\n",
    "#         text = df[ df['Month'] == 9 ]['Country'],\n",
    "        colorscale = [[0,'rgb(0, 0, 0)'],[1,'rgb(0, 0, 0)']],\n",
    "        autocolorscale = False,\n",
    "        showscale = False,\n",
    "        geo = 'geo'\n",
    "    ),\n",
    "    go.Scattergeo(\n",
    "        lon = [21.0936],\n",
    "        lat = [7.1881],\n",
    "        text = ['World'],\n",
    "        mode = 'text',\n",
    "        showlegend = False,\n",
    "        geo = 'geo'\n",
    "    )\n",
    "]\n",
    "\n",
    "layout = go.Layout(\n",
    "    title = 'Regufees each year',\n",
    "    geo = dict(\n",
    "        resolution = 50,\n",
    "        scope = 'world',\n",
    "        showframe = False,\n",
    "        showcoastlines = True,\n",
    "        showland = True,\n",
    "        showcountries=True,\n",
    "        landcolor = \"rgb(229, 229, 229)\",\n",
    "        countrycolor = \"rgb(255, 255, 255)\" ,\n",
    "        coastlinecolor = \"rgb(255, 255, 255)\",\n",
    "        projection = dict(\n",
    "            type = 'mercator'\n",
    "        )#,\n",
    "#         lonaxis = dict( range= [ -15.0, -5.0 ] ),\n",
    "#         lataxis = dict( range= [ 0.0, 12.0 ] ),\n",
    "#         domain = dict(\n",
    "#             x = [ 0, 1 ],\n",
    "#             y = [ 0, 1 ]\n",
    "#         )\n",
    "    )#,\n",
    "#     geo2 = dict(\n",
    "#         scope = 'world',\n",
    "#         showframe = False,\n",
    "#         showland = True,\n",
    "#         landcolor = \"rgb(229, 229, 229)\",\n",
    "#         showcountries = False,\n",
    "#         domain = dict(\n",
    "#             x = [ 0, 0.6 ],\n",
    "#             y = [ 0, 0.6 ]\n",
    "#         ),\n",
    "#         bgcolor = 'rgba(255, 255, 255, 0.0)',\n",
    "#     ),\n",
    "#     legend = dict(\n",
    "#            traceorder = 'reversed'\n",
    "#     )\n",
    ")\n",
    "\n",
    "fig = go.Figure(layout=layout, data=sent_year)\n",
    "ply.iplot(fig, validate=False, filename='Refugees_sent_each_year')"
   ]
  },
  {
   "cell_type": "code",
   "execution_count": 159,
   "metadata": {},
   "outputs": [
    {
     "data": {
      "text/html": [
       "<iframe id=\"igraph\" scrolling=\"no\" style=\"border:none;\" seamless=\"seamless\" src=\"https://plot.ly/~jpterry/24.embed\" height=\"525px\" width=\"100%\"></iframe>"
      ],
      "text/plain": [
       "<plotly.tools.PlotlyDisplay object>"
      ]
     },
     "execution_count": 159,
     "metadata": {},
     "output_type": "execute_result"
    }
   ],
   "source": [
    "import plotly.graph_objs as go\n",
    "arr_year = []\n",
    "# colors = ['rgb(239,243,255)','rgb(189,215,231)','rgb(107,174,214)','rgb(33,113,181)']\n",
    "# colors = 'inferno'\n",
    "\n",
    "labels = []\n",
    "for i in range(len(arr_each_year)):\n",
    "    labels.append([])\n",
    "    for ii in range(len(destinations)):\n",
    "        labels[i].append(str(arr_each_year[i][ii]) + ' ' + destinations[ii])\n",
    "\n",
    "colors = ['red','crimson', 'deeppink', 'fuchsia', 'violet', \\\n",
    "         'darkviolet', 'slateblue', 'darkblue','slategrey', \\\n",
    "          'skyblue', 'darkslategrey',\n",
    "         'mediumseagreen', 'green','lawngreen', 'orange', 'peachpuff',\\\n",
    "         'coral', 'lightcoral']\n",
    "\n",
    "for i in range(len(years)-1):\n",
    "    arr_year.append(go.Scattergeo(\n",
    "        lon = dest_lons,\n",
    "        lat = dest_lats,\n",
    "        text = labels[i],\n",
    "        name = str(years[i]),\n",
    "        marker = dict(\n",
    "            size = relative_sizes_arr2[i],\n",
    "            color = colors[i]\n",
    "#             line = dict(width = 0)\n",
    "        ),\n",
    "    ) )\n",
    "\n",
    "# cases[0]['text'] = df[ df['Month'] == 9 ]['Value'].map('{:.0f}'.format).astype(str)+' '+\\\n",
    "#     df[ df['Month'] == 9 ]['Country']\n",
    "# cases[0]['mode'] = 'markers+text'\n",
    "# cases[0]['textposition'] = 'bottom center'\n",
    "\n",
    "inset = [\n",
    "    go.Choropleth(\n",
    "#         locationmode = 'country codes',\n",
    "        locations = dest_codes,\n",
    "        z = arr_each_year,\n",
    "#         text = df[ df['Month'] == 9 ]['Country'],\n",
    "        colorscale = [[0,'rgb(0, 0, 0)'],[1,'rgb(0, 0, 0)']],\n",
    "        autocolorscale = False,\n",
    "        showscale = False,\n",
    "        geo = 'geo'\n",
    "    ),\n",
    "    go.Scattergeo(\n",
    "        lon = [21.0936],\n",
    "        lat = [7.1881],\n",
    "        text = ['World'],\n",
    "        mode = 'text',\n",
    "        showlegend = False,\n",
    "        geo = 'geo'\n",
    "    )\n",
    "]\n",
    "\n",
    "layout = go.Layout(\n",
    "    title = 'Regufees each year',\n",
    "    geo = dict(\n",
    "        resolution = 50,\n",
    "        scope = 'world',\n",
    "        showframe = False,\n",
    "        showcoastlines = True,\n",
    "        showland = True,\n",
    "        showcountries=True,\n",
    "        landcolor = \"rgb(229, 229, 229)\",\n",
    "        countrycolor = \"rgb(255, 255, 255)\" ,\n",
    "        coastlinecolor = \"rgb(255, 255, 255)\",\n",
    "        projection = dict(\n",
    "            type = 'mercator'\n",
    "        )#,\n",
    "#         lonaxis = dict( range= [ -15.0, -5.0 ] ),\n",
    "#         lataxis = dict( range= [ 0.0, 12.0 ] ),\n",
    "#         domain = dict(\n",
    "#             x = [ 0, 1 ],\n",
    "#             y = [ 0, 1 ]\n",
    "#         )\n",
    "    )#,\n",
    "#     geo2 = dict(\n",
    "#         scope = 'world',\n",
    "#         showframe = False,\n",
    "#         showland = True,\n",
    "#         landcolor = \"rgb(229, 229, 229)\",\n",
    "#         showcountries = False,\n",
    "#         domain = dict(\n",
    "#             x = [ 0, 0.6 ],\n",
    "#             y = [ 0, 0.6 ]\n",
    "#         ),\n",
    "#         bgcolor = 'rgba(255, 255, 255, 0.0)',\n",
    "#     ),\n",
    "#     legend = dict(\n",
    "#            traceorder = 'reversed'\n",
    "#     )\n",
    ")\n",
    "\n",
    "fig = go.Figure(layout=layout, data=arr_year)\n",
    "ply.iplot(fig, validate=False, filename='Refugees_taken_each_year')"
   ]
  },
  {
   "cell_type": "code",
   "execution_count": 113,
   "metadata": {},
   "outputs": [
    {
     "data": {
      "text/plain": [
       "[[array([0.96862745, 0.98823529, 0.99215686, 1.        ]),\n",
       "  array([0.96862745, 0.98823529, 0.99215686, 1.        ]),\n",
       "  array([0.96862745, 0.98823529, 0.99215686, 1.        ]),\n",
       "  array([0.96862745, 0.98823529, 0.99215686, 1.        ]),\n",
       "  array([0.96862745, 0.98823529, 0.99215686, 1.        ])],\n",
       " [array([0.92901192, 0.96067666, 0.97665513, 1.        ]),\n",
       "  array([0.92901192, 0.96067666, 0.97665513, 1.        ]),\n",
       "  array([0.92901192, 0.96067666, 0.97665513, 1.        ]),\n",
       "  array([0.92901192, 0.96067666, 0.97665513, 1.        ]),\n",
       "  array([0.92901192, 0.96067666, 0.97665513, 1.        ])],\n",
       " [array([0.88939639, 0.93311803, 0.9611534 , 1.        ]),\n",
       "  array([0.88939639, 0.93311803, 0.9611534 , 1.        ]),\n",
       "  array([0.88939639, 0.93311803, 0.9611534 , 1.        ]),\n",
       "  array([0.88939639, 0.93311803, 0.9611534 , 1.        ]),\n",
       "  array([0.88939639, 0.93311803, 0.9611534 , 1.        ])],\n",
       " [array([0.83732411, 0.89434833, 0.9394233 , 1.        ]),\n",
       "  array([0.83732411, 0.89434833, 0.9394233 , 1.        ]),\n",
       "  array([0.83732411, 0.89434833, 0.9394233 , 1.        ]),\n",
       "  array([0.83732411, 0.89434833, 0.9394233 , 1.        ]),\n",
       "  array([0.83732411, 0.89434833, 0.9394233 , 1.        ])],\n",
       " [array([0.78048443, 0.85128797, 0.9153095 , 1.        ]),\n",
       "  array([0.78048443, 0.85128797, 0.9153095 , 1.        ]),\n",
       "  array([0.78048443, 0.85128797, 0.9153095 , 1.        ]),\n",
       "  array([0.78048443, 0.85128797, 0.9153095 , 1.        ]),\n",
       "  array([0.78048443, 0.85128797, 0.9153095 , 1.        ])],\n",
       " [array([0.71958478, 0.80693579, 0.89125721, 1.        ]),\n",
       "  array([0.71958478, 0.80693579, 0.89125721, 1.        ]),\n",
       "  array([0.71958478, 0.80693579, 0.89125721, 1.        ]),\n",
       "  array([0.71958478, 0.80693579, 0.89125721, 1.        ]),\n",
       "  array([0.71958478, 0.80693579, 0.89125721, 1.        ])],\n",
       " [array([0.6627451 , 0.76732026, 0.87058824, 1.        ]),\n",
       "  array([0.6627451 , 0.76732026, 0.87058824, 1.        ]),\n",
       "  array([0.6627451 , 0.76732026, 0.87058824, 1.        ]),\n",
       "  array([0.6627451 , 0.76732026, 0.87058824, 1.        ]),\n",
       "  array([0.6627451 , 0.76732026, 0.87058824, 1.        ])],\n",
       " [array([0.61213379, 0.72147636, 0.84659746, 1.        ]),\n",
       "  array([0.61213379, 0.72147636, 0.84659746, 1.        ]),\n",
       "  array([0.61213379, 0.72147636, 0.84659746, 1.        ]),\n",
       "  array([0.61213379, 0.72147636, 0.84659746, 1.        ]),\n",
       "  array([0.61213379, 0.72147636, 0.84659746, 1.        ])],\n",
       " [array([0.58113033, 0.65602461, 0.81214917, 1.        ]),\n",
       "  array([0.58113033, 0.65602461, 0.81214917, 1.        ]),\n",
       "  array([0.58113033, 0.65602461, 0.81214917, 1.        ]),\n",
       "  array([0.58113033, 0.65602461, 0.81214917, 1.        ]),\n",
       "  array([0.58113033, 0.65602461, 0.81214917, 1.        ])],\n",
       " [array([0.54901961, 0.58559016, 0.77517878, 1.        ]),\n",
       "  array([0.54901961, 0.58559016, 0.77517878, 1.        ]),\n",
       "  array([0.54901961, 0.58559016, 0.77517878, 1.        ]),\n",
       "  array([0.54901961, 0.58559016, 0.77517878, 1.        ]),\n",
       "  array([0.54901961, 0.58559016, 0.77517878, 1.        ])],\n",
       " [array([0.54901961, 0.51152634, 0.73900807, 1.        ]),\n",
       "  array([0.54901961, 0.51152634, 0.73900807, 1.        ]),\n",
       "  array([0.54901961, 0.51152634, 0.73900807, 1.        ]),\n",
       "  array([0.54901961, 0.51152634, 0.73900807, 1.        ]),\n",
       "  array([0.54901961, 0.51152634, 0.73900807, 1.        ])],\n",
       " [array([0.54901961, 0.43746251, 0.70283737, 1.        ]),\n",
       "  array([0.54901961, 0.43746251, 0.70283737, 1.        ]),\n",
       "  array([0.54901961, 0.43746251, 0.70283737, 1.        ]),\n",
       "  array([0.54901961, 0.43746251, 0.70283737, 1.        ]),\n",
       "  array([0.54901961, 0.43746251, 0.70283737, 1.        ])],\n",
       " [array([0.54379085, 0.36470588, 0.66797386, 1.        ]),\n",
       "  array([0.54379085, 0.36470588, 0.66797386, 1.        ]),\n",
       "  array([0.54379085, 0.36470588, 0.66797386, 1.        ]),\n",
       "  array([0.54379085, 0.36470588, 0.66797386, 1.        ]),\n",
       "  array([0.54379085, 0.36470588, 0.66797386, 1.        ])],\n",
       " [array([0.53690119, 0.29236448, 0.63352557, 1.        ]),\n",
       "  array([0.53690119, 0.29236448, 0.63352557, 1.        ]),\n",
       "  array([0.53690119, 0.29236448, 0.63352557, 1.        ]),\n",
       "  array([0.53690119, 0.29236448, 0.63352557, 1.        ]),\n",
       "  array([0.53690119, 0.29236448, 0.63352557, 1.        ])],\n",
       " [array([0.52665898, 0.20722799, 0.58422145, 1.        ]),\n",
       "  array([0.52665898, 0.20722799, 0.58422145, 1.        ]),\n",
       "  array([0.52665898, 0.20722799, 0.58422145, 1.        ]),\n",
       "  array([0.52665898, 0.20722799, 0.58422145, 1.        ]),\n",
       "  array([0.52665898, 0.20722799, 0.58422145, 1.        ])],\n",
       " [array([0.51460208, 0.12110727, 0.52738178, 1.        ]),\n",
       "  array([0.51460208, 0.12110727, 0.52738178, 1.        ]),\n",
       "  array([0.51460208, 0.12110727, 0.52738178, 1.        ]),\n",
       "  array([0.51460208, 0.12110727, 0.52738178, 1.        ]),\n",
       "  array([0.51460208, 0.12110727, 0.52738178, 1.        ])],\n",
       " [array([0.48109189, 0.05167243, 0.46291426, 1.        ]),\n",
       "  array([0.48109189, 0.05167243, 0.46291426, 1.        ]),\n",
       "  array([0.48109189, 0.05167243, 0.46291426, 1.        ]),\n",
       "  array([0.48109189, 0.05167243, 0.46291426, 1.        ]),\n",
       "  array([0.48109189, 0.05167243, 0.46291426, 1.        ])],\n",
       " [array([0.39152634, 0.02583622, 0.37851596, 1.        ]),\n",
       "  array([0.39152634, 0.02583622, 0.37851596, 1.        ]),\n",
       "  array([0.39152634, 0.02583622, 0.37851596, 1.        ]),\n",
       "  array([0.39152634, 0.02583622, 0.37851596, 1.        ]),\n",
       "  array([0.39152634, 0.02583622, 0.37851596, 1.        ])],\n",
       " [array([0.30196078, 0.        , 0.29411765, 1.        ]),\n",
       "  array([0.30196078, 0.        , 0.29411765, 1.        ]),\n",
       "  array([0.30196078, 0.        , 0.29411765, 1.        ]),\n",
       "  array([0.30196078, 0.        , 0.29411765, 1.        ]),\n",
       "  array([0.30196078, 0.        , 0.29411765, 1.        ])]]"
      ]
     },
     "execution_count": 113,
     "metadata": {},
     "output_type": "execute_result"
    }
   ],
   "source": [
    "colors2"
   ]
  },
  {
   "cell_type": "code",
   "execution_count": 81,
   "metadata": {},
   "outputs": [
    {
     "data": {
      "text/plain": [
       "[11658.0,\n",
       " 15930.0,\n",
       " 11308.0,\n",
       " 4582.0,\n",
       " 2357.0,\n",
       " 2504.0,\n",
       " 3557.0,\n",
       " 3699.0,\n",
       " 6810.0,\n",
       " 8756.0,\n",
       " 9931.0,\n",
       " 11992.0,\n",
       " 11315.0,\n",
       " 12338.0,\n",
       " 15315.0,\n",
       " 41486.0,\n",
       " 139350.0,\n",
       " 25011.0,\n",
       " 0.0]"
      ]
     },
     "execution_count": 81,
     "metadata": {},
     "output_type": "execute_result"
    }
   ],
   "source": [
    "sent_each_year_by_orig[1]"
   ]
  },
  {
   "cell_type": "code",
   "execution_count": 88,
   "metadata": {},
   "outputs": [],
   "source": [
    "labels2 = []\n",
    "for i in range(len(sent_each_year_by_orig)):\n",
    "    labels2.append([])\n",
    "    for ii in range(len(years)):\n",
    "        labels2[i].append(str(sent_each_year_by_orig[i][ii]) + ' ' + str(years[ii]))"
   ]
  },
  {
   "cell_type": "code",
   "execution_count": 89,
   "metadata": {},
   "outputs": [
    {
     "data": {
      "text/plain": [
       "['11658.0 2000',\n",
       " '15930.0 2001',\n",
       " '11308.0 2002',\n",
       " '4582.0 2003',\n",
       " '2357.0 2004',\n",
       " '2504.0 2005',\n",
       " '3557.0 2006',\n",
       " '3699.0 2007',\n",
       " '6810.0 2008',\n",
       " '8756.0 2009',\n",
       " '9931.0 2010',\n",
       " '11992.0 2011',\n",
       " '11315.0 2012',\n",
       " '12338.0 2013',\n",
       " '15315.0 2014',\n",
       " '41486.0 2015',\n",
       " '139350.0 2016',\n",
       " '25011.0 2017',\n",
       " '0.0 2018']"
      ]
     },
     "execution_count": 89,
     "metadata": {},
     "output_type": "execute_result"
    }
   ],
   "source": [
    "labels2[1]"
   ]
  },
  {
   "cell_type": "code",
   "execution_count": 91,
   "metadata": {},
   "outputs": [
    {
     "data": {
      "text/html": [
       "<iframe id=\"igraph\" scrolling=\"no\" style=\"border:none;\" seamless=\"seamless\" src=\"https://plot.ly/~jpterry/22.embed\" height=\"525px\" width=\"100%\"></iframe>"
      ],
      "text/plain": [
       "<plotly.tools.PlotlyDisplay object>"
      ]
     },
     "execution_count": 91,
     "metadata": {},
     "output_type": "execute_result"
    }
   ],
   "source": [
    "import plotly.graph_objs as go\n",
    "sent_year = []\n",
    "# colors = ['rgb(239,243,255)','rgb(189,215,231)','rgb(107,174,214)','rgb(33,113,181)']\n",
    "# colors = 'inferno'\n",
    "\n",
    "labels2 = []\n",
    "for i in range(len(sent_each_year)):\n",
    "    labels2.append([])\n",
    "    for ii in range(len(origins)):\n",
    "        labels2[i].append(str(sent_each_year[i][ii]) + ' ' + origins[ii])\n",
    "\n",
    "cmap = plt.get_cmap('BuPu')\n",
    "# colors = [cmap(np.linspace(0, i/len(origins), len(years))) for i in range(len(years))]\n",
    "# colors = cmap(np.linspace(0, 1, 18))\n",
    "\n",
    "for i in range(len(origins)):\n",
    "    sent_year.append(go.Scattergeo(\n",
    "        lon = org_lons,\n",
    "        lat = org_lats,\n",
    "        text = labels2[i],\n",
    "        name = str(years),\n",
    "        marker = dict(\n",
    "            size = relative_sizes[i],\n",
    "            color = colors[i]\n",
    "#             line = dict(width = 0)\n",
    "        ),\n",
    "    ) )\n",
    "\n",
    "# cases[0]['text'] = df[ df['Month'] == 9 ]['Value'].map('{:.0f}'.format).astype(str)+' '+\\\n",
    "#     df[ df['Month'] == 9 ]['Country']\n",
    "# cases[0]['mode'] = 'markers+text'\n",
    "# cases[0]['textposition'] = 'bottom center'\n",
    "\n",
    "inset = [\n",
    "    go.Choropleth(\n",
    "#         locationmode = 'country codes',\n",
    "        locations = org_codes,\n",
    "        z = sent_each_year,\n",
    "#         text = df[ df['Month'] == 9 ]['Country'],\n",
    "        colorscale = [[0,'rgb(0, 0, 0)'],[1,'rgb(0, 0, 0)']],\n",
    "        autocolorscale = False,\n",
    "        showscale = False,\n",
    "        geo = 'geo'\n",
    "    ),\n",
    "    go.Scattergeo(\n",
    "        lon = [21.0936],\n",
    "        lat = [7.1881],\n",
    "        text = ['World'],\n",
    "        mode = 'text',\n",
    "        showlegend = False,\n",
    "        geo = 'geo'\n",
    "    )\n",
    "]\n",
    "\n",
    "layout = go.Layout(\n",
    "    title = 'Regufees each year',\n",
    "    geo = dict(\n",
    "        resolution = 50,\n",
    "        scope = 'asia',\n",
    "        showframe = False,\n",
    "        showcoastlines = True,\n",
    "        showland = True,\n",
    "        showcountries=True,\n",
    "        landcolor = \"rgb(229, 229, 229)\",\n",
    "        countrycolor = \"rgb(255, 255, 255)\" ,\n",
    "        coastlinecolor = \"rgb(255, 255, 255)\",\n",
    "        projection = dict(\n",
    "            type = 'mercator'\n",
    "        )#,\n",
    "#         lonaxis = dict( range= [ -15.0, -5.0 ] ),\n",
    "#         lataxis = dict( range= [ 0.0, 12.0 ] ),\n",
    "#         domain = dict(\n",
    "#             x = [ 0, 1 ],\n",
    "#             y = [ 0, 1 ]\n",
    "#         )\n",
    "    )#,\n",
    "#     geo2 = dict(\n",
    "#         scope = 'world',\n",
    "#         showframe = False,\n",
    "#         showland = True,\n",
    "#         landcolor = \"rgb(229, 229, 229)\",\n",
    "#         showcountries = False,\n",
    "#         domain = dict(\n",
    "#             x = [ 0, 0.6 ],\n",
    "#             y = [ 0, 0.6 ]\n",
    "#         ),\n",
    "#         bgcolor = 'rgba(255, 255, 255, 0.0)',\n",
    "#     ),\n",
    "#     legend = dict(\n",
    "#            traceorder = 'reversed'\n",
    "#     )\n",
    ")\n",
    "\n",
    "fig = go.Figure(layout=layout, data=sent_year)\n",
    "ply.iplot(fig, validate=False, filename='Refugees_sent_each_year2')"
   ]
  },
  {
   "cell_type": "code",
   "execution_count": 99,
   "metadata": {},
   "outputs": [],
   "source": [
    "colors = [cmap(i/len(years)) for i in range(len(years))]"
   ]
  },
  {
   "cell_type": "code",
   "execution_count": 100,
   "metadata": {},
   "outputs": [
    {
     "data": {
      "text/plain": [
       "[(0.9686274509803922, 0.9882352941176471, 0.9921568627450981, 1.0),\n",
       " (0.931841599384852, 0.962645136485967, 0.977762399077278, 1.0),\n",
       " (0.8950557477893117, 0.9370549788542869, 0.963367935409458, 1.0),\n",
       " (0.845444059976932, 0.9004998077662437, 0.9428681276432141, 1.0),\n",
       " (0.7926643598615917, 0.8605151864667435, 0.920476739715494, 1.0),\n",
       " (0.7358246828143022, 0.8182545174932718, 0.8971626297577855, 1.0),\n",
       " (0.683044982698962, 0.7814686658977317, 0.8779700115340253, 1.0),\n",
       " (0.6262053056516724, 0.7418531334102269, 0.8573010380622837, 1.0),\n",
       " (0.5944175317185698, 0.6840753556324491, 0.8269127258746636, 1.0),\n",
       " (0.5634140715109573, 0.6186236063052672, 0.7924644367550941, 1.0),\n",
       " (0.5490196078431373, 0.5538485198000769, 0.759677047289504, 1.0),\n",
       " (0.5490196078431373, 0.47978469819300285, 0.7235063437139563, 1.0),\n",
       " (0.5482199154171473, 0.41121107266435986, 0.6901191849288735, 1.0),\n",
       " (0.5413302575932334, 0.33886966551326414, 0.6556708958093042, 1.0),\n",
       " (0.5349327181853133, 0.2716955017301038, 0.623683198769704, 1.0),\n",
       " (0.524075355632449, 0.18877354863514031, 0.5720415224913495, 1.0),\n",
       " (0.512879661668589, 0.10880430603613994, 0.5192618223760093, 1.0),\n",
       " (0.46829680891964626, 0.047981545559400235, 0.4508573625528643, 1.0),\n",
       " (0.38512879661668586, 0.023990772779700117, 0.3724875048058439, 1.0)]"
      ]
     },
     "execution_count": 100,
     "metadata": {},
     "output_type": "execute_result"
    }
   ],
   "source": [
    "colors"
   ]
  },
  {
   "cell_type": "code",
   "execution_count": 53,
   "metadata": {},
   "outputs": [
    {
     "data": {
      "text/plain": [
       "[[23.563394683026583,\n",
       "  4.182992465016146,\n",
       "  0.43061179442086334,\n",
       "  38.0374479889043,\n",
       "  7.020965382740127],\n",
       " [38.16462167689161,\n",
       "  5.715823466092573,\n",
       "  0.46516929556976455,\n",
       "  50.0,\n",
       "  9.2442710872745],\n",
       " [50.0,\n",
       "  4.057409400789379,\n",
       "  0.36728653053544225,\n",
       "  23.54368932038835,\n",
       "  8.839590443686006],\n",
       " [41.48261758691206,\n",
       "  1.6440617151058485,\n",
       "  0.29002970859522853,\n",
       "  23.613037447988905,\n",
       "  9.92686494392979],\n",
       " [33.287321063394685,\n",
       "  0.8457122353785432,\n",
       "  0.24950153970855904,\n",
       "  17.40638002773925,\n",
       "  11.647976596782058],\n",
       " [25.833333333333332,\n",
       "  0.8984571223537854,\n",
       "  0.25981451125561333,\n",
       "  14.147018030513177,\n",
       "  8.615309605070697],\n",
       " [18.834355828220858,\n",
       "  1.2762827412988877,\n",
       "  0.16953077788754156,\n",
       "  19.105409153952845,\n",
       "  7.4646513895660656],\n",
       " [16.232106339468302,\n",
       "  1.3272335844994618,\n",
       "  0.17369215237144067,\n",
       "  24.02912621359223,\n",
       "  5.494880546075085],\n",
       " [18.491820040899796,\n",
       "  2.4434876210979546,\n",
       "  0.20390734971105587,\n",
       "  23.231622746185852,\n",
       "  7.430521696733301],\n",
       " [18.721881390593047,\n",
       "  3.14172945819878,\n",
       "  0.2324941831221888,\n",
       "  20.977808599167822,\n",
       "  6.855192588980985],\n",
       " [21.56441717791411,\n",
       "  3.563329745245784,\n",
       "  0.37579020882862735,\n",
       "  24.75728155339806,\n",
       "  8.71769868356899],\n",
       " [24.683026584867076,\n",
       "  4.302834589163975,\n",
       "  0.7671403396405296,\n",
       "  21.671289875173372,\n",
       "  13.739639200390053],\n",
       " [32.74539877300614,\n",
       "  4.059921062073915,\n",
       "  1.7211806724057448,\n",
       "  29.993065187239946,\n",
       "  9.873232569478303],\n",
       " [32.50511247443763,\n",
       "  4.426982418371008,\n",
       "  3.23574005521963,\n",
       "  17.926490984743413,\n",
       "  11.813749390541199],\n",
       " [32.06032719836401,\n",
       "  5.495156081808396,\n",
       "  8.608798231234916,\n",
       "  13.245492371705964,\n",
       "  23.61774744027304],\n",
       " [25.874233128834355,\n",
       "  14.885540007176175,\n",
       "  30.533813881621562,\n",
       "  13.904299583911234,\n",
       "  48.069234519746466],\n",
       " [22.80674846625767, 50.0, 50.0, 14.979195561719834, 50.0],\n",
       " [23.016359918200408,\n",
       "  8.97416576964478,\n",
       "  7.718806879656668,\n",
       "  13.557558945908461,\n",
       "  40.20965382740127],\n",
       " [0.0, 0.0, 0.0, 0.0, 0.0]]"
      ]
     },
     "execution_count": 53,
     "metadata": {},
     "output_type": "execute_result"
    }
   ],
   "source": [
    "relative_sizes2"
   ]
  },
  {
   "cell_type": "code",
   "execution_count": 135,
   "metadata": {},
   "outputs": [],
   "source": [
    "colors = ['blue',\n",
    "            'blueviolet', 'burlywood',\n",
    "            'chartreuse', 'chocolate', 'coral', \n",
    "            'crimson',\n",
    "            'darkgoldenrod', 'darkgreen',\n",
    "            'darkmagenta', 'darkolivegreen', 'darkorange',\n",
    "            'darkred', \n",
    "            'deeppink',\n",
    "            'forestgreen', 'fuchsia', 'gainsboro',\n",
    "            'gray','green']"
   ]
  },
  {
   "cell_type": "code",
   "execution_count": 136,
   "metadata": {},
   "outputs": [],
   "source": [
    "colors = cmap(np.linspace(0, 1, 18))"
   ]
  },
  {
   "cell_type": "code",
   "execution_count": 134,
   "metadata": {},
   "outputs": [
    {
     "data": {
      "text/plain": [
       "18"
      ]
     },
     "execution_count": 134,
     "metadata": {},
     "output_type": "execute_result"
    }
   ],
   "source": [
    "len(colors)"
   ]
  },
  {
   "cell_type": "code",
   "execution_count": 150,
   "metadata": {},
   "outputs": [],
   "source": [
    "colors = ['red','crimson', 'deeppink', 'fuchsia', 'violet', \\\n",
    "         'darkviolet', 'slateblue', 'darkblue','slategrey', \\\n",
    "          'skyblue', 'darkslategrey',\n",
    "         'mediumseagreen', 'green','lawngreen', 'orange', 'peachpuff',\\\n",
    "         'coral', 'lightcoral']"
   ]
  },
  {
   "cell_type": "code",
   "execution_count": 143,
   "metadata": {},
   "outputs": [
    {
     "data": {
      "text/plain": [
       "18"
      ]
     },
     "execution_count": 143,
     "metadata": {},
     "output_type": "execute_result"
    }
   ],
   "source": [
    "len(colors)"
   ]
  },
  {
   "cell_type": "code",
   "execution_count": null,
   "metadata": {
    "collapsed": true
   },
   "outputs": [],
   "source": []
  }
 ],
 "metadata": {
  "kernelspec": {
   "display_name": "Python 3",
   "language": "python",
   "name": "python3"
  },
  "language_info": {
   "codemirror_mode": {
    "name": "ipython",
    "version": 3
   },
   "file_extension": ".py",
   "mimetype": "text/x-python",
   "name": "python",
   "nbconvert_exporter": "python",
   "pygments_lexer": "ipython3",
   "version": "3.6.2"
  }
 },
 "nbformat": 4,
 "nbformat_minor": 2
}
