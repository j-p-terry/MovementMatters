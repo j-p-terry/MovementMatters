{
 "cells": [
  {
   "cell_type": "code",
   "execution_count": 6,
   "metadata": {
    "collapsed": true
   },
   "outputs": [],
   "source": [
    "import geopandas\n",
    "import pandas as pd\n",
    "import matplotlib.pyplot as plt\n",
    "from mpl_toolkits.basemap import Basemap\n",
    "import numpy as np\n",
    "import seaborn as sb\n",
    "import plotly\n",
    "import dash\n",
    "import plotly.plotly as ply\n",
    "from plotly.graph_objs import *\n",
    "from scipy.io import netcdf\n",
    "%matplotlib inline"
   ]
  },
  {
   "cell_type": "code",
   "execution_count": 34,
   "metadata": {
    "collapsed": true
   },
   "outputs": [],
   "source": [
    "plotly.tools.set_credentials_file(username='jpterry', api_key='jC0hHrhZQhOys3ypgeg8')"
   ]
  },
  {
   "cell_type": "code",
   "execution_count": 122,
   "metadata": {
    "collapsed": true
   },
   "outputs": [],
   "source": [
    "origins = [\"DR_Congo\", \"Afghanistan\", \"Syria\", \"Myanmar\", \"Sudan\"]\n",
    "destinations = [\"USA\", \"UK\", \"France\", \"Canada\", \"Italy\", \"Germany\"]\n",
    "\n",
    "org_codes = [\"COD\", \"AFG\", \"SYR\", \"MMR\", \"SDN\"]\n",
    "dest_codes = [\"USA\", \"GBR\", \"FRA\", \"CAN\", \"ITA\",\"DEU\"]\n",
    "\n",
    "years = [2000 + i for i in range(19)]\n",
    "\n",
    "features = ['destination',\n",
    " 'Origin',\n",
    " 'applied',\n",
    " 'accepted',\n",
    " 'Rejected',\n",
    " 'decisions',\n",
    " 'Year',\n",
    " 'Month',\n",
    " 'Value',\n",
    " 'deaths',\n",
    " 'last_month',\n",
    " 'two_months_ago',\n",
    " 'next_month',\n",
    " 'two_months_later']\n",
    "\n",
    "pairs = []\n",
    "for origin in origins:\n",
    "    for destination in destinations:\n",
    "        pairs.append((origin, destination))"
   ]
  },
  {
   "cell_type": "code",
   "execution_count": 3,
   "metadata": {
    "collapsed": true
   },
   "outputs": [],
   "source": [
    "# Read in data\n",
    "groups = {}\n",
    "for pair in pairs:\n",
    "    groups[pair] = pd.read_csv('./data/grouped_' + str(pair) + '.csv', skipinitialspace=True)\n",
    "    groups[pair] = groups[pair][features]"
   ]
  },
  {
   "cell_type": "code",
   "execution_count": 108,
   "metadata": {
    "collapsed": true
   },
   "outputs": [],
   "source": [
    "sent = np.array([])\n",
    "for origin in origins:\n",
    "    total = 0\n",
    "    for destination in destinations:\n",
    "        total += groups[(origin, destination)].Value.sum()\n",
    "    sent = np.append(sent, total)\n",
    "    \n",
    "avg_sent = np.array([])\n",
    "for origin in origins:\n",
    "    total = 0\n",
    "    for destination in destinations:\n",
    "        total += groups[(origin, destination)].Value.sum()/(groups[pair].Year.max() - groups[pair].Year.min())\n",
    "    avg_sent = np.append(avg_sent, total)"
   ]
  },
  {
   "cell_type": "code",
   "execution_count": 109,
   "metadata": {
    "collapsed": true
   },
   "outputs": [],
   "source": [
    "dead = np.array([])\n",
    "for origin in origins:\n",
    "    total = 0\n",
    "    for destination in destinations:\n",
    "        total += groups[(origin, destination)].deaths.sum()\n",
    "    dead = np.append(dead, total)\n",
    "    \n",
    "avg_dead = np.array([])\n",
    "for origin in origins:\n",
    "    total = 0\n",
    "    for destination in destinations:\n",
    "        total += groups[(origin, destination)].deaths.sum()/(groups[pair].Year.max() - groups[pair].Year.min())\n",
    "    avg_dead = np.append(avg_dead, total)"
   ]
  },
  {
   "cell_type": "code",
   "execution_count": 111,
   "metadata": {},
   "outputs": [],
   "source": [
    "arrived = np.array([])\n",
    "for destination in destinations:\n",
    "    total = 0\n",
    "    for origin in origins:\n",
    "        total += groups[(origin, destination)].Value.sum()\n",
    "    arrived = np.append(arrived, total)\n",
    "\n",
    "avg_arrived = np.array([])\n",
    "for origin in origins:\n",
    "    total = 0\n",
    "    for destination in destinations:\n",
    "        total += groups[(origin, destination)].Value.sum()/(groups[pair].Year.max() - groups[pair].Year.min())\n",
    "    avg_arrived = np.append(avg_arrived, total)"
   ]
  },
  {
   "cell_type": "code",
   "execution_count": 12,
   "metadata": {},
   "outputs": [
    {
     "data": {
      "text/plain": [
       "(array([ 78096., 337899., 568092.,  11655.,  59188.]),\n",
       " array([ 23848.,  95376., 119146.,  21075.,  28253., 767232.]),\n",
       " array([  950240., 10851299., 26689288.,   276607.,  2443237.]))"
      ]
     },
     "execution_count": 12,
     "metadata": {},
     "output_type": "execute_result"
    }
   ],
   "source": [
    "sent, arrived, dead"
   ]
  },
  {
   "cell_type": "code",
   "execution_count": 15,
   "metadata": {
    "collapsed": true
   },
   "outputs": [],
   "source": [
    "coordinates = {}\n",
    "coordinates[\"Syria\"] = (34.8, 38.997)\n",
    "coordinates[\"DR_Congo\"] = (-4.0383, 21.759)\n",
    "coordinates[\"Afghanistan\"] = (33.939, 67.71)\n",
    "coordinates[\"Sudan\"] = (12.863, 30.218)\n",
    "coordinates[\"Myanmar\"] = (21.9162, 95.956)\n",
    "\n",
    "coordinates[\"USA\"] = (37.09, -95.713)\n",
    "coordinates[\"UK\"] = (55.378, -3.436)\n",
    "coordinates[\"France\"] = (46.228, 2.214)\n",
    "coordinates[\"Germany\"] = (51.166, 10.4515)\n",
    "coordinates[\"Italy\"] = (41.872, 12.5674)\n",
    "coordinates[\"Canada\"] = (56.1304, -106.3468)"
   ]
  },
  {
   "cell_type": "code",
   "execution_count": 20,
   "metadata": {
    "collapsed": true
   },
   "outputs": [],
   "source": [
    "dest_lats = [coordinates[dest][0] for dest in destinations] \n",
    "dest_lons = [coordinates[dest][1] for dest in destinations] \n",
    "org_lats = [coordinates[org][0] for org in origins] \n",
    "org_lons = [coordinates[org][1] for org in origins]"
   ]
  },
  {
   "cell_type": "code",
   "execution_count": 38,
   "metadata": {},
   "outputs": [],
   "source": [
    "org_texts =[origins[i] + 'Total deaths = ' + str(dead[i]) for i in range(len(dead))]"
   ]
  },
  {
   "cell_type": "code",
   "execution_count": 218,
   "metadata": {},
   "outputs": [],
   "source": [
    "sent_each_year_by_orig = []\n",
    "relative_sizes = []\n",
    "for origin in origins:\n",
    "    this_origin = []\n",
    "    these_sizes = []\n",
    "    for year in years:\n",
    "        total = 0\n",
    "        year = int(year)\n",
    "        for destination in destinations:\n",
    "            try:\n",
    "                total += groups[(origin, destination)].query('Year == @year').Value.sum()\n",
    "            except:\n",
    "                total += 0\n",
    "        this_origin.append(total)\n",
    "    for i in range(len(years)):\n",
    "        these_sizes.append(0.5e2*this_origin[i]/max(this_origin))\n",
    "    sent_each_year_by_orig.append(this_origin)\n",
    "    relative_sizes.append(these_sizes)"
   ]
  },
  {
   "cell_type": "code",
   "execution_count": 258,
   "metadata": {},
   "outputs": [],
   "source": [
    "sent_each_year = [[] for i in range(len(years))]\n",
    "year_sizes = [[] for i in range(len(years))]\n",
    "for i in range(len(sent_each_year_by_orig)):\n",
    "    for ii in range(len(sent_each_year_by_orig[i])):\n",
    "        sent_each_year[ii].append(sent_each_year_by_orig[i][ii])\n",
    "#         year_sizes[ii].append(relative_sizes[i][ii])\n",
    "for i in range(len(sent_each_year)):\n",
    "    for ii in range(len(sent_each_year[i])):\n",
    "        if max(sent_each_year[i]) != 0:\n",
    "            year_sizes[i].append(50*sent_each_year[i][ii]/max(sent_each_year[i]))\n",
    "        else:\n",
    "            year_sizes[i].append(0)"
   ]
  },
  {
   "cell_type": "code",
   "execution_count": 259,
   "metadata": {},
   "outputs": [
    {
     "data": {
      "text/plain": [
       "[[19.76754160233316, 50.0, 0.0, 4.704923657574198, 6.1760164693772515],\n",
       " [23.430634023854363, 50.0, 0.0, 4.526051475204017, 5.951035781544256],\n",
       " [43.243721259285465, 50.0, 0.0, 3.0022992571630702, 8.016448532012735],\n",
       " [0.0, 50.0, 0.0, 7.4312527280663465, 22.21737232649498],\n",
       " [0.0, 49.33026370866472, 23.69192130598577, 10.50648807032231, 50.0],\n",
       " [0.0, 50.0, 0.0, 8.146964856230031, 35.283546325878596],\n",
       " [50.0, 48.27633007600434, 0.0, 7.47828447339848, 20.779044516829533],\n",
       " [42.917004595836715, 50.0, 0.0, 9.367396593673966, 15.233846985671804],\n",
       " [26.556534508076357, 50.0, 0.0, 4.9192364170337735, 11.189427312775331],\n",
       " [20.9113750571037, 50.0, 0.0, 3.4547738693467336, 8.028780264961169],\n",
       " [21.236532071291915, 50.0, 0.0, 3.5948041486255162, 9.002114590675662],\n",
       " [20.13008672448299,\n",
       "  50.0,\n",
       "  17.545030020013343,\n",
       "  2.605903935957305,\n",
       "  11.749499666444295],\n",
       " [28.303137428192663,\n",
       "  50.0,\n",
       "  42.037118868758284,\n",
       "  3.8223596995139197,\n",
       "  8.948298718515245],\n",
       " [17.775665399239543,\n",
       "  34.4945202415567,\n",
       "  50.0,\n",
       "  1.445426079176918,\n",
       "  6.774211585774994],\n",
       " [6.589815262394653,\n",
       "  16.093608793425947,\n",
       "  50.0,\n",
       "  0.40142073516739873,\n",
       "  5.090267123431622],\n",
       " [1.49945781312033,\n",
       "  12.291346934422052,\n",
       "  50.0,\n",
       "  0.11880707035393248,\n",
       "  2.920994779599552],\n",
       " [0.8071257205510384,\n",
       "  25.212501492666934,\n",
       "  50.0,\n",
       "  0.0781614685671483,\n",
       "  1.8554302318428375],\n",
       " [5.276358351694717,\n",
       "  29.31297173128311,\n",
       "  50.0,\n",
       "  0.45825324644883036,\n",
       "  9.665510290187989],\n",
       " [0, 0, 0, 0, 0]]"
      ]
     },
     "execution_count": 259,
     "metadata": {},
     "output_type": "execute_result"
    }
   ],
   "source": [
    "year_sizes"
   ]
  },
  {
   "cell_type": "code",
   "execution_count": 210,
   "metadata": {},
   "outputs": [
    {
     "data": {
      "text/plain": [
       "[[0.9218, 2.3316, 0.0, 0.2194, 0.288],\n",
       " [1.493, 3.186, 0.0, 0.2884, 0.3792],\n",
       " [1.956, 2.2616, 0.0, 0.1358, 0.3626],\n",
       " [0.0, 0.9164, 0.0, 0.1362, 0.4072],\n",
       " [0.0, 0.4714, 0.2264, 0.1004, 0.4778],\n",
       " [0.0, 0.5008, 0.0, 0.0816, 0.3534],\n",
       " [0.7368, 0.7114, 0.0, 0.1102, 0.3062],\n",
       " [0.635, 0.7398, 0.0, 0.1386, 0.2254],\n",
       " [0.7234, 1.362, 0.0, 0.134, 0.3048],\n",
       " [0.7324, 1.7512, 0.0, 0.121, 0.2812],\n",
       " [0.8436, 1.9862, 0.0, 0.1428, 0.3576],\n",
       " [0.9656, 2.3984, 0.8416, 0.125, 0.5636],\n",
       " [1.281, 2.263, 1.9026, 0.173, 0.405],\n",
       " [1.2716, 2.4676, 3.5768, 0.1034, 0.4846],\n",
       " [1.2542, 3.063, 9.5162, 0.0764, 0.9688],\n",
       " [1.0122, 8.2972, 33.7522, 0.0802, 1.9718],\n",
       " [0.8922, 27.87, 55.2702, 0.0864, 2.051],\n",
       " [0.9004, 5.0022, 8.5324, 0.0782, 1.6494],\n",
       " [0.0, 0.0, 0.0, 0.0, 0.0]]"
      ]
     },
     "execution_count": 210,
     "metadata": {},
     "output_type": "execute_result"
    }
   ],
   "source": [
    "sent_each_year"
   ]
  },
  {
   "cell_type": "markdown",
   "metadata": {},
   "source": [
    "### Start plots"
   ]
  },
  {
   "cell_type": "markdown",
   "metadata": {},
   "source": [
    "#### Interactive Maps"
   ]
  },
  {
   "cell_type": "code",
   "execution_count": 98,
   "metadata": {},
   "outputs": [
    {
     "data": {
      "text/html": [
       "<iframe id=\"igraph\" scrolling=\"no\" style=\"border:none;\" seamless=\"seamless\" src=\"https://plot.ly/~jpterry/4.embed\" height=\"525px\" width=\"100%\"></iframe>"
      ],
      "text/plain": [
       "<plotly.tools.PlotlyDisplay object>"
      ]
     },
     "execution_count": 98,
     "metadata": {},
     "output_type": "execute_result"
    }
   ],
   "source": [
    "data = [dict(\n",
    "        type = 'choropleth',\n",
    "        locations = org_codes,\n",
    "        z = dead,\n",
    "        text = origins,\n",
    "        colorscale = [[0,\"rgb(139,0,0)\"],[0.35,\"rgb(255,0,0)\"],[0.5,\"rgb(255,140,0)\"],\\\n",
    "            [0.6,\"rgb(255,165,0)\"],[0.7,\"rgb(255,255,0)\"], [1, \"rgb(255,255,204)\"]],\n",
    "        autocolorscale = False,\n",
    "        reversescale = True,\n",
    "        marker = dict(\n",
    "            line = dict (\n",
    "                color = 'rgb(180,180,180)',\n",
    "                width = 0.5\n",
    "            ) ),\n",
    "        colorbar = dict(\n",
    "            autotick = False,\n",
    "            tickprefix = '',\n",
    "            title = 'Conflict Deaths'),\n",
    "      ) ]\n",
    "\n",
    "layout = dict(\n",
    "    title = 'Total Conflict Deaths 2000 - 2018',\n",
    "    geo = dict(\n",
    "        showframe = False, \n",
    "        showcoastlines = True,\n",
    "        showcountries = True, \n",
    "        showland = True,\n",
    "        landcolor = \"rgb(229, 229, 229)\",\n",
    "        projection = dict(\n",
    "            type = 'Mercator'\n",
    "        )\n",
    "    )\n",
    ")\n",
    "\n",
    "fig = dict( data=data, layout=layout )\n",
    "ply.iplot(fig, validate=False, filename='deaths_world' )"
   ]
  },
  {
   "cell_type": "code",
   "execution_count": 121,
   "metadata": {},
   "outputs": [
    {
     "data": {
      "text/html": [
       "<iframe id=\"igraph\" scrolling=\"no\" style=\"border:none;\" seamless=\"seamless\" src=\"https://plot.ly/~jpterry/16.embed\" height=\"525px\" width=\"100%\"></iframe>"
      ],
      "text/plain": [
       "<plotly.tools.PlotlyDisplay object>"
      ]
     },
     "execution_count": 121,
     "metadata": {},
     "output_type": "execute_result"
    }
   ],
   "source": [
    "data = [dict(\n",
    "        type = 'choropleth',\n",
    "        locations = org_codes,\n",
    "        z = avg_dead,\n",
    "        text = origins,\n",
    "        colorscale = [[0,\"rgb(139,0,0)\"],[0.35,\"rgb(255,0,0)\"],[0.5,\"rgb(255,140,0)\"],\\\n",
    "            [0.6,\"rgb(255,165,0)\"],[0.7,\"rgb(255,255,0)\"], [1, \"rgb(255,255,204)\"]],\n",
    "        autocolorscale = False,\n",
    "        reversescale = True,\n",
    "        marker = dict(\n",
    "            line = dict (\n",
    "                color = 'rgb(180,180,180)',\n",
    "                width = 0.5\n",
    "            ) ),\n",
    "        colorbar = dict(\n",
    "            autotick = False,\n",
    "            tickprefix = '',\n",
    "            title = 'Conflict Deaths'),\n",
    "      ) ]\n",
    "\n",
    "layout = dict(\n",
    "    title = 'Conflict Deaths per Year',\n",
    "    geo = dict(\n",
    "        showframe = False, \n",
    "        showcoastlines = True,\n",
    "        showcountries = True, \n",
    "        showland = True,\n",
    "        landcolor = \"rgb(229, 229, 229)\",\n",
    "        projection = dict(\n",
    "            type = 'Mercator'\n",
    "        )\n",
    "    )\n",
    ")\n",
    "\n",
    "fig = dict( data=data, layout=layout )\n",
    "ply.iplot(fig, validate=False, filename='avg_deaths_world' )"
   ]
  },
  {
   "cell_type": "code",
   "execution_count": 120,
   "metadata": {},
   "outputs": [
    {
     "data": {
      "text/html": [
       "<iframe id=\"igraph\" scrolling=\"no\" style=\"border:none;\" seamless=\"seamless\" src=\"https://plot.ly/~jpterry/12.embed\" height=\"525px\" width=\"100%\"></iframe>"
      ],
      "text/plain": [
       "<plotly.tools.PlotlyDisplay object>"
      ]
     },
     "execution_count": 120,
     "metadata": {},
     "output_type": "execute_result"
    }
   ],
   "source": [
    "data = [dict(\n",
    "        type = 'choropleth',\n",
    "        locations = org_codes,\n",
    "        z = sent,\n",
    "        text = origins,\n",
    "        colorscale = [[0,\"rgb(255,0,0)\"],[0.35,\"rgb(255,99,71))\"],[0.5,\"rgb(255,140,0)\"],\\\n",
    "            [0.6,\"rgb(255,165,0)\"],[0.7,\"rgb(255,215,0\"],[1,\"rgb(255,255,102)\"]],\n",
    "        autocolorscale = False,\n",
    "        reversescale = True,\n",
    "        marker = dict(\n",
    "            line = dict (\n",
    "                color = 'rgb(180,180,180)',\n",
    "                width = 0.5\n",
    "            ) ),\n",
    "        colorbar = dict(\n",
    "            autotick = False,\n",
    "            tickprefix = '',\n",
    "            title = 'Total Refugees Deaths'),\n",
    "      ) ]\n",
    "\n",
    "layout = dict(\n",
    "    title = 'Total Refugees 2000 - 2018',\n",
    "    geo = dict(\n",
    "        showframe = False, \n",
    "        showcoastlines = True,\n",
    "        showcountries = True, \n",
    "        showland = True,\n",
    "        landcolor = \"rgb(229, 229, 229)\",\n",
    "        projection = dict(\n",
    "            type = 'Mercator'\n",
    "        )\n",
    "    )\n",
    ")\n",
    "\n",
    "data2 = [dict(\n",
    "        type = 'choropleth',\n",
    "        locations = dest_codes,\n",
    "        z = arrived,\n",
    "        text = destinations,\n",
    "        colorscale = [[0,\"rgb(255,0,0)\"],[0.35,\"rgb(255,99,71))\"],[0.5,\"rgb(255,140,0)\"],\\\n",
    "            [0.6,\"rgb(255,165,0)\"],[0.7,\"rgb(255,255,0)\"], [1, \"rgb(255,255,224)\"]],\n",
    "        autocolorscale = False,\n",
    "        reversescale = True,\n",
    "        marker = dict(\n",
    "            line = dict (\n",
    "                color = 'rgb(180,180,180)',\n",
    "                width = 0.5\n",
    "            ) ),\n",
    "        colorbar = dict(\n",
    "            autotick = False,\n",
    "            tickprefix = '',\n",
    "            title = 'Refugees'),\n",
    "      ) ]\n",
    "\n",
    "layout2 = dict(\n",
    "    title = 'Total Refugees 2000 - 2018',\n",
    "    geo = dict(\n",
    "        showframe = False, \n",
    "        showcoastlines = True,\n",
    "        showcountries = True, \n",
    "        showland = True,\n",
    "        landcolor = \"rgb(229, 229, 229)\",\n",
    "        projection = dict(\n",
    "            type = 'Mercator'\n",
    "        )\n",
    "    )\n",
    ")\n",
    "\n",
    "\n",
    "\n",
    "fig = dict(data=data, layout=layout)\n",
    "fig2 = dict(data=data2, layout=layout2)\n",
    "ply.iplot(fig2, validate=False, filename='total_refugees_accepted' )"
   ]
  },
  {
   "cell_type": "code",
   "execution_count": 118,
   "metadata": {},
   "outputs": [
    {
     "data": {
      "text/html": [
       "<iframe id=\"igraph\" scrolling=\"no\" style=\"border:none;\" seamless=\"seamless\" src=\"https://plot.ly/~jpterry/12.embed\" height=\"525px\" width=\"100%\"></iframe>"
      ],
      "text/plain": [
       "<plotly.tools.PlotlyDisplay object>"
      ]
     },
     "execution_count": 118,
     "metadata": {},
     "output_type": "execute_result"
    }
   ],
   "source": [
    "ply.iplot(fig, validate=False, filename='total_refugees_sent' )"
   ]
  },
  {
   "cell_type": "code",
   "execution_count": 112,
   "metadata": {
    "collapsed": true
   },
   "outputs": [],
   "source": [
    "data = [dict(\n",
    "        type = 'choropleth',\n",
    "        locations = org_codes,\n",
    "        z = avg_sent,\n",
    "        text = origins,\n",
    "        colorscale = [[0,\"rgb(255,0,0)\"],[0.35,\"rgb(255,99,71))\"],[0.5,\"rgb(255,140,0)\"],\\\n",
    "            [0.6,\"rgb(255,165,0)\"],[0.7,\"rgb(255,215,0\"],[1,\"rgb(255,255,102)\"]],\n",
    "        autocolorscale = False,\n",
    "        reversescale = True,\n",
    "        marker = dict(\n",
    "            line = dict (\n",
    "                color = 'rgb(180,180,180)',\n",
    "                width = 0.5\n",
    "            ) ),\n",
    "        colorbar = dict(\n",
    "            autotick = False,\n",
    "            tickprefix = '',\n",
    "            title = 'Refugees Sent per Year'),\n",
    "      ) ]\n",
    "\n",
    "layout = dict(\n",
    "    title = 'Refugees Sent per Year',\n",
    "    geo = dict(\n",
    "        showframe = False, \n",
    "        showcoastlines = True,\n",
    "        showcountries = True, \n",
    "        showland = True,\n",
    "        landcolor = \"rgb(229, 229, 229)\",\n",
    "        projection = dict(\n",
    "            type = 'Mercator'\n",
    "        )\n",
    "    )\n",
    ")"
   ]
  },
  {
   "cell_type": "code",
   "execution_count": 117,
   "metadata": {},
   "outputs": [
    {
     "data": {
      "text/html": [
       "<iframe id=\"igraph\" scrolling=\"no\" style=\"border:none;\" seamless=\"seamless\" src=\"https://plot.ly/~jpterry/10.embed\" height=\"525px\" width=\"100%\"></iframe>"
      ],
      "text/plain": [
       "<plotly.tools.PlotlyDisplay object>"
      ]
     },
     "execution_count": 117,
     "metadata": {},
     "output_type": "execute_result"
    }
   ],
   "source": [
    "fig = dict(data=data, layout=layout)\n",
    "ply.iplot(fig, validate=False, filename='avg_refugees_sent' )"
   ]
  },
  {
   "cell_type": "code",
   "execution_count": 114,
   "metadata": {
    "collapsed": true
   },
   "outputs": [],
   "source": [
    "data = [dict(\n",
    "        type = 'choropleth',\n",
    "        locations = dest_codes,\n",
    "        z = avg_arrived,\n",
    "        text = destinations,\n",
    "        colorscale = [[0,\"rgb(255,0,0)\"],[0.35,\"rgb(255,99,71))\"],[0.5,\"rgb(255,140,0)\"],\\\n",
    "            [0.6,\"rgb(255,165,0)\"],[0.7,\"rgb(255,215,0\"],[1,\"rgb(255,255,102)\"]],\n",
    "        autocolorscale = False,\n",
    "        reversescale = True,\n",
    "        marker = dict(\n",
    "            line = dict (\n",
    "                color = 'rgb(180,180,180)',\n",
    "                width = 0.5\n",
    "            ) ),\n",
    "        colorbar = dict(\n",
    "            autotick = False,\n",
    "            tickprefix = '',\n",
    "            title = 'Refugees Accepted per Year'),\n",
    "      ) ]\n",
    "\n",
    "layout = dict(\n",
    "    title = 'Refugees Refugees per Year',\n",
    "    geo = dict(\n",
    "        showframe = False, \n",
    "        showcoastlines = True,\n",
    "        showcountries = True, \n",
    "        showland = True,\n",
    "        landcolor = \"rgb(229, 229, 229)\",\n",
    "        projection = dict(\n",
    "            type = 'Mercator'\n",
    "        )\n",
    "    )\n",
    ")"
   ]
  },
  {
   "cell_type": "code",
   "execution_count": 116,
   "metadata": {},
   "outputs": [
    {
     "data": {
      "text/html": [
       "<iframe id=\"igraph\" scrolling=\"no\" style=\"border:none;\" seamless=\"seamless\" src=\"https://plot.ly/~jpterry/8.embed\" height=\"525px\" width=\"100%\"></iframe>"
      ],
      "text/plain": [
       "<plotly.tools.PlotlyDisplay object>"
      ]
     },
     "execution_count": 116,
     "metadata": {},
     "output_type": "execute_result"
    }
   ],
   "source": [
    "fig = dict(data=data, layout=layout)\n",
    "ply.iplot(fig, validate=False, filename='avg_refugees_accepted' )"
   ]
  },
  {
   "cell_type": "markdown",
   "metadata": {},
   "source": [
    "#### Refugees each year"
   ]
  },
  {
   "cell_type": "code",
   "execution_count": 267,
   "metadata": {},
   "outputs": [
    {
     "ename": "PlotlyRequestError",
     "evalue": "Hi there, you've reached the threshold of 100 combined image exports and chart saves per 24h period. If you need to raise your daily limit, please consider upgrading to a paid plan\n(see: https://plot.ly/products/cloud ).",
     "output_type": "error",
     "traceback": [
      "\u001b[0;31m---------------------------------------------------------------------------\u001b[0m",
      "\u001b[0;31mPlotlyRequestError\u001b[0m                        Traceback (most recent call last)",
      "\u001b[0;32m<ipython-input-267-e613dcb59e91>\u001b[0m in \u001b[0;36m<module>\u001b[0;34m()\u001b[0m\n\u001b[1;32m     92\u001b[0m \u001b[0;34m\u001b[0m\u001b[0m\n\u001b[1;32m     93\u001b[0m \u001b[0mfig\u001b[0m \u001b[0;34m=\u001b[0m \u001b[0mgo\u001b[0m\u001b[0;34m.\u001b[0m\u001b[0mFigure\u001b[0m\u001b[0;34m(\u001b[0m\u001b[0mlayout\u001b[0m\u001b[0;34m=\u001b[0m\u001b[0mlayout\u001b[0m\u001b[0;34m,\u001b[0m \u001b[0mdata\u001b[0m\u001b[0;34m=\u001b[0m\u001b[0msent_year\u001b[0m\u001b[0;34m)\u001b[0m\u001b[0;34m\u001b[0m\u001b[0m\n\u001b[0;32m---> 94\u001b[0;31m \u001b[0mply\u001b[0m\u001b[0;34m.\u001b[0m\u001b[0miplot\u001b[0m\u001b[0;34m(\u001b[0m\u001b[0mfig\u001b[0m\u001b[0;34m,\u001b[0m \u001b[0mvalidate\u001b[0m\u001b[0;34m=\u001b[0m\u001b[0;32mFalse\u001b[0m\u001b[0;34m,\u001b[0m \u001b[0mfilename\u001b[0m\u001b[0;34m=\u001b[0m\u001b[0;34m'Refugees each year'\u001b[0m\u001b[0;34m)\u001b[0m\u001b[0;34m\u001b[0m\u001b[0m\n\u001b[0m",
      "\u001b[0;32m~/anaconda3/lib/python3.6/site-packages/plotly/plotly/plotly.py\u001b[0m in \u001b[0;36miplot\u001b[0;34m(figure_or_data, **plot_options)\u001b[0m\n\u001b[1;32m    140\u001b[0m     \u001b[0;32mif\u001b[0m \u001b[0;34m'auto_open'\u001b[0m \u001b[0;32mnot\u001b[0m \u001b[0;32min\u001b[0m \u001b[0mplot_options\u001b[0m\u001b[0;34m:\u001b[0m\u001b[0;34m\u001b[0m\u001b[0m\n\u001b[1;32m    141\u001b[0m         \u001b[0mplot_options\u001b[0m\u001b[0;34m[\u001b[0m\u001b[0;34m'auto_open'\u001b[0m\u001b[0;34m]\u001b[0m \u001b[0;34m=\u001b[0m \u001b[0;32mFalse\u001b[0m\u001b[0;34m\u001b[0m\u001b[0m\n\u001b[0;32m--> 142\u001b[0;31m     \u001b[0murl\u001b[0m \u001b[0;34m=\u001b[0m \u001b[0mplot\u001b[0m\u001b[0;34m(\u001b[0m\u001b[0mfigure_or_data\u001b[0m\u001b[0;34m,\u001b[0m \u001b[0;34m**\u001b[0m\u001b[0mplot_options\u001b[0m\u001b[0;34m)\u001b[0m\u001b[0;34m\u001b[0m\u001b[0m\n\u001b[0m\u001b[1;32m    143\u001b[0m \u001b[0;34m\u001b[0m\u001b[0m\n\u001b[1;32m    144\u001b[0m     \u001b[0;32mif\u001b[0m \u001b[0misinstance\u001b[0m\u001b[0;34m(\u001b[0m\u001b[0mfigure_or_data\u001b[0m\u001b[0;34m,\u001b[0m \u001b[0mdict\u001b[0m\u001b[0;34m)\u001b[0m\u001b[0;34m:\u001b[0m\u001b[0;34m\u001b[0m\u001b[0m\n",
      "\u001b[0;32m~/anaconda3/lib/python3.6/site-packages/plotly/plotly/plotly.py\u001b[0m in \u001b[0;36mplot\u001b[0;34m(figure_or_data, validate, **plot_options)\u001b[0m\n\u001b[1;32m    237\u001b[0m     \u001b[0mdata\u001b[0m \u001b[0;34m=\u001b[0m \u001b[0mfig\u001b[0m\u001b[0;34m.\u001b[0m\u001b[0mget\u001b[0m\u001b[0;34m(\u001b[0m\u001b[0;34m'data'\u001b[0m\u001b[0;34m,\u001b[0m \u001b[0;34m[\u001b[0m\u001b[0;34m]\u001b[0m\u001b[0;34m)\u001b[0m\u001b[0;34m\u001b[0m\u001b[0m\n\u001b[1;32m    238\u001b[0m     \u001b[0mplot_options\u001b[0m\u001b[0;34m[\u001b[0m\u001b[0;34m'layout'\u001b[0m\u001b[0;34m]\u001b[0m \u001b[0;34m=\u001b[0m \u001b[0mfig\u001b[0m\u001b[0;34m.\u001b[0m\u001b[0mget\u001b[0m\u001b[0;34m(\u001b[0m\u001b[0;34m'layout'\u001b[0m\u001b[0;34m,\u001b[0m \u001b[0;34m{\u001b[0m\u001b[0;34m}\u001b[0m\u001b[0;34m)\u001b[0m\u001b[0;34m\u001b[0m\u001b[0m\n\u001b[0;32m--> 239\u001b[0;31m     \u001b[0mresponse\u001b[0m \u001b[0;34m=\u001b[0m \u001b[0mv1\u001b[0m\u001b[0;34m.\u001b[0m\u001b[0mclientresp\u001b[0m\u001b[0;34m(\u001b[0m\u001b[0mdata\u001b[0m\u001b[0;34m,\u001b[0m \u001b[0;34m**\u001b[0m\u001b[0mplot_options\u001b[0m\u001b[0;34m)\u001b[0m\u001b[0;34m\u001b[0m\u001b[0m\n\u001b[0m\u001b[1;32m    240\u001b[0m \u001b[0;34m\u001b[0m\u001b[0m\n\u001b[1;32m    241\u001b[0m     \u001b[0;31m# Check if the url needs a secret key\u001b[0m\u001b[0;34m\u001b[0m\u001b[0;34m\u001b[0m\u001b[0m\n",
      "\u001b[0;32m~/anaconda3/lib/python3.6/site-packages/plotly/api/v1/clientresp.py\u001b[0m in \u001b[0;36mclientresp\u001b[0;34m(data, **kwargs)\u001b[0m\n\u001b[1;32m     33\u001b[0m \u001b[0;34m\u001b[0m\u001b[0m\n\u001b[1;32m     34\u001b[0m     \u001b[0murl\u001b[0m \u001b[0;34m=\u001b[0m \u001b[0;34m'{plotly_domain}/clientresp'\u001b[0m\u001b[0;34m.\u001b[0m\u001b[0mformat\u001b[0m\u001b[0;34m(\u001b[0m\u001b[0;34m**\u001b[0m\u001b[0mcfg\u001b[0m\u001b[0;34m)\u001b[0m\u001b[0;34m\u001b[0m\u001b[0m\n\u001b[0;32m---> 35\u001b[0;31m     \u001b[0mresponse\u001b[0m \u001b[0;34m=\u001b[0m \u001b[0mrequest\u001b[0m\u001b[0;34m(\u001b[0m\u001b[0;34m'post'\u001b[0m\u001b[0;34m,\u001b[0m \u001b[0murl\u001b[0m\u001b[0;34m,\u001b[0m \u001b[0mdata\u001b[0m\u001b[0;34m=\u001b[0m\u001b[0mpayload\u001b[0m\u001b[0;34m)\u001b[0m\u001b[0;34m\u001b[0m\u001b[0m\n\u001b[0m\u001b[1;32m     36\u001b[0m \u001b[0;34m\u001b[0m\u001b[0m\n\u001b[1;32m     37\u001b[0m     \u001b[0;31m# Old functionality, just keeping it around.\u001b[0m\u001b[0;34m\u001b[0m\u001b[0;34m\u001b[0m\u001b[0m\n",
      "\u001b[0;32m~/anaconda3/lib/python3.6/site-packages/retrying.py\u001b[0m in \u001b[0;36mwrapped_f\u001b[0;34m(*args, **kw)\u001b[0m\n\u001b[1;32m     47\u001b[0m             \u001b[0;34m@\u001b[0m\u001b[0msix\u001b[0m\u001b[0;34m.\u001b[0m\u001b[0mwraps\u001b[0m\u001b[0;34m(\u001b[0m\u001b[0mf\u001b[0m\u001b[0;34m)\u001b[0m\u001b[0;34m\u001b[0m\u001b[0m\n\u001b[1;32m     48\u001b[0m             \u001b[0;32mdef\u001b[0m \u001b[0mwrapped_f\u001b[0m\u001b[0;34m(\u001b[0m\u001b[0;34m*\u001b[0m\u001b[0margs\u001b[0m\u001b[0;34m,\u001b[0m \u001b[0;34m**\u001b[0m\u001b[0mkw\u001b[0m\u001b[0;34m)\u001b[0m\u001b[0;34m:\u001b[0m\u001b[0;34m\u001b[0m\u001b[0m\n\u001b[0;32m---> 49\u001b[0;31m                 \u001b[0;32mreturn\u001b[0m \u001b[0mRetrying\u001b[0m\u001b[0;34m(\u001b[0m\u001b[0;34m*\u001b[0m\u001b[0mdargs\u001b[0m\u001b[0;34m,\u001b[0m \u001b[0;34m**\u001b[0m\u001b[0mdkw\u001b[0m\u001b[0;34m)\u001b[0m\u001b[0;34m.\u001b[0m\u001b[0mcall\u001b[0m\u001b[0;34m(\u001b[0m\u001b[0mf\u001b[0m\u001b[0;34m,\u001b[0m \u001b[0;34m*\u001b[0m\u001b[0margs\u001b[0m\u001b[0;34m,\u001b[0m \u001b[0;34m**\u001b[0m\u001b[0mkw\u001b[0m\u001b[0;34m)\u001b[0m\u001b[0;34m\u001b[0m\u001b[0m\n\u001b[0m\u001b[1;32m     50\u001b[0m \u001b[0;34m\u001b[0m\u001b[0m\n\u001b[1;32m     51\u001b[0m             \u001b[0;32mreturn\u001b[0m \u001b[0mwrapped_f\u001b[0m\u001b[0;34m\u001b[0m\u001b[0m\n",
      "\u001b[0;32m~/anaconda3/lib/python3.6/site-packages/retrying.py\u001b[0m in \u001b[0;36mcall\u001b[0;34m(self, fn, *args, **kwargs)\u001b[0m\n\u001b[1;32m    204\u001b[0m \u001b[0;34m\u001b[0m\u001b[0m\n\u001b[1;32m    205\u001b[0m             \u001b[0;32mif\u001b[0m \u001b[0;32mnot\u001b[0m \u001b[0mself\u001b[0m\u001b[0;34m.\u001b[0m\u001b[0mshould_reject\u001b[0m\u001b[0;34m(\u001b[0m\u001b[0mattempt\u001b[0m\u001b[0;34m)\u001b[0m\u001b[0;34m:\u001b[0m\u001b[0;34m\u001b[0m\u001b[0m\n\u001b[0;32m--> 206\u001b[0;31m                 \u001b[0;32mreturn\u001b[0m \u001b[0mattempt\u001b[0m\u001b[0;34m.\u001b[0m\u001b[0mget\u001b[0m\u001b[0;34m(\u001b[0m\u001b[0mself\u001b[0m\u001b[0;34m.\u001b[0m\u001b[0m_wrap_exception\u001b[0m\u001b[0;34m)\u001b[0m\u001b[0;34m\u001b[0m\u001b[0m\n\u001b[0m\u001b[1;32m    207\u001b[0m \u001b[0;34m\u001b[0m\u001b[0m\n\u001b[1;32m    208\u001b[0m             \u001b[0mdelay_since_first_attempt_ms\u001b[0m \u001b[0;34m=\u001b[0m \u001b[0mint\u001b[0m\u001b[0;34m(\u001b[0m\u001b[0mround\u001b[0m\u001b[0;34m(\u001b[0m\u001b[0mtime\u001b[0m\u001b[0;34m.\u001b[0m\u001b[0mtime\u001b[0m\u001b[0;34m(\u001b[0m\u001b[0;34m)\u001b[0m \u001b[0;34m*\u001b[0m \u001b[0;36m1000\u001b[0m\u001b[0;34m)\u001b[0m\u001b[0;34m)\u001b[0m \u001b[0;34m-\u001b[0m \u001b[0mstart_time\u001b[0m\u001b[0;34m\u001b[0m\u001b[0m\n",
      "\u001b[0;32m~/anaconda3/lib/python3.6/site-packages/retrying.py\u001b[0m in \u001b[0;36mget\u001b[0;34m(self, wrap_exception)\u001b[0m\n\u001b[1;32m    245\u001b[0m                 \u001b[0;32mraise\u001b[0m \u001b[0mRetryError\u001b[0m\u001b[0;34m(\u001b[0m\u001b[0mself\u001b[0m\u001b[0;34m)\u001b[0m\u001b[0;34m\u001b[0m\u001b[0m\n\u001b[1;32m    246\u001b[0m             \u001b[0;32melse\u001b[0m\u001b[0;34m:\u001b[0m\u001b[0;34m\u001b[0m\u001b[0m\n\u001b[0;32m--> 247\u001b[0;31m                 \u001b[0msix\u001b[0m\u001b[0;34m.\u001b[0m\u001b[0mreraise\u001b[0m\u001b[0;34m(\u001b[0m\u001b[0mself\u001b[0m\u001b[0;34m.\u001b[0m\u001b[0mvalue\u001b[0m\u001b[0;34m[\u001b[0m\u001b[0;36m0\u001b[0m\u001b[0;34m]\u001b[0m\u001b[0;34m,\u001b[0m \u001b[0mself\u001b[0m\u001b[0;34m.\u001b[0m\u001b[0mvalue\u001b[0m\u001b[0;34m[\u001b[0m\u001b[0;36m1\u001b[0m\u001b[0;34m]\u001b[0m\u001b[0;34m,\u001b[0m \u001b[0mself\u001b[0m\u001b[0;34m.\u001b[0m\u001b[0mvalue\u001b[0m\u001b[0;34m[\u001b[0m\u001b[0;36m2\u001b[0m\u001b[0;34m]\u001b[0m\u001b[0;34m)\u001b[0m\u001b[0;34m\u001b[0m\u001b[0m\n\u001b[0m\u001b[1;32m    248\u001b[0m         \u001b[0;32melse\u001b[0m\u001b[0;34m:\u001b[0m\u001b[0;34m\u001b[0m\u001b[0m\n\u001b[1;32m    249\u001b[0m             \u001b[0;32mreturn\u001b[0m \u001b[0mself\u001b[0m\u001b[0;34m.\u001b[0m\u001b[0mvalue\u001b[0m\u001b[0;34m\u001b[0m\u001b[0m\n",
      "\u001b[0;32m~/anaconda3/lib/python3.6/site-packages/six.py\u001b[0m in \u001b[0;36mreraise\u001b[0;34m(tp, value, tb)\u001b[0m\n\u001b[1;32m    684\u001b[0m         \u001b[0;32mif\u001b[0m \u001b[0mvalue\u001b[0m\u001b[0;34m.\u001b[0m\u001b[0m__traceback__\u001b[0m \u001b[0;32mis\u001b[0m \u001b[0;32mnot\u001b[0m \u001b[0mtb\u001b[0m\u001b[0;34m:\u001b[0m\u001b[0;34m\u001b[0m\u001b[0m\n\u001b[1;32m    685\u001b[0m             \u001b[0;32mraise\u001b[0m \u001b[0mvalue\u001b[0m\u001b[0;34m.\u001b[0m\u001b[0mwith_traceback\u001b[0m\u001b[0;34m(\u001b[0m\u001b[0mtb\u001b[0m\u001b[0;34m)\u001b[0m\u001b[0;34m\u001b[0m\u001b[0m\n\u001b[0;32m--> 686\u001b[0;31m         \u001b[0;32mraise\u001b[0m \u001b[0mvalue\u001b[0m\u001b[0;34m\u001b[0m\u001b[0m\n\u001b[0m\u001b[1;32m    687\u001b[0m \u001b[0;34m\u001b[0m\u001b[0m\n\u001b[1;32m    688\u001b[0m \u001b[0;32melse\u001b[0m\u001b[0;34m:\u001b[0m\u001b[0;34m\u001b[0m\u001b[0m\n",
      "\u001b[0;32m~/anaconda3/lib/python3.6/site-packages/retrying.py\u001b[0m in \u001b[0;36mcall\u001b[0;34m(self, fn, *args, **kwargs)\u001b[0m\n\u001b[1;32m    198\u001b[0m         \u001b[0;32mwhile\u001b[0m \u001b[0;32mTrue\u001b[0m\u001b[0;34m:\u001b[0m\u001b[0;34m\u001b[0m\u001b[0m\n\u001b[1;32m    199\u001b[0m             \u001b[0;32mtry\u001b[0m\u001b[0;34m:\u001b[0m\u001b[0;34m\u001b[0m\u001b[0m\n\u001b[0;32m--> 200\u001b[0;31m                 \u001b[0mattempt\u001b[0m \u001b[0;34m=\u001b[0m \u001b[0mAttempt\u001b[0m\u001b[0;34m(\u001b[0m\u001b[0mfn\u001b[0m\u001b[0;34m(\u001b[0m\u001b[0;34m*\u001b[0m\u001b[0margs\u001b[0m\u001b[0;34m,\u001b[0m \u001b[0;34m**\u001b[0m\u001b[0mkwargs\u001b[0m\u001b[0;34m)\u001b[0m\u001b[0;34m,\u001b[0m \u001b[0mattempt_number\u001b[0m\u001b[0;34m,\u001b[0m \u001b[0;32mFalse\u001b[0m\u001b[0;34m)\u001b[0m\u001b[0;34m\u001b[0m\u001b[0m\n\u001b[0m\u001b[1;32m    201\u001b[0m             \u001b[0;32mexcept\u001b[0m\u001b[0;34m:\u001b[0m\u001b[0;34m\u001b[0m\u001b[0m\n\u001b[1;32m    202\u001b[0m                 \u001b[0mtb\u001b[0m \u001b[0;34m=\u001b[0m \u001b[0msys\u001b[0m\u001b[0;34m.\u001b[0m\u001b[0mexc_info\u001b[0m\u001b[0;34m(\u001b[0m\u001b[0;34m)\u001b[0m\u001b[0;34m\u001b[0m\u001b[0m\n",
      "\u001b[0;32m~/anaconda3/lib/python3.6/site-packages/plotly/api/v1/utils.py\u001b[0m in \u001b[0;36mrequest\u001b[0;34m(method, url, **kwargs)\u001b[0m\n\u001b[1;32m     88\u001b[0m         \u001b[0mcontent\u001b[0m \u001b[0;34m=\u001b[0m \u001b[0mresponse\u001b[0m\u001b[0;34m.\u001b[0m\u001b[0mcontent\u001b[0m \u001b[0;32mif\u001b[0m \u001b[0mresponse\u001b[0m \u001b[0;32melse\u001b[0m \u001b[0;34m'No content'\u001b[0m\u001b[0;34m\u001b[0m\u001b[0m\n\u001b[1;32m     89\u001b[0m         \u001b[0;32mraise\u001b[0m \u001b[0mexceptions\u001b[0m\u001b[0;34m.\u001b[0m\u001b[0mPlotlyRequestError\u001b[0m\u001b[0;34m(\u001b[0m\u001b[0mmessage\u001b[0m\u001b[0;34m,\u001b[0m \u001b[0mstatus_code\u001b[0m\u001b[0;34m,\u001b[0m \u001b[0mcontent\u001b[0m\u001b[0;34m)\u001b[0m\u001b[0;34m\u001b[0m\u001b[0m\n\u001b[0;32m---> 90\u001b[0;31m     \u001b[0mvalidate_response\u001b[0m\u001b[0;34m(\u001b[0m\u001b[0mresponse\u001b[0m\u001b[0;34m)\u001b[0m\u001b[0;34m\u001b[0m\u001b[0m\n\u001b[0m\u001b[1;32m     91\u001b[0m     \u001b[0;32mreturn\u001b[0m \u001b[0mresponse\u001b[0m\u001b[0;34m\u001b[0m\u001b[0m\n",
      "\u001b[0;32m~/anaconda3/lib/python3.6/site-packages/plotly/api/v1/utils.py\u001b[0m in \u001b[0;36mvalidate_response\u001b[0;34m(response)\u001b[0m\n\u001b[1;32m     38\u001b[0m         \u001b[0mmessage\u001b[0m \u001b[0;34m=\u001b[0m \u001b[0mcontent\u001b[0m \u001b[0;32mif\u001b[0m \u001b[0mcontent\u001b[0m \u001b[0;32melse\u001b[0m \u001b[0;34m'No Content'\u001b[0m\u001b[0;34m\u001b[0m\u001b[0m\n\u001b[1;32m     39\u001b[0m \u001b[0;34m\u001b[0m\u001b[0m\n\u001b[0;32m---> 40\u001b[0;31m     \u001b[0;32mraise\u001b[0m \u001b[0mexceptions\u001b[0m\u001b[0;34m.\u001b[0m\u001b[0mPlotlyRequestError\u001b[0m\u001b[0;34m(\u001b[0m\u001b[0mmessage\u001b[0m\u001b[0;34m,\u001b[0m \u001b[0mstatus_code\u001b[0m\u001b[0;34m,\u001b[0m \u001b[0mcontent\u001b[0m\u001b[0;34m)\u001b[0m\u001b[0;34m\u001b[0m\u001b[0m\n\u001b[0m\u001b[1;32m     41\u001b[0m \u001b[0;34m\u001b[0m\u001b[0m\n\u001b[1;32m     42\u001b[0m \u001b[0;34m\u001b[0m\u001b[0m\n",
      "\u001b[0;31mPlotlyRequestError\u001b[0m: Hi there, you've reached the threshold of 100 combined image exports and chart saves per 24h period. If you need to raise your daily limit, please consider upgrading to a paid plan\n(see: https://plot.ly/products/cloud )."
     ]
    }
   ],
   "source": [
    "import plotly.graph_objs as go\n",
    "sent_year = []\n",
    "# colors = ['rgb(239,243,255)','rgb(189,215,231)','rgb(107,174,214)','rgb(33,113,181)']\n",
    "# colors = 'inferno'\n",
    "\n",
    "labels = []\n",
    "for i in range(len(sent_each_year)):\n",
    "    labels.append([])\n",
    "    for ii in range(len(origins)):\n",
    "        labels[i].append(str(sent_each_year[i][ii]) + ' ' + origins[ii])\n",
    "\n",
    "cmap = plt.get_cmap('BuPu')\n",
    "colors = cmap(np.linspace(0, 1.0, 18))\n",
    "\n",
    "for i in range(len(years)-1):\n",
    "    sent_year.append(go.Scattergeo(\n",
    "        lon = org_lons,\n",
    "        lat = org_lats,\n",
    "        text = labels[i],\n",
    "        name = str(years[i]),\n",
    "        marker = dict(\n",
    "            size = year_sizes[i],\n",
    "            color = colors[i]\n",
    "#             line = dict(width = 0)\n",
    "        ),\n",
    "    ) )\n",
    "\n",
    "# cases[0]['text'] = df[ df['Month'] == 9 ]['Value'].map('{:.0f}'.format).astype(str)+' '+\\\n",
    "#     df[ df['Month'] == 9 ]['Country']\n",
    "# cases[0]['mode'] = 'markers+text'\n",
    "# cases[0]['textposition'] = 'bottom center'\n",
    "\n",
    "inset = [\n",
    "    go.Choropleth(\n",
    "#         locationmode = 'country codes',\n",
    "        locations = org_codes,\n",
    "        z = sent_each_year,\n",
    "#         text = df[ df['Month'] == 9 ]['Country'],\n",
    "        colorscale = [[0,'rgb(0, 0, 0)'],[1,'rgb(0, 0, 0)']],\n",
    "        autocolorscale = False,\n",
    "        showscale = False,\n",
    "        geo = 'geo'\n",
    "    ),\n",
    "    go.Scattergeo(\n",
    "        lon = [21.0936],\n",
    "        lat = [7.1881],\n",
    "        text = ['World'],\n",
    "        mode = 'text',\n",
    "        showlegend = False,\n",
    "        geo = 'geo'\n",
    "    )\n",
    "]\n",
    "\n",
    "layout = go.Layout(\n",
    "    title = 'Regufees each year',\n",
    "    geo = dict(\n",
    "        resolution = 50,\n",
    "        scope = 'asia',\n",
    "        showframe = False,\n",
    "        showcoastlines = True,\n",
    "        showland = True,\n",
    "        showcountries=True,\n",
    "        landcolor = \"rgb(229, 229, 229)\",\n",
    "        countrycolor = \"rgb(255, 255, 255)\" ,\n",
    "        coastlinecolor = \"rgb(255, 255, 255)\",\n",
    "        projection = dict(\n",
    "            type = 'mercator'\n",
    "        )#,\n",
    "#         lonaxis = dict( range= [ -15.0, -5.0 ] ),\n",
    "#         lataxis = dict( range= [ 0.0, 12.0 ] ),\n",
    "#         domain = dict(\n",
    "#             x = [ 0, 1 ],\n",
    "#             y = [ 0, 1 ]\n",
    "#         )\n",
    "    )#,\n",
    "#     geo2 = dict(\n",
    "#         scope = 'world',\n",
    "#         showframe = False,\n",
    "#         showland = True,\n",
    "#         landcolor = \"rgb(229, 229, 229)\",\n",
    "#         showcountries = False,\n",
    "#         domain = dict(\n",
    "#             x = [ 0, 0.6 ],\n",
    "#             y = [ 0, 0.6 ]\n",
    "#         ),\n",
    "#         bgcolor = 'rgba(255, 255, 255, 0.0)',\n",
    "#     ),\n",
    "#     legend = dict(\n",
    "#            traceorder = 'reversed'\n",
    "#     )\n",
    ")\n",
    "\n",
    "fig = go.Figure(layout=layout, data=sent_year)\n",
    "ply.iplot(fig, validate=False, filename='Refugees each year')"
   ]
  },
  {
   "cell_type": "code",
   "execution_count": 240,
   "metadata": {},
   "outputs": [
    {
     "data": {
      "text/plain": [
       "[['4609.0 DR_Congo',\n",
       "  '11658.0 Afghanistan',\n",
       "  '0.0 Syria',\n",
       "  '1097.0 Myanmar',\n",
       "  '1440.0 Sudan'],\n",
       " ['7465.0 DR_Congo',\n",
       "  '15930.0 Afghanistan',\n",
       "  '0.0 Syria',\n",
       "  '1442.0 Myanmar',\n",
       "  '1896.0 Sudan'],\n",
       " ['9780.0 DR_Congo',\n",
       "  '11308.0 Afghanistan',\n",
       "  '0.0 Syria',\n",
       "  '679.0 Myanmar',\n",
       "  '1813.0 Sudan'],\n",
       " ['0.0 DR_Congo',\n",
       "  '4582.0 Afghanistan',\n",
       "  '0.0 Syria',\n",
       "  '681.0 Myanmar',\n",
       "  '2036.0 Sudan'],\n",
       " ['0.0 DR_Congo',\n",
       "  '2357.0 Afghanistan',\n",
       "  '1132.0 Syria',\n",
       "  '502.0 Myanmar',\n",
       "  '2389.0 Sudan'],\n",
       " ['0.0 DR_Congo',\n",
       "  '2504.0 Afghanistan',\n",
       "  '0.0 Syria',\n",
       "  '408.0 Myanmar',\n",
       "  '1767.0 Sudan'],\n",
       " ['3684.0 DR_Congo',\n",
       "  '3557.0 Afghanistan',\n",
       "  '0.0 Syria',\n",
       "  '551.0 Myanmar',\n",
       "  '1531.0 Sudan'],\n",
       " ['3175.0 DR_Congo',\n",
       "  '3699.0 Afghanistan',\n",
       "  '0.0 Syria',\n",
       "  '693.0 Myanmar',\n",
       "  '1127.0 Sudan'],\n",
       " ['3617.0 DR_Congo',\n",
       "  '6810.0 Afghanistan',\n",
       "  '0.0 Syria',\n",
       "  '670.0 Myanmar',\n",
       "  '1524.0 Sudan'],\n",
       " ['3662.0 DR_Congo',\n",
       "  '8756.0 Afghanistan',\n",
       "  '0.0 Syria',\n",
       "  '605.0 Myanmar',\n",
       "  '1406.0 Sudan'],\n",
       " ['4218.0 DR_Congo',\n",
       "  '9931.0 Afghanistan',\n",
       "  '0.0 Syria',\n",
       "  '714.0 Myanmar',\n",
       "  '1788.0 Sudan'],\n",
       " ['4828.0 DR_Congo',\n",
       "  '11992.0 Afghanistan',\n",
       "  '4208.0 Syria',\n",
       "  '625.0 Myanmar',\n",
       "  '2818.0 Sudan'],\n",
       " ['6405.0 DR_Congo',\n",
       "  '11315.0 Afghanistan',\n",
       "  '9513.0 Syria',\n",
       "  '865.0 Myanmar',\n",
       "  '2025.0 Sudan'],\n",
       " ['6358.0 DR_Congo',\n",
       "  '12338.0 Afghanistan',\n",
       "  '17884.0 Syria',\n",
       "  '517.0 Myanmar',\n",
       "  '2423.0 Sudan'],\n",
       " ['6271.0 DR_Congo',\n",
       "  '15315.0 Afghanistan',\n",
       "  '47581.0 Syria',\n",
       "  '382.0 Myanmar',\n",
       "  '4844.0 Sudan'],\n",
       " ['5061.0 DR_Congo',\n",
       "  '41486.0 Afghanistan',\n",
       "  '168761.0 Syria',\n",
       "  '401.0 Myanmar',\n",
       "  '9859.0 Sudan'],\n",
       " ['4461.0 DR_Congo',\n",
       "  '139350.0 Afghanistan',\n",
       "  '276351.0 Syria',\n",
       "  '432.0 Myanmar',\n",
       "  '10255.0 Sudan'],\n",
       " ['4502.0 DR_Congo',\n",
       "  '25011.0 Afghanistan',\n",
       "  '42662.0 Syria',\n",
       "  '391.0 Myanmar',\n",
       "  '8247.0 Sudan'],\n",
       " ['0.0 DR_Congo', '0.0 Afghanistan', '0.0 Syria', '0.0 Myanmar', '0.0 Sudan']]"
      ]
     },
     "execution_count": 240,
     "metadata": {},
     "output_type": "execute_result"
    }
   ],
   "source": [
    "labels"
   ]
  },
  {
   "cell_type": "code",
   "execution_count": 238,
   "metadata": {},
   "outputs": [
    {
     "data": {
      "text/plain": [
       "False"
      ]
     },
     "execution_count": 238,
     "metadata": {},
     "output_type": "execute_result"
    }
   ],
   "source": [
    "a = []\n",
    "a == True"
   ]
  },
  {
   "cell_type": "code",
   "execution_count": null,
   "metadata": {
    "collapsed": true
   },
   "outputs": [],
   "source": []
  }
 ],
 "metadata": {
  "kernelspec": {
   "display_name": "Python 3",
   "language": "python",
   "name": "python3"
  },
  "language_info": {
   "codemirror_mode": {
    "name": "ipython",
    "version": 3
   },
   "file_extension": ".py",
   "mimetype": "text/x-python",
   "name": "python",
   "nbconvert_exporter": "python",
   "pygments_lexer": "ipython3",
   "version": "3.6.2"
  }
 },
 "nbformat": 4,
 "nbformat_minor": 2
}
