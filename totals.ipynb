{
 "cells": [
  {
   "cell_type": "code",
   "execution_count": 57,
   "metadata": {},
   "outputs": [],
   "source": [
    "import dash\n",
    "import dash_core_components as dcc\n",
    "import dash_html_components as html\n",
    "import pandas as pd\n",
    "import plotly.graph_objs as go\n",
    "\n",
    "import geopandas\n",
    "import pandas as pd\n",
    "import matplotlib.pyplot as plt\n",
    "from mpl_toolkits.basemap import Basemap\n",
    "import numpy as np\n",
    "import seaborn as sb\n",
    "import plotly\n",
    "import dash\n",
    "import plotly.offline as ply\n",
    "from plotly.graph_objs import *\n",
    "from scipy.io import netcdf\n",
    "import scipy.stats as stat\n",
    "\n",
    "origins = [\"DR_Congo\", \"Afghanistan\", \"Syria\", \"Myanmar\", \"Sudan\"]\n",
    "destinations = [\"USA\", \"UK\", \"France\", \"Canada\", \"Italy\", \"Germany\"]\n",
    "\n",
    "org_codes = [\"COD\", \"AFG\", \"SYR\", \"MMR\", \"SDN\"]\n",
    "dest_codes = [\"USA\", \"GBR\", \"FRA\", \"CAN\", \"ITA\",\"DEU\"]\n",
    "\n",
    "years = [2000 + i for i in range(19)]\n",
    "\n",
    "features = ['destination',\n",
    " 'Origin',\n",
    " 'applied',\n",
    " 'accepted',\n",
    " 'Rejected',\n",
    " 'decisions',\n",
    " 'Year',\n",
    " 'Month',\n",
    " 'Value',\n",
    " 'deaths',\n",
    " 'last_month',\n",
    " 'two_months_ago',\n",
    " 'next_month',\n",
    " 'two_months_later']\n",
    "\n",
    "\n",
    "months = [\"Jan\", \"Feb\", \"Mar\", \"Apr\", \"May\", \"Jun\", \"Jul\", \"Aug\", \"Sept\", \"Oct\", \"Nov\", \"Dec\"]\n",
    "\n",
    "combos = []\n",
    "for year in years:\n",
    "    for month in months:\n",
    "        combos.append((month, year))\n",
    "\n",
    "\n",
    "coordinates = {}\n",
    "coordinates[\"Syria\"] = (34.8, 38.997)\n",
    "coordinates[\"DR_Congo\"] = (-4.0383, 21.759)\n",
    "coordinates[\"Afghanistan\"] = (33.939, 67.71)\n",
    "coordinates[\"Sudan\"] = (12.863, 30.218)\n",
    "coordinates[\"Myanmar\"] = (21.9162, 95.956)\n",
    "\n",
    "coordinates[\"USA\"] = (37.09, -95.713)\n",
    "coordinates[\"UK\"] = (55.378, -3.436)\n",
    "coordinates[\"France\"] = (46.228, 2.214)\n",
    "coordinates[\"Germany\"] = (51.166, 10.4515)\n",
    "coordinates[\"Italy\"] = (41.872, 12.5674)\n",
    "coordinates[\"Canada\"] = (56.1304, -106.3468)\n",
    "\n",
    "\n",
    "dest_longs = [coordinates[dest][1] for dest in destinations]\n",
    "dest_lats = [coordinates[dest][0] for dest in destinations]\n",
    "\n",
    "org_longs = [coordinates[org][1] for org in origins]\n",
    "org_lats = [coordinates[org][0] for org in origins]\n",
    "\n",
    "pairs = []\n",
    "for origin in origins:\n",
    "    for destination in destinations:\n",
    "        pairs.append((origin, destination))\n",
    "\n",
    "# Read in data\n",
    "df = pd.read_csv('./data/all_merged.csv', skipinitialspace=True)\n",
    "\n",
    "symbols = {'DR_Congo': 'triangle-down', 'Sudan': 'square', 'Syria': 'cross',\\\n",
    "            'Myanmar':'star', 'Afghanistan': 'circle'}"
   ]
  },
  {
   "cell_type": "code",
   "execution_count": null,
   "metadata": {},
   "outputs": [],
   "source": []
  },
  {
   "cell_type": "code",
   "execution_count": 58,
   "metadata": {},
   "outputs": [
    {
     "name": "stderr",
     "output_type": "stream",
     "text": [
      "/Users/jasonterry/anaconda3/lib/python3.6/site-packages/ipykernel_launcher.py:2: DeprecationWarning:\n",
      "\n",
      "\n",
      ".ix is deprecated. Please use\n",
      ".loc for label based indexing or\n",
      ".iloc for positional indexing\n",
      "\n",
      "See the documentation here:\n",
      "http://pandas.pydata.org/pandas-docs/stable/indexing.html#ix-indexer-is-deprecated\n",
      "\n"
     ]
    }
   ],
   "source": [
    "for month in months:\n",
    "    df.ix[df.Month.str.contains(month), ['Month']] = month\n",
    "month_ids = []\n",
    "markers = []\n",
    "origin_ids = []\n",
    "d_lats = []\n",
    "d_longs = []\n",
    "o_lats = []\n",
    "o_longs = []\n",
    "for index, row in df.iterrows():\n",
    "    markers.append(symbols[row[\"Origin\"]])\n",
    "    month = row.Month\n",
    "    month_ids.append(months.index(month) + 1)\n",
    "    origin_ids.append(origins.index(row.Origin))\n",
    "    d_lats.append(coordinates[row.destination][0])\n",
    "    o_lats.append(coordinates[row.Origin][0])\n",
    "    d_longs.append(coordinates[row.destination][1])\n",
    "    o_longs.append(coordinates[row.Origin][1])\n",
    "df['shapes'] = markers\n",
    "df['month_id'] = month_ids\n",
    "df['month_number'] =12*(df['Year']-2000) + df['month_id']\n",
    "df['origin_id'] = origin_ids\n",
    "df['dest_lat'] = d_lats\n",
    "df['dest_long'] = d_longs\n",
    "df['org_lat'] = o_lats\n",
    "df['org_long'] = o_longs"
   ]
  },
  {
   "cell_type": "code",
   "execution_count": 59,
   "metadata": {},
   "outputs": [
    {
     "data": {
      "text/plain": [
       "['Unnamed: 0',\n",
       " 'destination',\n",
       " 'Origin',\n",
       " 'applied',\n",
       " 'accepted',\n",
       " 'Rejected',\n",
       " 'decisions',\n",
       " 'Year',\n",
       " 'Month',\n",
       " 'Value',\n",
       " 'deaths',\n",
       " 'shapes',\n",
       " 'month_id',\n",
       " 'month_number',\n",
       " 'origin_id',\n",
       " 'dest_lat',\n",
       " 'dest_long',\n",
       " 'org_lat',\n",
       " 'org_long']"
      ]
     },
     "execution_count": 59,
     "metadata": {},
     "output_type": "execute_result"
    }
   ],
   "source": [
    "list(df)"
   ]
  },
  {
   "cell_type": "code",
   "execution_count": 51,
   "metadata": {},
   "outputs": [],
   "source": [
    "grouped = df.groupby('destination')"
   ]
  },
  {
   "cell_type": "code",
   "execution_count": 52,
   "metadata": {},
   "outputs": [],
   "source": [
    "group_dict = {}\n",
    "for (name, df) in grouped:\n",
    "    group_dict[name] = df"
   ]
  },
  {
   "cell_type": "code",
   "execution_count": 53,
   "metadata": {},
   "outputs": [
    {
     "data": {
      "text/html": [
       "<div>\n",
       "<style scoped>\n",
       "    .dataframe tbody tr th:only-of-type {\n",
       "        vertical-align: middle;\n",
       "    }\n",
       "\n",
       "    .dataframe tbody tr th {\n",
       "        vertical-align: top;\n",
       "    }\n",
       "\n",
       "    .dataframe thead th {\n",
       "        text-align: right;\n",
       "    }\n",
       "</style>\n",
       "<table border=\"1\" class=\"dataframe\">\n",
       "  <thead>\n",
       "    <tr style=\"text-align: right;\">\n",
       "      <th></th>\n",
       "      <th>Unnamed: 0</th>\n",
       "      <th>destination</th>\n",
       "      <th>Origin</th>\n",
       "      <th>applied</th>\n",
       "      <th>accepted</th>\n",
       "      <th>Rejected</th>\n",
       "      <th>decisions</th>\n",
       "      <th>Year</th>\n",
       "      <th>Month</th>\n",
       "      <th>Value</th>\n",
       "      <th>deaths</th>\n",
       "      <th>shapes</th>\n",
       "      <th>month_id</th>\n",
       "      <th>month_number</th>\n",
       "      <th>origin_id</th>\n",
       "    </tr>\n",
       "  </thead>\n",
       "  <tbody>\n",
       "    <tr>\n",
       "      <th>1958</th>\n",
       "      <td>1958</td>\n",
       "      <td>USA</td>\n",
       "      <td>Myanmar</td>\n",
       "      <td>264.0</td>\n",
       "      <td>246.0</td>\n",
       "      <td>138.0</td>\n",
       "      <td>481.0</td>\n",
       "      <td>2005</td>\n",
       "      <td>Jun</td>\n",
       "      <td>19.0</td>\n",
       "      <td>142.0</td>\n",
       "      <td>star</td>\n",
       "      <td>6</td>\n",
       "      <td>66</td>\n",
       "      <td>3</td>\n",
       "    </tr>\n",
       "    <tr>\n",
       "      <th>2075</th>\n",
       "      <td>2075</td>\n",
       "      <td>USA</td>\n",
       "      <td>Afghanistan</td>\n",
       "      <td>45.0</td>\n",
       "      <td>42.0</td>\n",
       "      <td>39.0</td>\n",
       "      <td>130.0</td>\n",
       "      <td>2005</td>\n",
       "      <td>Jul</td>\n",
       "      <td>1.0</td>\n",
       "      <td>1736.0</td>\n",
       "      <td>circle</td>\n",
       "      <td>7</td>\n",
       "      <td>67</td>\n",
       "      <td>1</td>\n",
       "    </tr>\n",
       "    <tr>\n",
       "      <th>5147</th>\n",
       "      <td>5147</td>\n",
       "      <td>USA</td>\n",
       "      <td>Sudan</td>\n",
       "      <td>182.0</td>\n",
       "      <td>92.0</td>\n",
       "      <td>33.0</td>\n",
       "      <td>187.0</td>\n",
       "      <td>2013</td>\n",
       "      <td>Feb</td>\n",
       "      <td>5.0</td>\n",
       "      <td>1519.0</td>\n",
       "      <td>square</td>\n",
       "      <td>2</td>\n",
       "      <td>158</td>\n",
       "      <td>4</td>\n",
       "    </tr>\n",
       "    <tr>\n",
       "      <th>136</th>\n",
       "      <td>136</td>\n",
       "      <td>USA</td>\n",
       "      <td>Afghanistan</td>\n",
       "      <td>443.0</td>\n",
       "      <td>333.0</td>\n",
       "      <td>82.0</td>\n",
       "      <td>523.0</td>\n",
       "      <td>2000</td>\n",
       "      <td>May</td>\n",
       "      <td>20.0</td>\n",
       "      <td>5235.0</td>\n",
       "      <td>circle</td>\n",
       "      <td>5</td>\n",
       "      <td>5</td>\n",
       "      <td>1</td>\n",
       "    </tr>\n",
       "    <tr>\n",
       "      <th>711</th>\n",
       "      <td>711</td>\n",
       "      <td>USA</td>\n",
       "      <td>Afghanistan</td>\n",
       "      <td>499.0</td>\n",
       "      <td>341.0</td>\n",
       "      <td>70.0</td>\n",
       "      <td>521.0</td>\n",
       "      <td>2001</td>\n",
       "      <td>Dec</td>\n",
       "      <td>14.0</td>\n",
       "      <td>5308.0</td>\n",
       "      <td>circle</td>\n",
       "      <td>12</td>\n",
       "      <td>24</td>\n",
       "      <td>1</td>\n",
       "    </tr>\n",
       "  </tbody>\n",
       "</table>\n",
       "</div>"
      ],
      "text/plain": [
       "      Unnamed: 0 destination       Origin  applied  accepted  Rejected  \\\n",
       "1958        1958         USA      Myanmar    264.0     246.0     138.0   \n",
       "2075        2075         USA  Afghanistan     45.0      42.0      39.0   \n",
       "5147        5147         USA        Sudan    182.0      92.0      33.0   \n",
       "136          136         USA  Afghanistan    443.0     333.0      82.0   \n",
       "711          711         USA  Afghanistan    499.0     341.0      70.0   \n",
       "\n",
       "      decisions  Year Month  Value  deaths  shapes  month_id  month_number  \\\n",
       "1958      481.0  2005   Jun   19.0   142.0    star         6            66   \n",
       "2075      130.0  2005   Jul    1.0  1736.0  circle         7            67   \n",
       "5147      187.0  2013   Feb    5.0  1519.0  square         2           158   \n",
       "136       523.0  2000   May   20.0  5235.0  circle         5             5   \n",
       "711       521.0  2001   Dec   14.0  5308.0  circle        12            24   \n",
       "\n",
       "      origin_id  \n",
       "1958          3  \n",
       "2075          1  \n",
       "5147          4  \n",
       "136           1  \n",
       "711           1  "
      ]
     },
     "execution_count": 53,
     "metadata": {},
     "output_type": "execute_result"
    }
   ],
   "source": [
    "group_dict[list(group_dict.keys())[0]].sample(5)"
   ]
  },
  {
   "cell_type": "markdown",
   "metadata": {},
   "source": [
    "## Plot with dropdown menu that chooses origin. Shows all refugees for each country"
   ]
  },
  {
   "cell_type": "code",
   "execution_count": 36,
   "metadata": {},
   "outputs": [],
   "source": [
    "fig = go.FigureWidget(\n",
    "    data=[dict(\n",
    "        x = df.query('Origin == @origin')['month_number'],\n",
    "        y = df.query('Origin == @origin')['Value'],\n",
    "        name = origin, \n",
    "        mode = 'markers',\n",
    "        opacity = 0.6\n",
    "    ) for origin in origins\n",
    "    ]\n",
    ")\n",
    "years = [2000 + i for i in range(18)]\n",
    "marker_places= [12*i for i in range(18)]\n",
    "tick_labs = [str(year) for year in years]\n",
    "fig.layout.hovermode = 'closest'\n",
    "fig.layout.yaxis.title = 'Refugees Taken In'\n",
    "# fig.layout.xaxis.title = 'Month'\n",
    "fig.layout.xaxis.ticktext = tick_labs\n",
    "fig.layout.xaxis.tickvals = marker_places"
   ]
  },
  {
   "cell_type": "code",
   "execution_count": 37,
   "metadata": {},
   "outputs": [
    {
     "data": {
      "application/vnd.jupyter.widget-view+json": {
       "model_id": "",
       "version_major": 2,
       "version_minor": 0
      },
      "text/plain": [
       "interactive(children=(Dropdown(description='menu', options=('USA', 'UK', 'France', 'Canada', 'Italy', 'Germany…"
      ]
     },
     "metadata": {},
     "output_type": "display_data"
    },
    {
     "data": {
      "application/vnd.jupyter.widget-view+json": {
       "model_id": "",
       "version_major": 2,
       "version_minor": 0
      },
      "text/plain": [
       "FigureWidget({\n",
       "    'data': [{'mode': 'markers',\n",
       "              'name': 'DR_Congo',\n",
       "              'opacity': 0.6…"
      ]
     },
     "metadata": {},
     "output_type": "display_data"
    }
   ],
   "source": [
    "from ipywidgets import interact\n",
    "\n",
    "@interact(menu = destinations)\n",
    "def update_arguments(menu=['Canada']):\n",
    "    for i in range(len(fig.data)):\n",
    "        origin = fig.data[i]['name']\n",
    "        fig.data[i].x = group_dict[menu].query('Origin == @origin')\\\n",
    "                        .month_number\n",
    "        fig.data[i].y = group_dict[menu].query('Origin == @origin')\\\n",
    "                        .Value + \\\n",
    "                        np.random.rand(len(group_dict[menu]\\\n",
    "                                           .query('Origin == @origin')\\\n",
    "                        .month_number))\n",
    "    fig.layout.title = 'Refugees taken in by ' + menu\n",
    "fig"
   ]
  },
  {
   "cell_type": "markdown",
   "metadata": {},
   "source": [
    "## Routes"
   ]
  },
  {
   "cell_type": "code",
   "execution_count": 68,
   "metadata": {},
   "outputs": [],
   "source": [
    "dest_dict = [ dict(\n",
    "        type = 'scattergeo',\n",
    "        locationmode = 'world',\n",
    "        lon = dest_longs,\n",
    "        lat = dest_lats,\n",
    "        hoverinfo = 'text',\n",
    "        text = destinations,\n",
    "        mode = 'markers',\n",
    "        marker = dict( \n",
    "            size=2, \n",
    "            color='rgb(255, 0, 0)',\n",
    "            line = dict(\n",
    "                width=3,\n",
    "                color='rgba(68, 68, 68, 0)'\n",
    "            )\n",
    "        ))]"
   ]
  },
  {
   "cell_type": "code",
   "execution_count": 69,
   "metadata": {},
   "outputs": [],
   "source": [
    "org_dict = [ dict(\n",
    "        type = 'scattergeo',\n",
    "        locationmode = 'world',\n",
    "        lon = org_longs,\n",
    "        lat = org_lats,\n",
    "        hoverinfo = 'text',\n",
    "        text = origins,\n",
    "        mode = 'markers',\n",
    "        marker = dict( \n",
    "            size=2, \n",
    "            color='rgb(255, 0, 0)',\n",
    "            line = dict(\n",
    "                width=3,\n",
    "                color='rgba(68, 68, 68, 0)'\n",
    "            )\n",
    "        ))]"
   ]
  },
  {
   "cell_type": "code",
   "execution_count": 99,
   "metadata": {},
   "outputs": [],
   "source": [
    "sent={}\n",
    "for org in origins:\n",
    "    sent[org] = []\n",
    "for org in sent:\n",
    "    for dest in destinations:\n",
    "        sent[org].append(df.query('Origin == @org and destination == @dest').Value.sum())"
   ]
  },
  {
   "cell_type": "code",
   "execution_count": 100,
   "metadata": {},
   "outputs": [
    {
     "data": {
      "text/plain": [
       "{'Afghanistan': [3235.0, 56620.0, 20210.0, 6586.0, 19412.0, 233174.0],\n",
       " 'DR_Congo': [3339.0, 13682.0, 67176.0, 8435.0, 885.0, 6407.0],\n",
       " 'Myanmar': [6586.0, 2279.0, 1326.0, 258.0, 53.0, 1528.0],\n",
       " 'Sudan': [4542.0, 17667.0, 23780.0, 2880.0, 3146.0, 8714.0],\n",
       " 'Syria': [7490.0, 13370.0, 21672.0, 5476.0, 5835.0, 539729.0]}"
      ]
     },
     "execution_count": 100,
     "metadata": {},
     "output_type": "execute_result"
    }
   ],
   "source": [
    "sent"
   ]
  },
  {
   "cell_type": "code",
   "execution_count": 106,
   "metadata": {},
   "outputs": [],
   "source": [
    "possible_locationmodes = ['ISO-3', 'USA-states', 'country names']\n",
    "paths = []\n",
    "colors = ['red', 'blue', 'green', 'orange', 'purple']\n",
    "# for i in range(len(df.Value)):\n",
    "#     paths.append(\n",
    "#         dict(\n",
    "#             type = 'scattergeo',\n",
    "#             locationmode = 'country names',\n",
    "#             lon = [df['org_long'][i], df['dest_long'][i] ],\n",
    "#             lat = [ df['org_lat'][i], df['dest_lat'][i] ],\n",
    "#             mode = 'lines',\n",
    "#             line = dict(\n",
    "#                 width = 1,\n",
    "#                 color = colors[df['origin_id'][i]],\n",
    "#             ),\n",
    "#             opacity = 0.1,\n",
    "#         )\n",
    "#     )\n",
    "for i in range(len(origins)):\n",
    "    for ii in range(len(destinations)):\n",
    "        paths.append(\n",
    "            dict(\n",
    "                type = 'scattergeo',\n",
    "                locationmode = 'country names',\n",
    "                lon = [org_longs[i], dest_longs[ii] ],\n",
    "                lat = [org_lats[i], dest_lats[ii]],\n",
    "                mode = 'lines',\n",
    "                line = dict(\n",
    "                    width = 1,\n",
    "                    color = colors[i],\n",
    "                ),\n",
    "                opacity = sent[origins[i]][ii]/max(sent[origins[i]]),\n",
    "            )\n",
    "        )"
   ]
  },
  {
   "cell_type": "code",
   "execution_count": 116,
   "metadata": {},
   "outputs": [],
   "source": [
    "layout = dict(\n",
    "        title = 'Refugee Routes (2000 - 2018)',\n",
    "        showlegend = False, \n",
    "        geo = dict(\n",
    "            scope='world',\n",
    "#             projection=dict( type='mercator' ),\n",
    "#             projection = dict(type = 'azimuthal equal area'),\n",
    "#             projection = dict(type = 'equirectangular'),\n",
    "            projection = dict( \n",
    "                            type = 'orthographic',\n",
    "                            rotation = dict(\n",
    "                                lon = -100,\n",
    "                                lat = 40,\n",
    "                                roll = 0\n",
    "                            )),  \n",
    "            showland = True,\n",
    "            showcountries = True,\n",
    "#             showlakes = True,\n",
    "#             showocean=True,\n",
    "#             lakecolor = 'rgb(0, 255, 255)',\n",
    "#             oceancolor = 'rgb(0, 255, 255)',\n",
    "            landcolor = 'rgb(243, 243, 243)',\n",
    "            countrycolor = 'rgb(204, 204, 204)',\n",
    "        ),\n",
    "    )"
   ]
  },
  {
   "cell_type": "code",
   "execution_count": 117,
   "metadata": {},
   "outputs": [
    {
     "data": {
      "application/vnd.plotly.v1+json": {
       "config": {
        "linkText": "Export to plot.ly",
        "plotlyServerURL": "https://plot.ly",
        "showLink": true
       },
       "data": [
        {
         "lat": [
          -4.0383,
          37.09
         ],
         "line": {
          "color": "red",
          "width": 1
         },
         "locationmode": "country names",
         "lon": [
          21.759,
          -95.713
         ],
         "mode": "lines",
         "opacity": 0.04970525187566988,
         "type": "scattergeo",
         "uid": "a1a03379-d99c-4679-af0d-02940a3c0188"
        },
        {
         "lat": [
          -4.0383,
          55.378
         ],
         "line": {
          "color": "red",
          "width": 1
         },
         "locationmode": "country names",
         "lon": [
          21.759,
          -3.436
         ],
         "mode": "lines",
         "opacity": 0.20367393116589258,
         "type": "scattergeo",
         "uid": "809c690c-c62e-416e-94d2-05c2725a9951"
        },
        {
         "lat": [
          -4.0383,
          46.228
         ],
         "line": {
          "color": "red",
          "width": 1
         },
         "locationmode": "country names",
         "lon": [
          21.759,
          2.214
         ],
         "mode": "lines",
         "opacity": 1,
         "type": "scattergeo",
         "uid": "1dfd76ff-d1a4-4534-a2ed-a65289249c5c"
        },
        {
         "lat": [
          -4.0383,
          56.1304
         ],
         "line": {
          "color": "red",
          "width": 1
         },
         "locationmode": "country names",
         "lon": [
          21.759,
          -106.3468
         ],
         "mode": "lines",
         "opacity": 0.12556567821841133,
         "type": "scattergeo",
         "uid": "c1a2c834-09fe-447b-b401-f067b4d4b014"
        },
        {
         "lat": [
          -4.0383,
          41.872
         ],
         "line": {
          "color": "red",
          "width": 1
         },
         "locationmode": "country names",
         "lon": [
          21.759,
          12.5674
         ],
         "mode": "lines",
         "opacity": 0.013174347981421936,
         "type": "scattergeo",
         "uid": "8d4d89d9-f6a1-4c1b-a91d-a9ff477bd39b"
        },
        {
         "lat": [
          -4.0383,
          51.166
         ],
         "line": {
          "color": "red",
          "width": 1
         },
         "locationmode": "country names",
         "lon": [
          21.759,
          10.4515
         ],
         "mode": "lines",
         "opacity": 0.0953763248779326,
         "type": "scattergeo",
         "uid": "808b5a0b-16ad-4608-a212-0049bc6bf0ae"
        },
        {
         "lat": [
          33.939,
          37.09
         ],
         "line": {
          "color": "blue",
          "width": 1
         },
         "locationmode": "country names",
         "lon": [
          67.71,
          -95.713
         ],
         "mode": "lines",
         "opacity": 0.013873759510065444,
         "type": "scattergeo",
         "uid": "ddefd43d-556e-43ac-9f26-469d6676774e"
        },
        {
         "lat": [
          33.939,
          55.378
         ],
         "line": {
          "color": "blue",
          "width": 1
         },
         "locationmode": "country names",
         "lon": [
          67.71,
          -3.436
         ],
         "mode": "lines",
         "opacity": 0.242822956247266,
         "type": "scattergeo",
         "uid": "e5c8caed-c914-4b6d-a5ca-4e99dd6077c6"
        },
        {
         "lat": [
          33.939,
          46.228
         ],
         "line": {
          "color": "blue",
          "width": 1
         },
         "locationmode": "country names",
         "lon": [
          67.71,
          2.214
         ],
         "mode": "lines",
         "opacity": 0.0866734713132682,
         "type": "scattergeo",
         "uid": "6bb47269-0308-4729-916d-ba7b040c4971"
        },
        {
         "lat": [
          33.939,
          56.1304
         ],
         "line": {
          "color": "blue",
          "width": 1
         },
         "locationmode": "country names",
         "lon": [
          67.71,
          -106.3468
         ],
         "mode": "lines",
         "opacity": 0.02824500158679784,
         "type": "scattergeo",
         "uid": "b40cff59-1f3e-4612-87b3-b9ea708cdb78"
        },
        {
         "lat": [
          33.939,
          41.872
         ],
         "line": {
          "color": "blue",
          "width": 1
         },
         "locationmode": "country names",
         "lon": [
          67.71,
          12.5674
         ],
         "mode": "lines",
         "opacity": 0.08325113434602485,
         "type": "scattergeo",
         "uid": "5cc8e169-9f6f-4865-96e8-1cba7d876549"
        },
        {
         "lat": [
          33.939,
          51.166
         ],
         "line": {
          "color": "blue",
          "width": 1
         },
         "locationmode": "country names",
         "lon": [
          67.71,
          10.4515
         ],
         "mode": "lines",
         "opacity": 1,
         "type": "scattergeo",
         "uid": "4e9517b5-d824-4e67-a802-05fbab16dc56"
        },
        {
         "lat": [
          34.8,
          37.09
         ],
         "line": {
          "color": "green",
          "width": 1
         },
         "locationmode": "country names",
         "lon": [
          38.997,
          -95.713
         ],
         "mode": "lines",
         "opacity": 0.013877334736506654,
         "type": "scattergeo",
         "uid": "c18d07dd-443c-4cbb-a23d-770a4831898e"
        },
        {
         "lat": [
          34.8,
          55.378
         ],
         "line": {
          "color": "green",
          "width": 1
         },
         "locationmode": "country names",
         "lon": [
          38.997,
          -3.436
         ],
         "mode": "lines",
         "opacity": 0.024771690978250195,
         "type": "scattergeo",
         "uid": "8417ceca-5818-4928-a8ec-b9509c35a933"
        },
        {
         "lat": [
          34.8,
          46.228
         ],
         "line": {
          "color": "green",
          "width": 1
         },
         "locationmode": "country names",
         "lon": [
          38.997,
          2.214
         ],
         "mode": "lines",
         "opacity": 0.04015348443385477,
         "type": "scattergeo",
         "uid": "df256de6-5ff6-4086-ae08-c1f95886849a"
        },
        {
         "lat": [
          34.8,
          56.1304
         ],
         "line": {
          "color": "green",
          "width": 1
         },
         "locationmode": "country names",
         "lon": [
          38.997,
          -106.3468
         ],
         "mode": "lines",
         "opacity": 0.010145832445542114,
         "type": "scattergeo",
         "uid": "6f012c15-173c-4c8d-9a9b-be3ce3edc8be"
        },
        {
         "lat": [
          34.8,
          41.872
         ],
         "line": {
          "color": "green",
          "width": 1
         },
         "locationmode": "country names",
         "lon": [
          38.997,
          12.5674
         ],
         "mode": "lines",
         "opacity": 0.010810981066424075,
         "type": "scattergeo",
         "uid": "d5e353af-07b0-4b75-a883-c8b5065b4706"
        },
        {
         "lat": [
          34.8,
          51.166
         ],
         "line": {
          "color": "green",
          "width": 1
         },
         "locationmode": "country names",
         "lon": [
          38.997,
          10.4515
         ],
         "mode": "lines",
         "opacity": 1,
         "type": "scattergeo",
         "uid": "1460347e-7ddb-40bc-b712-cd65d6fe6496"
        },
        {
         "lat": [
          21.9162,
          37.09
         ],
         "line": {
          "color": "orange",
          "width": 1
         },
         "locationmode": "country names",
         "lon": [
          95.956,
          -95.713
         ],
         "mode": "lines",
         "opacity": 1,
         "type": "scattergeo",
         "uid": "ea30a5bf-e768-47c7-a12e-9f933a5c762f"
        },
        {
         "lat": [
          21.9162,
          55.378
         ],
         "line": {
          "color": "orange",
          "width": 1
         },
         "locationmode": "country names",
         "lon": [
          95.956,
          -3.436
         ],
         "mode": "lines",
         "opacity": 0.3460370482842393,
         "type": "scattergeo",
         "uid": "d2972b15-ee1c-4208-b205-8ab351cb8548"
        },
        {
         "lat": [
          21.9162,
          46.228
         ],
         "line": {
          "color": "orange",
          "width": 1
         },
         "locationmode": "country names",
         "lon": [
          95.956,
          2.214
         ],
         "mode": "lines",
         "opacity": 0.20133616762830245,
         "type": "scattergeo",
         "uid": "d8c90278-99bc-40a0-8df1-e1558e420bc9"
        },
        {
         "lat": [
          21.9162,
          56.1304
         ],
         "line": {
          "color": "orange",
          "width": 1
         },
         "locationmode": "country names",
         "lon": [
          95.956,
          -106.3468
         ],
         "mode": "lines",
         "opacity": 0.0391740054661403,
         "type": "scattergeo",
         "uid": "b526cc00-885c-4c55-8b06-86ccc2da6880"
        },
        {
         "lat": [
          21.9162,
          41.872
         ],
         "line": {
          "color": "orange",
          "width": 1
         },
         "locationmode": "country names",
         "lon": [
          95.956,
          12.5674
         ],
         "mode": "lines",
         "opacity": 0.008047373215912541,
         "type": "scattergeo",
         "uid": "f8be35c2-2b8c-481f-a02f-36ee4de42c69"
        },
        {
         "lat": [
          21.9162,
          51.166
         ],
         "line": {
          "color": "orange",
          "width": 1
         },
         "locationmode": "country names",
         "lon": [
          95.956,
          10.4515
         ],
         "mode": "lines",
         "opacity": 0.23200728818706348,
         "type": "scattergeo",
         "uid": "fee77e75-d735-4420-bc52-869fc2f6e4e6"
        },
        {
         "lat": [
          12.863,
          37.09
         ],
         "line": {
          "color": "purple",
          "width": 1
         },
         "locationmode": "country names",
         "lon": [
          30.218,
          -95.713
         ],
         "mode": "lines",
         "opacity": 0.1910008410428932,
         "type": "scattergeo",
         "uid": "7ee018f1-5720-4f86-b132-3c9c18f463b3"
        },
        {
         "lat": [
          12.863,
          55.378
         ],
         "line": {
          "color": "purple",
          "width": 1
         },
         "locationmode": "country names",
         "lon": [
          30.218,
          -3.436
         ],
         "mode": "lines",
         "opacity": 0.7429352396972245,
         "type": "scattergeo",
         "uid": "1a71ae4d-0189-4e48-9c2c-847f6df3f83e"
        },
        {
         "lat": [
          12.863,
          46.228
         ],
         "line": {
          "color": "purple",
          "width": 1
         },
         "locationmode": "country names",
         "lon": [
          30.218,
          2.214
         ],
         "mode": "lines",
         "opacity": 1,
         "type": "scattergeo",
         "uid": "5f579153-4f99-4984-ae0a-27fc66ed5d5b"
        },
        {
         "lat": [
          12.863,
          56.1304
         ],
         "line": {
          "color": "purple",
          "width": 1
         },
         "locationmode": "country names",
         "lon": [
          30.218,
          -106.3468
         ],
         "mode": "lines",
         "opacity": 0.12111017661900757,
         "type": "scattergeo",
         "uid": "15f5afb6-b49a-4ae1-9c3f-aedf03eb0c9c"
        },
        {
         "lat": [
          12.863,
          41.872
         ],
         "line": {
          "color": "purple",
          "width": 1
         },
         "locationmode": "country names",
         "lon": [
          30.218,
          12.5674
         ],
         "mode": "lines",
         "opacity": 0.132296047098402,
         "type": "scattergeo",
         "uid": "dc39fcdb-2843-48e5-8476-cbe4a0a6bce5"
        },
        {
         "lat": [
          12.863,
          51.166
         ],
         "line": {
          "color": "purple",
          "width": 1
         },
         "locationmode": "country names",
         "lon": [
          30.218,
          10.4515
         ],
         "mode": "lines",
         "opacity": 0.36644238856181666,
         "type": "scattergeo",
         "uid": "fa3e00d3-4031-4f91-976e-65531e908ea0"
        }
       ],
       "layout": {
        "autosize": true,
        "geo": {
         "countrycolor": "rgb(204, 204, 204)",
         "landcolor": "rgb(243, 243, 243)",
         "projection": {
          "rotation": {
           "lat": 30.067757314504423,
           "lon": -26.246360952341195,
           "roll": 0
          },
          "type": "orthographic"
         },
         "scope": "world",
         "showcountries": true,
         "showland": true
        },
        "showlegend": false,
        "title": "Refugee Routes (2000 - 2018)"
       }
      },
      "image/png": "[encoded data removed]"
     },
     "metadata": {},
     "output_type": "display_data"
    }
   ],
   "source": [
    "fig = dict(data=paths, layout=layout )\n",
    "ply.iplot( fig, filename='refugee routes' )\n",
    "# fig"
   ]
  },
  {
   "cell_type": "code",
   "execution_count": null,
   "metadata": {},
   "outputs": [],
   "source": []
  }
 ],
 "metadata": {
  "kernelspec": {
   "display_name": "Python 3",
   "language": "python",
   "name": "python3"
  },
  "language_info": {
   "codemirror_mode": {
    "name": "ipython",
    "version": 3
   },
   "file_extension": ".py",
   "mimetype": "text/x-python",
   "name": "python",
   "nbconvert_exporter": "python",
   "pygments_lexer": "ipython3",
   "version": "3.6.2"
  }
 },
 "nbformat": 4,
 "nbformat_minor": 2
}
