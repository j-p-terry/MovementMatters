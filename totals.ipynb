{
 "cells": [
  {
   "cell_type": "code",
   "execution_count": 1,
   "metadata": {},
   "outputs": [],
   "source": [
    "import dash\n",
    "import dash_core_components as dcc\n",
    "import dash_html_components as html\n",
    "import pandas as pd\n",
    "import plotly.graph_objs as go\n",
    "\n",
    "import geopandas\n",
    "import pandas as pd\n",
    "import matplotlib.pyplot as plt\n",
    "from mpl_toolkits.basemap import Basemap\n",
    "import numpy as np\n",
    "import seaborn as sb\n",
    "import plotly\n",
    "import dash\n",
    "import plotly.offline as ply\n",
    "from plotly.graph_objs import *\n",
    "from scipy.io import netcdf\n",
    "import scipy.stats as stat\n",
    "\n",
    "origins = [\"DR_Congo\", \"Afghanistan\", \"Syria\", \"Myanmar\", \"Sudan\"]\n",
    "destinations = [\"USA\", \"UK\", \"France\", \"Canada\", \"Italy\", \"Germany\"]\n",
    "\n",
    "org_codes = [\"COD\", \"AFG\", \"SYR\", \"MMR\", \"SDN\"]\n",
    "dest_codes = [\"USA\", \"GBR\", \"FRA\", \"CAN\", \"ITA\",\"DEU\"]\n",
    "\n",
    "years = [2000 + i for i in range(19)]\n",
    "\n",
    "features = ['destination',\n",
    " 'Origin',\n",
    " 'applied',\n",
    " 'accepted',\n",
    " 'Rejected',\n",
    " 'decisions',\n",
    " 'Year',\n",
    " 'Month',\n",
    " 'Value',\n",
    " 'deaths',\n",
    " 'last_month',\n",
    " 'two_months_ago',\n",
    " 'next_month',\n",
    " 'two_months_later']\n",
    "\n",
    "\n",
    "months = [\"Jan\", \"Feb\", \"Mar\", \"Apr\", \"May\", \"Jun\", \"Jul\", \"Aug\", \"Sept\", \"Oct\", \"Nov\", \"Dec\"]\n",
    "\n",
    "combos = []\n",
    "for year in years:\n",
    "    for month in months:\n",
    "        combos.append((month, year))\n",
    "\n",
    "\n",
    "coordinates = {}\n",
    "coordinates[\"Syria\"] = (34.8, 38.997)\n",
    "coordinates[\"DR_Congo\"] = (-4.0383, 21.759)\n",
    "coordinates[\"Afghanistan\"] = (33.939, 67.71)\n",
    "coordinates[\"Sudan\"] = (12.863, 30.218)\n",
    "coordinates[\"Myanmar\"] = (21.9162, 95.956)\n",
    "\n",
    "coordinates[\"USA\"] = (37.09, -95.713)\n",
    "coordinates[\"UK\"] = (55.378, -3.436)\n",
    "coordinates[\"France\"] = (46.228, 2.214)\n",
    "coordinates[\"Germany\"] = (51.166, 10.4515)\n",
    "coordinates[\"Italy\"] = (41.872, 12.5674)\n",
    "coordinates[\"Canada\"] = (56.1304, -106.3468)\n",
    "\n",
    "pairs = []\n",
    "for origin in origins:\n",
    "    for destination in destinations:\n",
    "        pairs.append((origin, destination))\n",
    "\n",
    "# Read in data\n",
    "df = pd.read_csv('./data/all_merged.csv', skipinitialspace=True)\n",
    "\n",
    "symbols = {'DR_Congo': 'triangle-down', 'Sudan': 'square', 'Syria': 'cross',\\\n",
    "            'Myanmar':'star', 'Afghanistan': 'circle'}"
   ]
  },
  {
   "cell_type": "code",
   "execution_count": 2,
   "metadata": {},
   "outputs": [
    {
     "name": "stderr",
     "output_type": "stream",
     "text": [
      "/Users/jasonterry/anaconda3/lib/python3.6/site-packages/ipykernel_launcher.py:2: DeprecationWarning:\n",
      "\n",
      "\n",
      ".ix is deprecated. Please use\n",
      ".loc for label based indexing or\n",
      ".iloc for positional indexing\n",
      "\n",
      "See the documentation here:\n",
      "http://pandas.pydata.org/pandas-docs/stable/indexing.html#ix-indexer-is-deprecated\n",
      "\n"
     ]
    }
   ],
   "source": [
    "for month in months:\n",
    "    df.ix[df.Month.str.contains(month), ['Month']] = month\n",
    "month_ids = []\n",
    "markers = []\n",
    "origin_ids = []\n",
    "for index, row in df.iterrows():\n",
    "    markers.append(symbols[row[\"Origin\"]])\n",
    "    month = row.Month\n",
    "    month_ids.append(months.index(month) + 1)\n",
    "    origin_ids.append(origins.index(row.Origin))\n",
    "df['shapes'] = markers\n",
    "df['month_id'] = month_ids\n",
    "df['month_number'] =12*(df['Year']-2000) + df['month_id']\n",
    "df['origin_id'] = origin_ids"
   ]
  },
  {
   "cell_type": "code",
   "execution_count": 3,
   "metadata": {},
   "outputs": [],
   "source": [
    "grouped = df.groupby('destination')"
   ]
  },
  {
   "cell_type": "code",
   "execution_count": 4,
   "metadata": {},
   "outputs": [],
   "source": [
    "group_dict = {}\n",
    "for (name, df) in grouped:\n",
    "    group_dict[name] = df"
   ]
  },
  {
   "cell_type": "code",
   "execution_count": 5,
   "metadata": {},
   "outputs": [
    {
     "data": {
      "text/html": [
       "<div>\n",
       "<style scoped>\n",
       "    .dataframe tbody tr th:only-of-type {\n",
       "        vertical-align: middle;\n",
       "    }\n",
       "\n",
       "    .dataframe tbody tr th {\n",
       "        vertical-align: top;\n",
       "    }\n",
       "\n",
       "    .dataframe thead th {\n",
       "        text-align: right;\n",
       "    }\n",
       "</style>\n",
       "<table border=\"1\" class=\"dataframe\">\n",
       "  <thead>\n",
       "    <tr style=\"text-align: right;\">\n",
       "      <th></th>\n",
       "      <th>Unnamed: 0</th>\n",
       "      <th>destination</th>\n",
       "      <th>Origin</th>\n",
       "      <th>applied</th>\n",
       "      <th>accepted</th>\n",
       "      <th>Rejected</th>\n",
       "      <th>decisions</th>\n",
       "      <th>Year</th>\n",
       "      <th>Month</th>\n",
       "      <th>Value</th>\n",
       "      <th>deaths</th>\n",
       "      <th>shapes</th>\n",
       "      <th>month_id</th>\n",
       "      <th>month_number</th>\n",
       "      <th>origin_id</th>\n",
       "    </tr>\n",
       "  </thead>\n",
       "  <tbody>\n",
       "    <tr>\n",
       "      <th>6808</th>\n",
       "      <td>6808</td>\n",
       "      <td>Canada</td>\n",
       "      <td>Myanmar</td>\n",
       "      <td>1.000000e-16</td>\n",
       "      <td>1.000000e-16</td>\n",
       "      <td>1.000000e-16</td>\n",
       "      <td>8.880891e-17</td>\n",
       "      <td>2017</td>\n",
       "      <td>Mar</td>\n",
       "      <td>6.504205e-17</td>\n",
       "      <td>500.0</td>\n",
       "      <td>star</td>\n",
       "      <td>3</td>\n",
       "      <td>207</td>\n",
       "      <td>3</td>\n",
       "    </tr>\n",
       "    <tr>\n",
       "      <th>1762</th>\n",
       "      <td>1762</td>\n",
       "      <td>Canada</td>\n",
       "      <td>Myanmar</td>\n",
       "      <td>3.100000e+01</td>\n",
       "      <td>2.200000e+01</td>\n",
       "      <td>1.000000e+00</td>\n",
       "      <td>2.600000e+01</td>\n",
       "      <td>2004</td>\n",
       "      <td>Apr</td>\n",
       "      <td>5.000000e+00</td>\n",
       "      <td>27.0</td>\n",
       "      <td>star</td>\n",
       "      <td>4</td>\n",
       "      <td>52</td>\n",
       "      <td>3</td>\n",
       "    </tr>\n",
       "    <tr>\n",
       "      <th>4806</th>\n",
       "      <td>4806</td>\n",
       "      <td>Canada</td>\n",
       "      <td>Syria</td>\n",
       "      <td>3.500000e+02</td>\n",
       "      <td>1.550000e+02</td>\n",
       "      <td>3.400000e+01</td>\n",
       "      <td>1.960000e+02</td>\n",
       "      <td>2012</td>\n",
       "      <td>Sept</td>\n",
       "      <td>3.600000e+01</td>\n",
       "      <td>38505.0</td>\n",
       "      <td>cross</td>\n",
       "      <td>9</td>\n",
       "      <td>153</td>\n",
       "      <td>2</td>\n",
       "    </tr>\n",
       "    <tr>\n",
       "      <th>3142</th>\n",
       "      <td>3142</td>\n",
       "      <td>Canada</td>\n",
       "      <td>Afghanistan</td>\n",
       "      <td>3.080000e+02</td>\n",
       "      <td>1.210000e+02</td>\n",
       "      <td>2.900000e+01</td>\n",
       "      <td>1.760000e+02</td>\n",
       "      <td>2007</td>\n",
       "      <td>Jun</td>\n",
       "      <td>1.400000e+01</td>\n",
       "      <td>7017.0</td>\n",
       "      <td>circle</td>\n",
       "      <td>6</td>\n",
       "      <td>90</td>\n",
       "      <td>1</td>\n",
       "    </tr>\n",
       "    <tr>\n",
       "      <th>5421</th>\n",
       "      <td>5421</td>\n",
       "      <td>Canada</td>\n",
       "      <td>DR_Congo</td>\n",
       "      <td>2.790000e+02</td>\n",
       "      <td>2.110000e+02</td>\n",
       "      <td>1.730000e+02</td>\n",
       "      <td>4.280000e+02</td>\n",
       "      <td>2013</td>\n",
       "      <td>Aug</td>\n",
       "      <td>3.200000e+01</td>\n",
       "      <td>1573.0</td>\n",
       "      <td>triangle-down</td>\n",
       "      <td>8</td>\n",
       "      <td>164</td>\n",
       "      <td>0</td>\n",
       "    </tr>\n",
       "  </tbody>\n",
       "</table>\n",
       "</div>"
      ],
      "text/plain": [
       "      Unnamed: 0 destination       Origin       applied      accepted  \\\n",
       "6808        6808      Canada      Myanmar  1.000000e-16  1.000000e-16   \n",
       "1762        1762      Canada      Myanmar  3.100000e+01  2.200000e+01   \n",
       "4806        4806      Canada        Syria  3.500000e+02  1.550000e+02   \n",
       "3142        3142      Canada  Afghanistan  3.080000e+02  1.210000e+02   \n",
       "5421        5421      Canada     DR_Congo  2.790000e+02  2.110000e+02   \n",
       "\n",
       "          Rejected     decisions  Year Month         Value   deaths  \\\n",
       "6808  1.000000e-16  8.880891e-17  2017   Mar  6.504205e-17    500.0   \n",
       "1762  1.000000e+00  2.600000e+01  2004   Apr  5.000000e+00     27.0   \n",
       "4806  3.400000e+01  1.960000e+02  2012  Sept  3.600000e+01  38505.0   \n",
       "3142  2.900000e+01  1.760000e+02  2007   Jun  1.400000e+01   7017.0   \n",
       "5421  1.730000e+02  4.280000e+02  2013   Aug  3.200000e+01   1573.0   \n",
       "\n",
       "             shapes  month_id  month_number  origin_id  \n",
       "6808           star         3           207          3  \n",
       "1762           star         4            52          3  \n",
       "4806          cross         9           153          2  \n",
       "3142         circle         6            90          1  \n",
       "5421  triangle-down         8           164          0  "
      ]
     },
     "execution_count": 5,
     "metadata": {},
     "output_type": "execute_result"
    }
   ],
   "source": [
    "group_dict[list(group_dict.keys())[0]].sample(5)"
   ]
  },
  {
   "cell_type": "markdown",
   "metadata": {},
   "source": [
    "## Plot with dropdown menu that chooses origin. Shows all refugees for each country"
   ]
  },
  {
   "cell_type": "code",
   "execution_count": 16,
   "metadata": {},
   "outputs": [],
   "source": [
    "fig = go.FigureWidget(\n",
    "    data=[dict(\n",
    "    \n",
    "        x = df.query('Origin == @origin')['month_number'],\n",
    "        y = df.query('Origin == @origin')['Value'],\n",
    "        name = origin, \n",
    "        mode = 'markers'\n",
    "    ) for origin in origins\n",
    "    ]\n",
    ")\n",
    "years = [2000 + i for i in range(18)]\n",
    "marker_places= [12*i for i in range(18)]\n",
    "tick_labs = [str(year) for year in years]\n",
    "# scatter.marker.color = df['Origin']\n",
    "fig.layout.hovermode = 'closest'\n",
    "fig.layout.yaxis.title = 'Refugees Taken In'\n",
    "fig.layout.xaxis.title = 'Month'\n",
    "fig.layout.xaxis.ticktext = tick_labs\n",
    "fig.layout.xaxis.tickvals = marker_places\n",
    "# scatter = fig.data[0]\n",
    "# scatter.marker.size = 3\n",
    "# scatter.marker.opacity = 0.2"
   ]
  },
  {
   "cell_type": "code",
   "execution_count": 10,
   "metadata": {},
   "outputs": [
    {
     "data": {
      "text/plain": [
       "'Afghanistan'"
      ]
     },
     "execution_count": 10,
     "metadata": {},
     "output_type": "execute_result"
    }
   ],
   "source": [
    "fig.data[1]['name']"
   ]
  },
  {
   "cell_type": "code",
   "execution_count": 17,
   "metadata": {},
   "outputs": [
    {
     "data": {
      "application/vnd.jupyter.widget-view+json": {
       "model_id": "8e6a16b3f2d648429b6c69b99003edcd",
       "version_major": 2,
       "version_minor": 0
      },
      "text/plain": [
       "interactive(children=(Dropdown(description='menu', options=('USA', 'UK', 'France', 'Canada', 'Italy', 'Germany…"
      ]
     },
     "metadata": {},
     "output_type": "display_data"
    },
    {
     "data": {
      "application/vnd.jupyter.widget-view+json": {
       "model_id": "a9432b87458b45f3ad257667b1f27642",
       "version_major": 2,
       "version_minor": 0
      },
      "text/plain": [
       "FigureWidget({\n",
       "    'data': [{'mode': 'markers',\n",
       "              'name': 'DR_Congo',\n",
       "              'type': 'scatt…"
      ]
     },
     "metadata": {},
     "output_type": "display_data"
    }
   ],
   "source": [
    "from ipywidgets import interact\n",
    "\n",
    "@interact(menu = destinations)\n",
    "def update_arguments(menu=['Canada']):\n",
    "    for i in range(len(fig.data)):\n",
    "        origin = fig.data[i]['name']\n",
    "        fig.data[i].x = group_dict[menu].query('Origin == @origin')\\\n",
    "                        .month_number\n",
    "        fig.data[i].y = group_dict[menu].query('Origin == @origin')\\\n",
    "                        .Value + \\\n",
    "                        np.random.rand(len(group_dict[menu]\\\n",
    "                                           .query('Origin == @origin')\\\n",
    "                        .month_number))\n",
    "    fig.layout.title = 'Refugees taken in by ' + menu\n",
    "fig"
   ]
  },
  {
   "cell_type": "code",
   "execution_count": null,
   "metadata": {},
   "outputs": [],
   "source": []
  }
 ],
 "metadata": {
  "kernelspec": {
   "display_name": "Python 3",
   "language": "python",
   "name": "python3"
  },
  "language_info": {
   "codemirror_mode": {
    "name": "ipython",
    "version": 3
   },
   "file_extension": ".py",
   "mimetype": "text/x-python",
   "name": "python",
   "nbconvert_exporter": "python",
   "pygments_lexer": "ipython3",
   "version": "3.6.2"
  }
 },
 "nbformat": 4,
 "nbformat_minor": 2
}
