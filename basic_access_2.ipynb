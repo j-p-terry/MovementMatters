{
 "cells": [
  {
   "cell_type": "code",
   "execution_count": 1,
   "metadata": {
    "collapsed": true
   },
   "outputs": [],
   "source": [
    "import matplotlib.pyplot as plt\n",
    "import pandas as pd\n",
    "import numpy as np\n",
    "import seaborn as sb\n",
    "import random\n",
    "%matplotlib inline"
   ]
  },
  {
   "cell_type": "markdown",
   "metadata": {},
   "source": [
    "### UN Data"
   ]
  },
  {
   "cell_type": "code",
   "execution_count": 2,
   "metadata": {},
   "outputs": [],
   "source": [
    "status_features = ['destination', 'Origin','applied', \\\n",
    "                   'accepted', 'Rejected', 'decisions', 'Year']\n",
    "number_features = ['destination', 'Origin', 'Year', 'Month', 'Value']\n",
    "unique_features = ['destination', 'Origin', 'applied', 'accepted', 'Rejected', 'decisions',\\\n",
    "                  'Year', 'Month', 'Value']\n",
    "responses = ['Value']\n",
    "\n",
    "numeric_features = ['applied', 'accepted', 'Rejected', 'decisions', 'Year', 'Value',\\\n",
    "                   'deaths']\n",
    "\n",
    "added_features = ['last_month', 'two_months_ago', 'next_month', 'two_months_later']\n",
    "\n",
    "merged_features= ['destination', 'Origin', 'applied', 'accepted', 'Rejected', 'decisions',\\\n",
    "                  'Year', 'Month', 'Value', 'deaths']\n",
    "\n",
    "origins = [\"DR_Congo\", \"Afghanistan\", \"Syria\", \"Myanmar\", \"Sudan\"]\n",
    "destinations = [\"USA\", \"UK\", \"France\", \"Canada\", \"Italy\", \"Germany\"]\n",
    "\n",
    "years = [2000 + i for i in range(18)]\n",
    "months = [\"Jan\", \"Feb\", \"Mar\", \"Apr\", \"May\", \"Jun\", \"Jul\", \"Aug\", \"Sept\", \"Oct\", \"Nov\", \"Dec\"]\n",
    "\n",
    "pairs = []\n",
    "for origin in origins:\n",
    "    for destination in destinations:\n",
    "        pairs.append((origin, destination))\n",
    "\n",
    "all_features = merged_features + added_features\n",
    "\n",
    "file1 = './data/asylum_seekers_status_yearly.csv'\n",
    "file2 = './data/asylum_seekers_monthly.csv'\n",
    "status = pd.read_csv(file1, skipinitialspace=True)\n",
    "number = pd.read_csv(file2, skipinitialspace=True)"
   ]
  },
  {
   "cell_type": "code",
   "execution_count": 3,
   "metadata": {},
   "outputs": [
    {
     "name": "stderr",
     "output_type": "stream",
     "text": [
      "/Users/jasonterry/anaconda3/lib/python3.6/site-packages/ipykernel_launcher.py:6: DeprecationWarning: \n",
      ".ix is deprecated. Please use\n",
      ".loc for label based indexing or\n",
      ".iloc for positional indexing\n",
      "\n",
      "See the documentation here:\n",
      "http://pandas.pydata.org/pandas-docs/stable/indexing.html#ix-indexer-is-deprecated\n",
      "  \n",
      "/Users/jasonterry/anaconda3/lib/python3.6/site-packages/ipykernel_launcher.py:7: DeprecationWarning: \n",
      ".ix is deprecated. Please use\n",
      ".loc for label based indexing or\n",
      ".iloc for positional indexing\n",
      "\n",
      "See the documentation here:\n",
      "http://pandas.pydata.org/pandas-docs/stable/indexing.html#ix-indexer-is-deprecated\n",
      "  import sys\n",
      "/Users/jasonterry/anaconda3/lib/python3.6/site-packages/ipykernel_launcher.py:8: DeprecationWarning: \n",
      ".ix is deprecated. Please use\n",
      ".loc for label based indexing or\n",
      ".iloc for positional indexing\n",
      "\n",
      "See the documentation here:\n",
      "http://pandas.pydata.org/pandas-docs/stable/indexing.html#ix-indexer-is-deprecated\n",
      "  \n",
      "/Users/jasonterry/anaconda3/lib/python3.6/site-packages/ipykernel_launcher.py:9: DeprecationWarning: \n",
      ".ix is deprecated. Please use\n",
      ".loc for label based indexing or\n",
      ".iloc for positional indexing\n",
      "\n",
      "See the documentation here:\n",
      "http://pandas.pydata.org/pandas-docs/stable/indexing.html#ix-indexer-is-deprecated\n",
      "  if __name__ == '__main__':\n",
      "/Users/jasonterry/anaconda3/lib/python3.6/site-packages/ipykernel_launcher.py:10: DeprecationWarning: \n",
      ".ix is deprecated. Please use\n",
      ".loc for label based indexing or\n",
      ".iloc for positional indexing\n",
      "\n",
      "See the documentation here:\n",
      "http://pandas.pydata.org/pandas-docs/stable/indexing.html#ix-indexer-is-deprecated\n",
      "  # Remove the CWD from sys.path while we load stuff.\n",
      "/Users/jasonterry/anaconda3/lib/python3.6/site-packages/ipykernel_launcher.py:11: DeprecationWarning: \n",
      ".ix is deprecated. Please use\n",
      ".loc for label based indexing or\n",
      ".iloc for positional indexing\n",
      "\n",
      "See the documentation here:\n",
      "http://pandas.pydata.org/pandas-docs/stable/indexing.html#ix-indexer-is-deprecated\n",
      "  # This is added back by InteractiveShellApp.init_path()\n",
      "/Users/jasonterry/anaconda3/lib/python3.6/site-packages/ipykernel_launcher.py:12: DeprecationWarning: \n",
      ".ix is deprecated. Please use\n",
      ".loc for label based indexing or\n",
      ".iloc for positional indexing\n",
      "\n",
      "See the documentation here:\n",
      "http://pandas.pydata.org/pandas-docs/stable/indexing.html#ix-indexer-is-deprecated\n",
      "  if sys.path[0] == '':\n",
      "/Users/jasonterry/anaconda3/lib/python3.6/site-packages/ipykernel_launcher.py:13: DeprecationWarning: \n",
      ".ix is deprecated. Please use\n",
      ".loc for label based indexing or\n",
      ".iloc for positional indexing\n",
      "\n",
      "See the documentation here:\n",
      "http://pandas.pydata.org/pandas-docs/stable/indexing.html#ix-indexer-is-deprecated\n",
      "  del sys.path[0]\n",
      "/Users/jasonterry/anaconda3/lib/python3.6/site-packages/ipykernel_launcher.py:14: DeprecationWarning: \n",
      ".ix is deprecated. Please use\n",
      ".loc for label based indexing or\n",
      ".iloc for positional indexing\n",
      "\n",
      "See the documentation here:\n",
      "http://pandas.pydata.org/pandas-docs/stable/indexing.html#ix-indexer-is-deprecated\n",
      "  \n"
     ]
    }
   ],
   "source": [
    "number = number.rename(index=str, columns = {'Country / territory of asylum/residence':'destination'})\n",
    "status = status.rename(index=str, columns = {'Country / territory of asylum/residence':'destination',\\\n",
    "                                            'statistics.filter.decisions_recognized':'accepted',\\\n",
    "                                            'Applied during year':'applied', 'Total decisions':'decisions'})\n",
    "\n",
    "status = status[status_features]\n",
    "\n",
    "status.ix[status.destination == 'United States of America', ['destination']] = 'USA'\n",
    "status.ix[status.destination == 'United Kingdom', ['destination']] = 'UK'\n",
    "number.ix[number.destination == 'USA (INS/DHS)', ['destination']] = 'USA'\n",
    "number.ix[number.destination == 'USA (EOIR)', ['destination']] = 'USA'\n",
    "number.ix[number.destination == 'United Kingdom of Great Britain and Northern Ireland', ['destination']] = 'UK'\n",
    "number.ix[number.Origin.str.contains('Syria'), ['Origin']] = 'Syria'\n",
    "number.ix[number.Origin.str.contains('Dem. Rep. of the Congo'), ['Origin']] = 'DR_Congo'\n",
    "status.ix[status.Origin.str.contains('Syria'), ['Origin']] = 'Syria'\n",
    "status.ix[status.Origin.str.contains('Dem. Rep. of the Congo'), ['Origin']] = 'DR_Congo'"
   ]
  },
  {
   "cell_type": "code",
   "execution_count": 4,
   "metadata": {},
   "outputs": [
    {
     "name": "stderr",
     "output_type": "stream",
     "text": [
      "/Users/jasonterry/anaconda3/lib/python3.6/site-packages/ipykernel_launcher.py:4: DeprecationWarning: \n",
      ".ix is deprecated. Please use\n",
      ".loc for label based indexing or\n",
      ".iloc for positional indexing\n",
      "\n",
      "See the documentation here:\n",
      "http://pandas.pydata.org/pandas-docs/stable/indexing.html#ix-indexer-is-deprecated\n",
      "  after removing the cwd from sys.path.\n",
      "/Users/jasonterry/anaconda3/lib/python3.6/site-packages/pandas/core/ops.py:1167: FutureWarning: elementwise comparison failed; returning scalar instead, but in the future will perform elementwise comparison\n",
      "  result = method(y)\n",
      "/Users/jasonterry/anaconda3/lib/python3.6/site-packages/ipykernel_launcher.py:10: DeprecationWarning: \n",
      ".ix is deprecated. Please use\n",
      ".loc for label based indexing or\n",
      ".iloc for positional indexing\n",
      "\n",
      "See the documentation here:\n",
      "http://pandas.pydata.org/pandas-docs/stable/indexing.html#ix-indexer-is-deprecated\n",
      "  # Remove the CWD from sys.path while we load stuff.\n"
     ]
    }
   ],
   "source": [
    "for feature in numeric_features:\n",
    "    if feature in status_features:\n",
    "        try:\n",
    "            status.ix[status[feature] == '*'] = 0\n",
    "        except:\n",
    "            trash = None\n",
    "        status[feature] = pd.to_numeric(status[feature])\n",
    "    if feature in number_features:\n",
    "        try:\n",
    "            number.ix[number[feature] == '*'] = 0\n",
    "        except:\n",
    "            trash = None\n",
    "        number[feature] = pd.to_numeric(number[feature])"
   ]
  },
  {
   "cell_type": "code",
   "execution_count": 5,
   "metadata": {
    "collapsed": true
   },
   "outputs": [],
   "source": [
    "status = status.fillna(0)\n",
    "status = status[status_features]"
   ]
  },
  {
   "cell_type": "code",
   "execution_count": 6,
   "metadata": {},
   "outputs": [],
   "source": [
    "for pair in pairs:\n",
    "    for year in years:\n",
    "        if year not in number.query('Origin == @pair[0] and destination == @pair[1]').Year.unique():\n",
    "            for month in months:\n",
    "                rand = random.random()\n",
    "                number = number.append({'Year':year, 'Value':rand*1e-16, 'destination':pair[1], 'Month':month, \\\n",
    "                                       'Origin': pair[0]}, ignore_index=True)\n",
    "        if year not in status.query('Origin == @pair[0] and destination == @pair[1]').Year.unique():\n",
    "            rand = random.random()\n",
    "            status = status.append({'Year':year, 'Month':month, 'destination': pair[1], 'Origin':pair[0],\\\n",
    "                                   'applied': 1e-16, 'decisions': rand*1e-16, 'accepted': 1e-16, 'Rejected':1e-16},\\\n",
    "                                  ignore_index=True)\n",
    "number = number[number_features]\n",
    "status = status[status_features]"
   ]
  },
  {
   "cell_type": "code",
   "execution_count": 7,
   "metadata": {},
   "outputs": [],
   "source": [
    "status = status.groupby(['Year', 'Origin', 'destination'])\\\n",
    "                .agg({'applied':np.sum, 'accepted':np.sum, 'Rejected':np.sum, 'decisions':np.sum})\\\n",
    "                .sort_values(by='Year')"
   ]
  },
  {
   "cell_type": "code",
   "execution_count": 8,
   "metadata": {
    "collapsed": true
   },
   "outputs": [],
   "source": [
    "number = number.sort_values(by='Year')"
   ]
  },
  {
   "cell_type": "code",
   "execution_count": 9,
   "metadata": {
    "collapsed": true
   },
   "outputs": [],
   "source": [
    "merged = pd.merge(number, status, left_on=['destination', 'Origin', 'Year'], \\\n",
    "                  right_on=['destination', 'Origin', 'Year'], how='inner')"
   ]
  },
  {
   "cell_type": "code",
   "execution_count": 10,
   "metadata": {},
   "outputs": [],
   "source": [
    "final = merged[unique_features]"
   ]
  },
  {
   "cell_type": "markdown",
   "metadata": {},
   "source": [
    "### Battle Deaths"
   ]
  },
  {
   "cell_type": "code",
   "execution_count": 11,
   "metadata": {
    "collapsed": true
   },
   "outputs": [],
   "source": [
    "file_name = './data/battle_deaths.csv'\n",
    "b_deaths = pd.read_csv(file_name, skipinitialspace=True)"
   ]
  },
  {
   "cell_type": "code",
   "execution_count": 12,
   "metadata": {},
   "outputs": [],
   "source": [
    "bd_features = ['year', 'deaths', 'battle_location']\n",
    "b_deaths = b_deaths[bd_features]\n",
    "b_deaths = b_deaths[b_deaths['year']>1999]"
   ]
  },
  {
   "cell_type": "code",
   "execution_count": 13,
   "metadata": {},
   "outputs": [
    {
     "name": "stderr",
     "output_type": "stream",
     "text": [
      "/Users/jasonterry/anaconda3/lib/python3.6/site-packages/ipykernel_launcher.py:1: DeprecationWarning: \n",
      ".ix is deprecated. Please use\n",
      ".loc for label based indexing or\n",
      ".iloc for positional indexing\n",
      "\n",
      "See the documentation here:\n",
      "http://pandas.pydata.org/pandas-docs/stable/indexing.html#ix-indexer-is-deprecated\n",
      "  \"\"\"Entry point for launching an IPython kernel.\n",
      "/Users/jasonterry/anaconda3/lib/python3.6/site-packages/ipykernel_launcher.py:2: DeprecationWarning: \n",
      ".ix is deprecated. Please use\n",
      ".loc for label based indexing or\n",
      ".iloc for positional indexing\n",
      "\n",
      "See the documentation here:\n",
      "http://pandas.pydata.org/pandas-docs/stable/indexing.html#ix-indexer-is-deprecated\n",
      "  \n",
      "/Users/jasonterry/anaconda3/lib/python3.6/site-packages/ipykernel_launcher.py:3: DeprecationWarning: \n",
      ".ix is deprecated. Please use\n",
      ".loc for label based indexing or\n",
      ".iloc for positional indexing\n",
      "\n",
      "See the documentation here:\n",
      "http://pandas.pydata.org/pandas-docs/stable/indexing.html#ix-indexer-is-deprecated\n",
      "  This is separate from the ipykernel package so we can avoid doing imports until\n",
      "/Users/jasonterry/anaconda3/lib/python3.6/site-packages/ipykernel_launcher.py:4: DeprecationWarning: \n",
      ".ix is deprecated. Please use\n",
      ".loc for label based indexing or\n",
      ".iloc for positional indexing\n",
      "\n",
      "See the documentation here:\n",
      "http://pandas.pydata.org/pandas-docs/stable/indexing.html#ix-indexer-is-deprecated\n",
      "  after removing the cwd from sys.path.\n",
      "/Users/jasonterry/anaconda3/lib/python3.6/site-packages/ipykernel_launcher.py:5: DeprecationWarning: \n",
      ".ix is deprecated. Please use\n",
      ".loc for label based indexing or\n",
      ".iloc for positional indexing\n",
      "\n",
      "See the documentation here:\n",
      "http://pandas.pydata.org/pandas-docs/stable/indexing.html#ix-indexer-is-deprecated\n",
      "  \"\"\"\n",
      "/Users/jasonterry/anaconda3/lib/python3.6/site-packages/ipykernel_launcher.py:6: DeprecationWarning: \n",
      ".ix is deprecated. Please use\n",
      ".loc for label based indexing or\n",
      ".iloc for positional indexing\n",
      "\n",
      "See the documentation here:\n",
      "http://pandas.pydata.org/pandas-docs/stable/indexing.html#ix-indexer-is-deprecated\n",
      "  \n",
      "/Users/jasonterry/anaconda3/lib/python3.6/site-packages/ipykernel_launcher.py:7: DeprecationWarning: \n",
      ".ix is deprecated. Please use\n",
      ".loc for label based indexing or\n",
      ".iloc for positional indexing\n",
      "\n",
      "See the documentation here:\n",
      "http://pandas.pydata.org/pandas-docs/stable/indexing.html#ix-indexer-is-deprecated\n",
      "  import sys\n"
     ]
    }
   ],
   "source": [
    "b_deaths.ix[b_deaths.battle_location.str.contains('Syria'), ['battle_location']] = 'Syria'\n",
    "b_deaths.ix[b_deaths.battle_location.str.contains('Afghanistan'), ['battle_location']] = 'Afghanistan'\n",
    "b_deaths.ix[b_deaths.battle_location.str.contains('Sudan'), ['battle_location']] = 'Sudan'\n",
    "b_deaths.ix[b_deaths.battle_location.str.contains('Congo'), ['battle_location']] = 'DR_Congo'\n",
    "b_deaths.ix[b_deaths.battle_location.str.contains('Zaire'), ['battle_location']] = 'DR_Congo'\n",
    "b_deaths.ix[b_deaths.battle_location.str.contains('Myanmar'), ['battle_location']] = 'Myanmar'\n",
    "b_deaths.ix[b_deaths.battle_location.str.contains('Burma'), ['battle_location']] = 'Myanmar';"
   ]
  },
  {
   "cell_type": "code",
   "execution_count": 14,
   "metadata": {},
   "outputs": [],
   "source": [
    "b_deaths = b_deaths.query(\"battle_location == \\'DR_Congo\\' \\\n",
    "                            or battle_location == \\'Sudan\\'\\\n",
    "                            or battle_location == \\'Myanmar\\'\\\n",
    "                            or battle_location == \\'Syria\\'\\\n",
    "                            or battle_location == \\'Afghanistan\\'\")"
   ]
  },
  {
   "cell_type": "code",
   "execution_count": 15,
   "metadata": {},
   "outputs": [],
   "source": [
    "for origin in origins:\n",
    "    for a_year in years:\n",
    "        if a_year not in b_deaths.query('battle_location == @origin').year.unique():\n",
    "            rand = random.random()\n",
    "            b_deaths = b_deaths.append({'year':a_year, 'deaths':rand*1e-16, 'battle_location':origin}, \\\n",
    "                                       ignore_index=True)\n",
    "b_deaths = b_deaths[[\"year\", \"deaths\", \"battle_location\"]]"
   ]
  },
  {
   "cell_type": "code",
   "execution_count": 16,
   "metadata": {},
   "outputs": [],
   "source": [
    "b_deaths = b_deaths.groupby(['battle_location', 'year'])\\\n",
    "        .agg({'deaths':np.sum})\\\n",
    "        .sort_values(by='year')"
   ]
  },
  {
   "cell_type": "markdown",
   "metadata": {},
   "source": [
    "### Merge and group"
   ]
  },
  {
   "cell_type": "code",
   "execution_count": 17,
   "metadata": {},
   "outputs": [],
   "source": [
    "all_merged = pd.merge(final, b_deaths, left_on=['Origin', 'Year'], \\\n",
    "                  right_on=['battle_location', 'year'])\n",
    "all_merged = all_merged[merged_features]\n",
    "all_merged.deaths = pd.to_numeric(all_merged.deaths)\n",
    "all_merged.to_csv('./data/all_merged.csv')"
   ]
  },
  {
   "cell_type": "code",
   "execution_count": 18,
   "metadata": {},
   "outputs": [],
   "source": [
    "groups = all_merged.groupby(['Origin', 'destination'])"
   ]
  },
  {
   "cell_type": "code",
   "execution_count": 19,
   "metadata": {},
   "outputs": [],
   "source": [
    "group_dict = {}\n",
    "for (name, df) in groups:\n",
    "    for feature in numeric_features:\n",
    "        if type(list(df[feature])[0]) is str:\n",
    "            df.ix[df[feature] == '*', [feature]] = 0\n",
    "    df = df.fillna(method='pad')\n",
    "    for feature in numeric_features:\n",
    "        df[feature] = pd.to_numeric(df[feature])\n",
    "    group_dict[name] = df"
   ]
  },
  {
   "cell_type": "code",
   "execution_count": 20,
   "metadata": {},
   "outputs": [],
   "source": [
    "for group in group_dict:\n",
    "    group_dict[group]['last_month'] = group_dict[group].Value.shift(1)\n",
    "    group_dict[group]['two_months_ago'] = group_dict[group].Value.shift(2)\n",
    "    group_dict[group]['next_month'] = group_dict[group].Value.shift(-1)\n",
    "    group_dict[group]['two_months_later'] = group_dict[group].Value.shift(-2) \n",
    "    group_dict[group] = group_dict[group].iloc[2:len(group_dict[group].Value)-2, :]"
   ]
  },
  {
   "cell_type": "code",
   "execution_count": 21,
   "metadata": {
    "collapsed": true
   },
   "outputs": [],
   "source": [
    "for group in group_dict:\n",
    "    group_dict[group].to_csv('./data/grouped_' + str(group) + '.csv')"
   ]
  }
 ],
 "metadata": {
  "kernelspec": {
   "display_name": "Python 3",
   "language": "python",
   "name": "python3"
  },
  "language_info": {
   "codemirror_mode": {
    "name": "ipython",
    "version": 3
   },
   "file_extension": ".py",
   "mimetype": "text/x-python",
   "name": "python",
   "nbconvert_exporter": "python",
   "pygments_lexer": "ipython3",
   "version": "3.6.2"
  }
 },
 "nbformat": 4,
 "nbformat_minor": 2
}
