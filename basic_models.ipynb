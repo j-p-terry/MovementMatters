{
 "cells": [
  {
   "cell_type": "code",
   "execution_count": 1,
   "metadata": {},
   "outputs": [],
   "source": [
    "import matplotlib.pyplot as plt\n",
    "import pandas as pd\n",
    "import numpy as np\n",
    "import seaborn as sb\n",
    "import random\n",
    "from sklearn.ensemble import RandomForestRegressor\n",
    "from sklearn.neural_network import MLPRegressor\n",
    "from sklearn.linear_model import LinearRegression\n",
    "from sklearn.linear_model import BayesianRidge\n",
    "from sklearn.neighbors import KNeighborsRegressor\n",
    "# from sklearn.kernel_ridge import KernelRidge\n",
    "from sklearn import metrics\n",
    "%matplotlib inline"
   ]
  },
  {
   "cell_type": "code",
   "execution_count": 2,
   "metadata": {},
   "outputs": [],
   "source": [
    "origins = [\"DR_Congo\", \"Afghanistan\", \"Syria\", \"Myanmar\", \"Sudan\"]\n",
    "destinations = [\"USA\", \"UK\", \"France\", \"Canada\", \"Italy\", \"Germany\"]\n",
    "\n",
    "org_codes = [\"COD\", \"AFG\", \"SYR\", \"MMR\", \"SDN\"]\n",
    "dest_codes = [\"USA\", \"GBR\", \"FRA\", \"CAN\", \"ITA\",\"DEU\"]\n",
    "\n",
    "years = [2000 + i for i in range(19)]\n",
    "\n",
    "features = [\n",
    " 'applied',\n",
    " 'accepted',\n",
    " 'Rejected',\n",
    " 'decisions',\n",
    " 'month_number',\n",
    " 'month_id',\n",
    " 'deaths',\n",
    " 'last_month',\n",
    " 'two_months_ago',\n",
    " 'distance']\n",
    "\n",
    "responses = ['Value', 'next_month', 'two_months_later']\n",
    "\n",
    "all_variables = features + responses\n",
    "\n",
    "months = [\"Jan\", \"Feb\", \"Mar\", \"Apr\", \"May\", \"Jun\", \"Jul\", \"Aug\", \"Sept\", \"Oct\", \"Nov\", \"Dec\"]\n",
    "\n",
    "# combos = []\n",
    "# for year in years:\n",
    "#     for month in months:\n",
    "#         combos.append((month, year))"
   ]
  },
  {
   "cell_type": "code",
   "execution_count": 3,
   "metadata": {},
   "outputs": [],
   "source": [
    "coordinates = {}\n",
    "coordinates[\"Syria\"] = (34.8, 38.997)\n",
    "coordinates[\"DR_Congo\"] = (-4.0383, 21.759)\n",
    "coordinates[\"Afghanistan\"] = (33.939, 67.71)\n",
    "coordinates[\"Sudan\"] = (12.863, 30.218)\n",
    "coordinates[\"Myanmar\"] = (21.9162, 95.956)\n",
    "\n",
    "coordinates[\"USA\"] = (37.09, -95.713)\n",
    "coordinates[\"UK\"] = (55.378, -3.436)\n",
    "coordinates[\"France\"] = (46.228, 2.214)\n",
    "coordinates[\"Germany\"] = (51.166, 10.4515)\n",
    "coordinates[\"Italy\"] = (41.872, 12.5674)\n",
    "coordinates[\"Canada\"] = (56.1304, -106.3468)\n",
    "\n",
    "\n",
    "dest_longs = [coordinates[dest][1] for dest in destinations]\n",
    "dest_lats = [coordinates[dest][0] for dest in destinations]\n",
    "\n",
    "org_longs = [coordinates[org][1] for org in origins]\n",
    "org_lats = [coordinates[org][0] for org in origins]"
   ]
  },
  {
   "cell_type": "code",
   "execution_count": 4,
   "metadata": {},
   "outputs": [],
   "source": [
    "def get_metrics(y_test, y_pred):\n",
    "\n",
    "    \"\"\"Gets the metrics of the fit\"\"\"\n",
    "\n",
    "    if min(y_pred) < 0:\n",
    "#         print(min(y_pred))\n",
    "        y_pred += abs(min(y_pred))\n",
    "    r2 = metrics.r2_score(y_test, y_pred)\n",
    "    r2 = r2.__round__(4)\n",
    "    rmse = np.sqrt(metrics.mean_squared_error(y_test, y_pred))\n",
    "    rmse = rmse.__round__(4)\n",
    "\n",
    "    return r2, rmse"
   ]
  },
  {
   "cell_type": "code",
   "execution_count": 5,
   "metadata": {},
   "outputs": [],
   "source": [
    "def make_new_features(df):\n",
    "    \n",
    "    '''Makes new features for grouped dataframe'''\n",
    "    \n",
    "    for month in months:\n",
    "        df.ix[df.Month.str.contains(month), ['Month']] = month\n",
    "    month_ids = []\n",
    "    d_lats = []\n",
    "    d_longs = []\n",
    "    o_lats = []\n",
    "    o_longs = []\n",
    "    for index, row in df.iterrows():\n",
    "        month = row.Month\n",
    "        month_ids.append(months.index(month) + 1)\n",
    "        d_lats.append(coordinates[row.destination][0])\n",
    "        o_lats.append(coordinates[row.Origin][0])\n",
    "        d_longs.append(coordinates[row.destination][1])\n",
    "        o_longs.append(coordinates[row.Origin][1])\n",
    "    df['month_id'] = month_ids\n",
    "    df['month_number'] =12*(df['Year']-2000) + df['month_id']\n",
    "    df['dest_lat'] = d_lats\n",
    "    df['dest_long'] = d_longs\n",
    "    df['org_lat'] = o_lats\n",
    "    df['org_long'] = o_longs\n",
    "    df = df.sort_values(by='month_number')\n",
    "    \n",
    "    return df"
   ]
  },
  {
   "cell_type": "code",
   "execution_count": 6,
   "metadata": {},
   "outputs": [],
   "source": [
    "def get_distance(o_coords, d_coords, length):\n",
    "    '''Gets the distance between two countries using Havrsine formula'''\n",
    "    # Earth's radius in km\n",
    "    R = 6371.\n",
    "    \n",
    "    d_lat, d_long = np.deg2rad(d_coords[0]), np.deg2rad(d_coords[1])\n",
    "    o_lat, o_long = np.deg2rad(o_coords[0]), np.deg2rad(o_coords[1])\n",
    "    \n",
    "    a = (np.sin((d_lat - o_lat)/2))**2 + \\\n",
    "        np.cos(d_lat)*np.cos(o_lat)*(np.sin((d_long - o_long)/2))**2\n",
    "        \n",
    "    c = 2*np.arctan2(np.sqrt(a), np.sqrt(1-a))\n",
    "    d = R*c\n",
    "    \n",
    "    return [d for i in range(length)]"
   ]
  },
  {
   "cell_type": "markdown",
   "metadata": {},
   "source": [
    "### Get data"
   ]
  },
  {
   "cell_type": "code",
   "execution_count": 7,
   "metadata": {},
   "outputs": [
    {
     "name": "stderr",
     "output_type": "stream",
     "text": [
      "/Users/jasonterry/anaconda3/lib/python3.6/site-packages/ipykernel_launcher.py:6: DeprecationWarning: \n",
      ".ix is deprecated. Please use\n",
      ".loc for label based indexing or\n",
      ".iloc for positional indexing\n",
      "\n",
      "See the documentation here:\n",
      "http://pandas.pydata.org/pandas-docs/stable/indexing.html#ix-indexer-is-deprecated\n",
      "  \n",
      "/Users/jasonterry/anaconda3/lib/python3.6/site-packages/ipykernel_launcher.py:6: DeprecationWarning: \n",
      ".ix is deprecated. Please use\n",
      ".loc for label based indexing or\n",
      ".iloc for positional indexing\n",
      "\n",
      "See the documentation here:\n",
      "http://pandas.pydata.org/pandas-docs/stable/indexing.html#ix-indexer-is-deprecated\n",
      "  \n"
     ]
    }
   ],
   "source": [
    "pairs = []\n",
    "for origin in origins:\n",
    "    for destination in destinations:\n",
    "        pairs.append((origin, destination))\n",
    "\n",
    "triples = []\n",
    "for pair in pairs:\n",
    "    for response in responses:\n",
    "        triples.append((pair[0], pair[1], response))\n",
    "        \n",
    "# Read in data\n",
    "groups = {}\n",
    "for pair in pairs:\n",
    "    groups[pair] = pd.read_csv('./data/grouped_' + str(pair) + '.csv', skipinitialspace=True)\n",
    "    groups[pair] = make_new_features(groups[pair])\n",
    "    groups[pair]['distance'] = get_distance(coordinates[pair[1]], coordinates[pair[0]], groups[pair].shape[0])\n",
    "    groups[pair] = groups[pair][all_variables]"
   ]
  },
  {
   "cell_type": "markdown",
   "metadata": {},
   "source": [
    "### Set up models and metrics"
   ]
  },
  {
   "cell_type": "code",
   "execution_count": 8,
   "metadata": {},
   "outputs": [],
   "source": [
    "models = {'LinearRegression': LinearRegression, 'BayesianRidge': BayesianRidge, \\\n",
    "          'RandomForestRegressor': RandomForestRegressor, 'KNeighborsRegressor': KNeighborsRegressor}#, 'MLPRegressor': MLPRegressor}\n",
    "r2s = {}\n",
    "rmses = {}\n",
    "\n",
    "# fit intercept, n_interations, n_estimators, num_neighbors, architecture\n",
    "arguments = {'LinearRegression': True, 'BayesianRidge': 300, 'RandomForestRegressor': 10,'KNeighborsRegressor': 6}\n",
    "            # , 'MLPRegressor': (50, 40, 35)}\n",
    "\n",
    "# Make metric dictionaries\n",
    "r2s = {}\n",
    "rmses = {}\n",
    "predictions = {}\n",
    "trues = {}\n",
    "results = {}\n",
    "for y in responses:\n",
    "    r2s[y] = {}\n",
    "    rmses[y] = {}\n",
    "    predictions[y] = {}\n",
    "    trues[y] = {}\n",
    "    results[y] = {}\n",
    "    for pair in pairs:\n",
    "        r2s[y][pair] = {}\n",
    "        rmses[y][pair] = {}\n",
    "        predictions[y][pair] = {}\n",
    "        trues[y][pair] = {}\n",
    "        results[y][pair] = {}\n",
    "\n",
    "average_rmses = {}\n",
    "for model in models:\n",
    "    average_rmses[model] = {}\n",
    "    for response in responses:\n",
    "        average_rmses[model][response] = 0"
   ]
  },
  {
   "cell_type": "markdown",
   "metadata": {},
   "source": [
    "### Run models"
   ]
  },
  {
   "cell_type": "code",
   "execution_count": 32,
   "metadata": {},
   "outputs": [],
   "source": [
    "for pair in pairs:\n",
    "    for model in models:\n",
    "        global this_model\n",
    "        this_model = models[model]\n",
    "        X = groups[pair][features]\n",
    "        X_train = X.iloc[:int(0.8*X.shape[0]), :]\n",
    "        X_test = X.iloc[int(0.8*X.shape[0]):, :]\n",
    "        for response in responses:\n",
    "            y = np.log10(groups[pair][response])\n",
    "            y_train = y.iloc[:int(0.8*y.shape[0])]\n",
    "            y_test = y.iloc[int(0.8*y.shape[0]):]\n",
    "            regressor = globals()[str(model)](arguments[model])\n",
    "            fit = regressor.fit(X_train, y_train)\n",
    "            y_pred = fit.predict(X_test)\n",
    "            r2, rmse = get_metrics(y_test, y_pred)\n",
    "            r2s[response][pair][model] = r2\n",
    "            rmses[response][pair][model] = rmse\n",
    "            predictions[response][pair][model] = y_pred\n",
    "            trues[response][pair][model] = y_test\n",
    "            average_rmses[model][response] += rmse\n",
    "            results[response][pair][model] = [y_pred, y_test]"
   ]
  },
  {
   "cell_type": "code",
   "execution_count": 10,
   "metadata": {},
   "outputs": [],
   "source": [
    "for pair in pairs:\n",
    "    for response in r2s:\n",
    "        for model in r2s[response][pair]:\n",
    "#             print('model = %s, response = %s, pair = %s, R^2 = %.4f' % (model, key, str(pair), r2s[response][pair][model]))\n",
    "            pass"
   ]
  },
  {
   "cell_type": "code",
   "execution_count": 11,
   "metadata": {},
   "outputs": [],
   "source": [
    "for pair in pairs:\n",
    "    for response in rmses:\n",
    "        for model in rmses[response][pair]:\n",
    "#             print('model = %s, response = %s, pair = %s, RMSE = %.4f' % (model, key, str(pair), rmses[response][pair][model]))\n",
    "            pass"
   ]
  },
  {
   "cell_type": "code",
   "execution_count": 33,
   "metadata": {},
   "outputs": [
    {
     "name": "stdout",
     "output_type": "stream",
     "text": [
      "Average RMSE for LinearRegression for response Value is 652.7686\n",
      "Average RMSE for LinearRegression for response next_month is 602.5893\n",
      "Average RMSE for LinearRegression for response two_months_later is 560.5713\n",
      "Average RMSE for BayesianRidge for response Value is 588.6495\n",
      "Average RMSE for BayesianRidge for response next_month is 492.6234\n",
      "Average RMSE for BayesianRidge for response two_months_later is 458.3799\n",
      "Average RMSE for RandomForestRegressor for response Value is 114.2121\n",
      "Average RMSE for RandomForestRegressor for response next_month is 105.8065\n",
      "Average RMSE for RandomForestRegressor for response two_months_later is 102.4441\n",
      "Average RMSE for KNeighborsRegressor for response Value is 180.6672\n",
      "Average RMSE for KNeighborsRegressor for response next_month is 179.4996\n",
      "Average RMSE for KNeighborsRegressor for response two_months_later is 178.8261\n",
      "Minimum RMSE average is 102.4441 using RandomForestRegressor\n"
     ]
    }
   ],
   "source": [
    "min_avg = 1e6\n",
    "min_model = ''\n",
    "for model in average_rmses:\n",
    "    for response in responses:\n",
    "        average_rmses[model][response] = np.mean(average_rmses[model][response])\n",
    "        print('Average RMSE for %s for response %s is %.4f' %(model, response, average_rmses[model][response]))\n",
    "        if average_rmses[model][response] < min_avg:\n",
    "            min_avg = average_rmses[model][response]\n",
    "            min_model = model\n",
    "print('Minimum RMSE average is %.4f using %s' %(min_avg, min_model))"
   ]
  },
  {
   "cell_type": "markdown",
   "metadata": {},
   "source": [
    "### Visualize results"
   ]
  },
  {
   "cell_type": "code",
   "execution_count": 25,
   "metadata": {},
   "outputs": [],
   "source": [
    "import dash\n",
    "import dash_core_components as dcc\n",
    "import dash_html_components as html\n",
    "import plotly.graph_objs as go\n",
    "\n",
    "import geopandas\n",
    "from mpl_toolkits.basemap import Basemap\n",
    "import plotly\n",
    "import dash\n",
    "import plotly.offline as ply\n",
    "from plotly.graph_objs import *\n",
    "from scipy.io import netcdf\n",
    "import scipy.stats as stat"
   ]
  },
  {
   "cell_type": "code",
   "execution_count": 34,
   "metadata": {},
   "outputs": [],
   "source": [
    "quads = []\n",
    "for pair in pairs:\n",
    "    for model in models:\n",
    "        for response in responses:\n",
    "            quads.append((pair[0], pair[1], response, model, 0))\n",
    "            quads.append((pair[0], pair[1], response, model, 1))"
   ]
  },
  {
   "cell_type": "code",
   "execution_count": 40,
   "metadata": {},
   "outputs": [
    {
     "ename": "TypeError",
     "evalue": "unhashable type: 'slice'",
     "output_type": "error",
     "traceback": [
      "\u001b[0;31m---------------------------------------------------------------------------\u001b[0m",
      "\u001b[0;31mTypeError\u001b[0m                                 Traceback (most recent call last)",
      "\u001b[0;32m<ipython-input-40-609627b28075>\u001b[0m in \u001b[0;36m<module>\u001b[0;34m()\u001b[0m\n\u001b[0;32m----> 1\u001b[0;31m \u001b[0mresults\u001b[0m\u001b[0;34m[\u001b[0m\u001b[0;34m:\u001b[0m\u001b[0;36m5\u001b[0m\u001b[0;34m]\u001b[0m\u001b[0;34m\u001b[0m\u001b[0m\n\u001b[0m",
      "\u001b[0;31mTypeError\u001b[0m: unhashable type: 'slice'"
     ]
    }
   ],
   "source": []
  },
  {
   "cell_type": "code",
   "execution_count": 38,
   "metadata": {},
   "outputs": [
    {
     "data": {
      "text/plain": [
       "[('DR_Congo', 'USA', 'Value', 'LinearRegression', 0),\n",
       " ('DR_Congo', 'USA', 'Value', 'LinearRegression', 1),\n",
       " ('DR_Congo', 'USA', 'next_month', 'LinearRegression', 0),\n",
       " ('DR_Congo', 'USA', 'next_month', 'LinearRegression', 1),\n",
       " ('DR_Congo', 'USA', 'two_months_later', 'LinearRegression', 0)]"
      ]
     },
     "execution_count": 38,
     "metadata": {},
     "output_type": "execute_result"
    }
   ],
   "source": [
    "quads[:5]"
   ]
  },
  {
   "cell_type": "code",
   "execution_count": 35,
   "metadata": {},
   "outputs": [],
   "source": [
    "fig = go.FigureWidget(\n",
    "    data=[dict(\n",
    "        x = groups[(quad[0], quad[1])]['month_number'][int(0.8*groups[(quad[0], quad[1])].shape[0]):,],\n",
    "        y = results[quad[2]][(quad[0], quad[1])][quad[3]][quad[4]],\n",
    "        name = str(quad), \n",
    "        mode = 'markers',\n",
    "        opacity = 0.6\n",
    "    ) for quad in quads\n",
    "    ]\n",
    ")\n",
    "years = [2000 + i for i in range(18)]\n",
    "marker_places= [12*i for i in range(18)]\n",
    "tick_labs = [str(year) for year in years]\n",
    "fig.layout.hovermode = 'closest'\n",
    "fig.layout.yaxis.title = 'Refugees Taken In'\n",
    "# fig.layout.xaxis.title = 'Month'\n",
    "fig.layout.xaxis.ticktext = tick_labs\n",
    "fig.layout.xaxis.tickvals = marker_places"
   ]
  },
  {
   "cell_type": "code",
   "execution_count": 36,
   "metadata": {},
   "outputs": [
    {
     "data": {
      "application/vnd.jupyter.widget-view+json": {
       "model_id": "a4063a372fc248b6980c1a9dcd059f17",
       "version_major": 2,
       "version_minor": 0
      },
      "text/plain": [
       "interactive(children=(Dropdown(description='dest', options=('USA', 'UK', 'France', 'Canada', 'Italy', 'Germany…"
      ]
     },
     "metadata": {},
     "output_type": "display_data"
    },
    {
     "data": {
      "application/vnd.jupyter.widget-view+json": {
       "model_id": "a73e545f302c4f179b751db4b0902c46",
       "version_major": 2,
       "version_minor": 0
      },
      "text/plain": [
       "FigureWidget({\n",
       "    'data': [{'mode': 'markers',\n",
       "              'name': \"('DR_Congo', 'USA', 'Value', 'LinearReg…"
      ]
     },
     "metadata": {},
     "output_type": "display_data"
    }
   ],
   "source": [
    "from ipywidgets import interact\n",
    "\n",
    "@interact(dest = destinations, org = origins, time = responses, model = list(models.keys()), data_type = ['Predicted', 'True']) # 0 = pred, 1 = true\n",
    "def update_arguments(dest=['Canada'], org = [\"Syria\"], time = ['Value'], model = [\"LinearRegression\"], data_type = ['Predicted']):\n",
    "    \n",
    "    if data_type == 'Predicted':\n",
    "        data_index = 0\n",
    "    else:\n",
    "        data_index = 1\n",
    "    \n",
    "    for i in range(len(fig.data)):\n",
    "        this_pair = (org, dest)\n",
    "        fig.data[i].x = groups[this_pair]['month_number'][int(0.8*groups[this_pair].shape[0]):,],\n",
    "        fig.data[i].y = results[time][this_pair][model][data_index]\\\n",
    "                         + \\\n",
    "                        np.random.rand(len(results[time][this_pair][model][data_index]))\n",
    "        if time[0] == 'Value':\n",
    "            time_frame = 'This month'\n",
    "        elif time[0] == 'next_month':\n",
    "            time_frame = 'Next Month'\n",
    "        else:\n",
    "            time_frame = 'Two Months From Now'\n",
    "    \n",
    "    fig.layout.title = 'Refugees taken in by %s from %s predicting %s, %s values ' %(dest, org, time_frame, data_type)\n",
    "fig"
   ]
  },
  {
   "cell_type": "code",
   "execution_count": 19,
   "metadata": {},
   "outputs": [
    {
     "ename": "ValueError",
     "evalue": "too many values to unpack (expected 2)",
     "output_type": "error",
     "traceback": [
      "\u001b[0;31m---------------------------------------------------------------------------\u001b[0m",
      "\u001b[0;31mValueError\u001b[0m                                Traceback (most recent call last)",
      "\u001b[0;32m<ipython-input-19-1ae926484684>\u001b[0m in \u001b[0;36m<module>\u001b[0;34m()\u001b[0m\n\u001b[0;32m----> 1\u001b[0;31m \u001b[0;32mfor\u001b[0m \u001b[0mx\u001b[0m\u001b[0;34m,\u001b[0m\u001b[0my\u001b[0m \u001b[0;32min\u001b[0m \u001b[0;34m[\u001b[0m\u001b[0;36m1\u001b[0m\u001b[0;34m,\u001b[0m\u001b[0;36m2\u001b[0m\u001b[0;34m,\u001b[0m\u001b[0;36m3\u001b[0m\u001b[0;34m]\u001b[0m\u001b[0;34m,\u001b[0m \u001b[0;34m[\u001b[0m\u001b[0;36m4\u001b[0m\u001b[0;34m,\u001b[0m\u001b[0;36m5\u001b[0m\u001b[0;34m]\u001b[0m\u001b[0;34m:\u001b[0m\u001b[0;34m\u001b[0m\u001b[0m\n\u001b[0m\u001b[1;32m      2\u001b[0m     \u001b[0mprint\u001b[0m\u001b[0;34m(\u001b[0m\u001b[0mx\u001b[0m \u001b[0;34m+\u001b[0m \u001b[0my\u001b[0m\u001b[0;34m)\u001b[0m\u001b[0;34m\u001b[0m\u001b[0m\n",
      "\u001b[0;31mValueError\u001b[0m: too many values to unpack (expected 2)"
     ]
    }
   ],
   "source": [
    "for x,y in [1,2,3], [4,5]:\n",
    "    print(x + y)"
   ]
  },
  {
   "cell_type": "code",
   "execution_count": null,
   "metadata": {},
   "outputs": [],
   "source": [
    "# results['Value'][pair][model][0]\n",
    "this_pair = pair\n",
    "time= 'Value'\n",
    "len(results[time][this_pair][model][0])\n",
    "data_index = 0"
   ]
  },
  {
   "cell_type": "code",
   "execution_count": null,
   "metadata": {},
   "outputs": [],
   "source": [
    "len(groups[this_pair]['month_number'][int(0.8*groups[this_pair].shape[0]):,])"
   ]
  },
  {
   "cell_type": "code",
   "execution_count": null,
   "metadata": {},
   "outputs": [],
   "source": [
    "len(groups[this_pair]['month_number'][int(0.8*groups[this_pair].shape[0]):,])"
   ]
  },
  {
   "cell_type": "code",
   "execution_count": null,
   "metadata": {},
   "outputs": [],
   "source": []
  }
 ],
 "metadata": {
  "kernelspec": {
   "display_name": "Python 3",
   "language": "python",
   "name": "python3"
  },
  "language_info": {
   "codemirror_mode": {
    "name": "ipython",
    "version": 3
   },
   "file_extension": ".py",
   "mimetype": "text/x-python",
   "name": "python",
   "nbconvert_exporter": "python",
   "pygments_lexer": "ipython3",
   "version": "3.6.2"
  }
 },
 "nbformat": 4,
 "nbformat_minor": 2
}
