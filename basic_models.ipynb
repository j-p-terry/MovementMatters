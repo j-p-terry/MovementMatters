{
 "cells": [
  {
   "cell_type": "code",
   "execution_count": 1,
   "metadata": {},
   "outputs": [],
   "source": [
    "import matplotlib.pyplot as plt\n",
    "import pandas as pd\n",
    "import numpy as np\n",
    "import seaborn as sb\n",
    "import random\n",
    "from sklearn.ensemble import RandomForestRegressor\n",
    "from sklearn.neural_network import MLPRegressor\n",
    "from sklearn.linear_model import LinearRegression\n",
    "from sklearn.linear_model import BayesianRidge\n",
    "from sklearn.neighbors import KNeighborsRegressor\n",
    "# from sklearn.kernel_ridge import KernelRidge\n",
    "from sklearn import metrics\n",
    "%matplotlib inline"
   ]
  },
  {
   "cell_type": "code",
   "execution_count": 2,
   "metadata": {},
   "outputs": [],
   "source": [
    "origins = [\"DR_Congo\", \"Afghanistan\", \"Syria\", \"Myanmar\", \"Sudan\"]\n",
    "destinations = [\"USA\", \"UK\", \"France\", \"Canada\", \"Italy\", \"Germany\"]\n",
    "\n",
    "org_codes = [\"COD\", \"AFG\", \"SYR\", \"MMR\", \"SDN\"]\n",
    "dest_codes = [\"USA\", \"GBR\", \"FRA\", \"CAN\", \"ITA\",\"DEU\"]\n",
    "\n",
    "years = [2000 + i for i in range(19)]\n",
    "\n",
    "features = [\n",
    " 'applied',\n",
    " 'accepted',\n",
    " 'Rejected',\n",
    " 'decisions',\n",
    " 'month_number',\n",
    " 'month_id',\n",
    " 'deaths',\n",
    " 'last_month',\n",
    " 'two_months_ago',\n",
    " 'distance']\n",
    "\n",
    "responses = ['Value', 'next_month', 'two_months_later']\n",
    "\n",
    "all_variables = features + responses\n",
    "\n",
    "months = [\"Jan\", \"Feb\", \"Mar\", \"Apr\", \"May\", \"Jun\", \"Jul\", \"Aug\", \"Sept\", \"Oct\", \"Nov\", \"Dec\"]\n",
    "\n",
    "combos = []\n",
    "for year in years:\n",
    "    for month in months:\n",
    "        combos.append((month, year))"
   ]
  },
  {
   "cell_type": "code",
   "execution_count": 3,
   "metadata": {},
   "outputs": [],
   "source": [
    "coordinates = {}\n",
    "coordinates[\"Syria\"] = (34.8, 38.997)\n",
    "coordinates[\"DR_Congo\"] = (-4.0383, 21.759)\n",
    "coordinates[\"Afghanistan\"] = (33.939, 67.71)\n",
    "coordinates[\"Sudan\"] = (12.863, 30.218)\n",
    "coordinates[\"Myanmar\"] = (21.9162, 95.956)\n",
    "\n",
    "coordinates[\"USA\"] = (37.09, -95.713)\n",
    "coordinates[\"UK\"] = (55.378, -3.436)\n",
    "coordinates[\"France\"] = (46.228, 2.214)\n",
    "coordinates[\"Germany\"] = (51.166, 10.4515)\n",
    "coordinates[\"Italy\"] = (41.872, 12.5674)\n",
    "coordinates[\"Canada\"] = (56.1304, -106.3468)\n",
    "\n",
    "\n",
    "dest_longs = [coordinates[dest][1] for dest in destinations]\n",
    "dest_lats = [coordinates[dest][0] for dest in destinations]\n",
    "\n",
    "org_longs = [coordinates[org][1] for org in origins]\n",
    "org_lats = [coordinates[org][0] for org in origins]"
   ]
  },
  {
   "cell_type": "code",
   "execution_count": 4,
   "metadata": {},
   "outputs": [],
   "source": [
    "def get_metrics(y_test, y_pred):\n",
    "\n",
    "    \"\"\"Gets the metrics of the fit\"\"\"\n",
    "\n",
    "    if min(y_pred) < 0:\n",
    "#         print(min(y_pred))\n",
    "        y_pred += abs(min(y_pred))\n",
    "    r2 = metrics.r2_score(y_test, y_pred)\n",
    "    r2 = r2.__round__(4)\n",
    "    rmse = np.sqrt(metrics.mean_squared_error(y_test, y_pred))\n",
    "    rmse = rmse.__round__(4)\n",
    "\n",
    "    return r2, rmse"
   ]
  },
  {
   "cell_type": "code",
   "execution_count": 5,
   "metadata": {},
   "outputs": [],
   "source": [
    "def make_new_features(df):\n",
    "    \n",
    "    '''Makes new features for grouped dataframe'''\n",
    "    \n",
    "    for month in months:\n",
    "        df.ix[df.Month.str.contains(month), ['Month']] = month\n",
    "    month_ids = []\n",
    "    d_lats = []\n",
    "    d_longs = []\n",
    "    o_lats = []\n",
    "    o_longs = []\n",
    "    for index, row in df.iterrows():\n",
    "        month = row.Month\n",
    "        month_ids.append(months.index(month) + 1)\n",
    "        d_lats.append(coordinates[row.destination][0])\n",
    "        o_lats.append(coordinates[row.Origin][0])\n",
    "        d_longs.append(coordinates[row.destination][1])\n",
    "        o_longs.append(coordinates[row.Origin][1])\n",
    "    df['month_id'] = month_ids\n",
    "    df['month_number'] =12*(df['Year']-2000) + df['month_id']\n",
    "    df['dest_lat'] = d_lats\n",
    "    df['dest_long'] = d_longs\n",
    "    df['org_lat'] = o_lats\n",
    "    df['org_long'] = o_longs\n",
    "    df = df.sort_values(by='month_number')\n",
    "    \n",
    "    return df"
   ]
  },
  {
   "cell_type": "code",
   "execution_count": 6,
   "metadata": {},
   "outputs": [],
   "source": [
    "def get_distance(o_coords, d_coords, length):\n",
    "    '''Gets the distance between two countries using Havrsine formula'''\n",
    "    # Earth's radius in km\n",
    "    R = 6371.\n",
    "    \n",
    "    d_lat, d_long = np.deg2rad(d_coords[0]), np.deg2rad(d_coords[1])\n",
    "    o_lat, o_long = np.deg2rad(o_coords[0]), np.deg2rad(o_coords[1])\n",
    "    \n",
    "    a = (np.sin((d_lat - o_lat)/2))**2 + \\\n",
    "        np.cos(d_lat)*np.cos(o_lat)*(np.sin((d_long - o_long)/2))**2\n",
    "        \n",
    "    c = 2*np.arctan2(np.sqrt(a), np.sqrt(1-a))\n",
    "    d = R*c\n",
    "    \n",
    "    return [d for i in range(length)]"
   ]
  },
  {
   "cell_type": "markdown",
   "metadata": {},
   "source": [
    "### Get data"
   ]
  },
  {
   "cell_type": "code",
   "execution_count": 7,
   "metadata": {},
   "outputs": [
    {
     "name": "stderr",
     "output_type": "stream",
     "text": [
      "/Users/jasonterry/anaconda3/lib/python3.6/site-packages/ipykernel_launcher.py:6: DeprecationWarning: \n",
      ".ix is deprecated. Please use\n",
      ".loc for label based indexing or\n",
      ".iloc for positional indexing\n",
      "\n",
      "See the documentation here:\n",
      "http://pandas.pydata.org/pandas-docs/stable/indexing.html#ix-indexer-is-deprecated\n",
      "  \n",
      "/Users/jasonterry/anaconda3/lib/python3.6/site-packages/ipykernel_launcher.py:6: DeprecationWarning: \n",
      ".ix is deprecated. Please use\n",
      ".loc for label based indexing or\n",
      ".iloc for positional indexing\n",
      "\n",
      "See the documentation here:\n",
      "http://pandas.pydata.org/pandas-docs/stable/indexing.html#ix-indexer-is-deprecated\n",
      "  \n"
     ]
    }
   ],
   "source": [
    "pairs = []\n",
    "for origin in origins:\n",
    "    for destination in destinations:\n",
    "        pairs.append((origin, destination))\n",
    "\n",
    "# Read in data\n",
    "groups = {}\n",
    "for pair in pairs:\n",
    "    groups[pair] = pd.read_csv('./data/grouped_' + str(pair) + '.csv', skipinitialspace=True)\n",
    "    groups[pair] = make_new_features(groups[pair])\n",
    "    groups[pair]['distance'] = get_distance(coordinates[pair[1]], coordinates[pair[0]], groups[pair].shape[0])\n",
    "    groups[pair] = groups[pair][all_variables]"
   ]
  },
  {
   "cell_type": "markdown",
   "metadata": {},
   "source": [
    "### Set up models and metrics"
   ]
  },
  {
   "cell_type": "code",
   "execution_count": 8,
   "metadata": {},
   "outputs": [],
   "source": [
    "models = {'LinearRegression': LinearRegression, 'BayesianRidge': BayesianRidge, \\\n",
    "          'RandomForestRegressor': RandomForestRegressor, 'KNeighborsRegressor': KNeighborsRegressor}#, 'MLPRegressor': MLPRegressor}\n",
    "r2s = {}\n",
    "rmses = {}\n",
    "\n",
    "# fit intercept, n_interations, n_estimators, num_neighbors, architecture\n",
    "arguments = {'LinearRegression': True, 'BayesianRidge': 300, 'RandomForestRegressor': 10,'KNeighborsRegressor': 6}\n",
    "            # , 'MLPRegressor': (50, 40, 35)}\n",
    "\n",
    "# Make metric dictionaries\n",
    "r2s = {}\n",
    "rmses = {}\n",
    "for y in responses:\n",
    "    r2s[y] = {}\n",
    "    rmses[y] = {}"
   ]
  },
  {
   "cell_type": "markdown",
   "metadata": {},
   "source": [
    "### Run models"
   ]
  },
  {
   "cell_type": "code",
   "execution_count": 14,
   "metadata": {},
   "outputs": [],
   "source": [
    "for pair in pairs:\n",
    "    for model in models:\n",
    "        global this_model\n",
    "        this_model = models[model]\n",
    "        X = groups[pair][features]\n",
    "        X_train = X.iloc[:int(0.8*X.shape[0]), :]\n",
    "        X_test = X.iloc[int(0.8*X.shape[0]):, :]\n",
    "        for response in responses:\n",
    "            y = np.log10(groups[pair][response])\n",
    "            y_train = y.iloc[:int(0.8*y.shape[0])]\n",
    "            y_test = y.iloc[int(0.8*y.shape[0]):]\n",
    "            regressor = globals()[str(model)](arguments[model])\n",
    "            fit = regressor.fit(X_train, y_train)\n",
    "            y_pred = fit.predict(X_test)\n",
    "            r2, rmse = get_metrics(y_test, y_pred)\n",
    "            r2s[response][model] = r2\n",
    "            rmses[response][model] = rmse"
   ]
  },
  {
   "cell_type": "code",
   "execution_count": 19,
   "metadata": {},
   "outputs": [
    {
     "name": "stdout",
     "output_type": "stream",
     "text": [
      "model = LinearRegression, response = Value, R^2 = -65.6149\n",
      "model = BayesianRidge, response = Value, R^2 = -43.2771\n",
      "model = RandomForestRegressor, response = Value, R^2 = -1.2760\n",
      "model = KNeighborsRegressor, response = Value, R^2 = -3.6101\n",
      "model = LinearRegression, response = next_month, R^2 = -24.9477\n",
      "model = BayesianRidge, response = next_month, R^2 = -16.3529\n",
      "model = RandomForestRegressor, response = next_month, R^2 = -2.4440\n",
      "model = KNeighborsRegressor, response = next_month, R^2 = -2.7374\n",
      "model = LinearRegression, response = two_months_later, R^2 = -30.0853\n",
      "model = BayesianRidge, response = two_months_later, R^2 = -26.6572\n",
      "model = RandomForestRegressor, response = two_months_later, R^2 = -1.3227\n",
      "model = KNeighborsRegressor, response = two_months_later, R^2 = -1.9690\n"
     ]
    }
   ],
   "source": [
    "for key in r2s:\n",
    "    for model in r2s[key]:\n",
    "        print('model = %s, response = %s, R^2 = %.4f' % (model, key, r2s[key][model]))"
   ]
  },
  {
   "cell_type": "code",
   "execution_count": 20,
   "metadata": {},
   "outputs": [
    {
     "name": "stdout",
     "output_type": "stream",
     "text": [
      "model = LinearRegression, response = Value, R^2 = 2.5261\n",
      "model = BayesianRidge, response = Value, R^2 = 2.0595\n",
      "model = RandomForestRegressor, response = Value, R^2 = 0.4669\n",
      "model = KNeighborsRegressor, response = Value, R^2 = 0.6645\n",
      "model = LinearRegression, response = next_month, R^2 = 1.5999\n",
      "model = BayesianRidge, response = next_month, R^2 = 1.3084\n",
      "model = RandomForestRegressor, response = next_month, R^2 = 0.5829\n",
      "model = KNeighborsRegressor, response = next_month, R^2 = 0.6072\n",
      "model = LinearRegression, response = two_months_later, R^2 = 1.8377\n",
      "model = BayesianRidge, response = two_months_later, R^2 = 1.7334\n",
      "model = RandomForestRegressor, response = two_months_later, R^2 = 0.5023\n",
      "model = KNeighborsRegressor, response = two_months_later, R^2 = 0.5679\n"
     ]
    }
   ],
   "source": [
    "for key in rmses:\n",
    "    for model in rmses[key]:\n",
    "        print('model = %s, response = %s, R^2 = %.4f' % (model, key, rmses[key][model]))"
   ]
  },
  {
   "cell_type": "code",
   "execution_count": null,
   "metadata": {},
   "outputs": [],
   "source": []
  }
 ],
 "metadata": {
  "kernelspec": {
   "display_name": "Python 3",
   "language": "python",
   "name": "python3"
  },
  "language_info": {
   "codemirror_mode": {
    "name": "ipython",
    "version": 3
   },
   "file_extension": ".py",
   "mimetype": "text/x-python",
   "name": "python",
   "nbconvert_exporter": "python",
   "pygments_lexer": "ipython3",
   "version": "3.6.2"
  }
 },
 "nbformat": 4,
 "nbformat_minor": 2
}
